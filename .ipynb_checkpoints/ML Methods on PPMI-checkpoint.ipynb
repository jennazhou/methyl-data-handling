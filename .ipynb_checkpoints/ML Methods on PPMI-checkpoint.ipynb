{
 "cells": [
  {
   "cell_type": "markdown",
   "metadata": {},
   "source": [
    "## Methods start here"
   ]
  },
  {
   "cell_type": "code",
   "execution_count": 1,
   "metadata": {},
   "outputs": [],
   "source": [
    "import pandas as pd\n",
    "import numpy as np\n"
   ]
  },
  {
   "cell_type": "code",
   "execution_count": 2,
   "metadata": {
    "scrolled": false
   },
   "outputs": [
    {
     "name": "stderr",
     "output_type": "stream",
     "text": [
      "/home/rz296/miniconda3/envs/partII/lib/python3.6/site-packages/IPython/core/interactiveshell.py:3063: DtypeWarning: Columns (1,2,3,4,5,6,7,8,9,10,11,12,13,14,15,16,17,18,19,20,21,22,23,24,25,26,27,28,29,30,31,32,33,34,35,36,37,38,39,40,41,42,43,44,45,46,47,48,49,50,51,52,53,54,55,56,57,58,59,60,61,62,63,64,65,66,67,68,69,70,71,72,73,74,75,76,77,78,79,80,81,82,83,84,85,86,87,88,89,90,91,92,93,94,95,96,97,98,99,100,101,102,103,104,105,106,107,108,109,110,111,112,113,114,115,116,117,118,119,120,121,122,123,124,125,126,127,128,129,130,131,132,133,134,135,136,137,138,139,140,141,142,143,144,145,146,147,148,149,150,151,152,153,154,155,156,157,158,159,160,161,162,163,164,165,166,167,168,169,170,171,172,173,174,175,176,177,178,179,180,181,182,183,184,185,186,187,188,189,190,191,192,193,194,195,196,197,198,199,200,201,202,203,204,205,206,207,208,209,210,211,212,213,214,215,216,217,218,219,220,221,222,223,224,225,226,227,228,229,230,231,232,233,234,235,236,237,238,239,240,241,242,243,244,245,246,247,248,249,250,251,252,253,254,255,256,257,258,259,260,261,262,263,264,265,266,267,268,269,270,271,272,273,274,275,276,277,278,279,280,281,282,283,284,285,286,287,288,289,290,291,292,293,294,295,296,297,298,299,300,301,302,303,304,305,306,307,308,309,310,311,312,313,314,315,316,317,318,319,320,321,322,323,324,325,326,327,328,329,330,331,332,333,334,335,336,337,338,339,340,341,342,343,344,345,346,347,348,349,350,351,352,353,354,355,356,357,358,359,360,361,362,363,364,365,366,367,368,369,370,371,372,373,374,375,376,377,378,379,380,381,382,383,384,385,386,387,388,389,390,391,392,393,394,395,396,397,398,399,400,401,402,403,404,405,406,407,408,409,410,411,412,413,414,415,416,417,418,419,420,421,422,423,424,425,426,427,428,429,430,431,432,433,434,435,436) have mixed types.Specify dtype option on import or set low_memory=False.\n",
      "  interactivity=interactivity, compiler=compiler, result=result)\n"
     ]
    },
    {
     "data": {
      "text/html": [
       "<div>\n",
       "<style scoped>\n",
       "    .dataframe tbody tr th:only-of-type {\n",
       "        vertical-align: middle;\n",
       "    }\n",
       "\n",
       "    .dataframe tbody tr th {\n",
       "        vertical-align: top;\n",
       "    }\n",
       "\n",
       "    .dataframe thead th {\n",
       "        text-align: right;\n",
       "    }\n",
       "</style>\n",
       "<table border=\"1\" class=\"dataframe\">\n",
       "  <thead>\n",
       "    <tr style=\"text-align: right;\">\n",
       "      <th>Sentrix_position</th>\n",
       "      <th>cg02168685</th>\n",
       "      <th>cg08732684</th>\n",
       "      <th>cg10284115</th>\n",
       "      <th>cg16348003</th>\n",
       "      <th>cg01990013</th>\n",
       "      <th>cg18978661</th>\n",
       "      <th>cg16622353</th>\n",
       "      <th>cg11642412</th>\n",
       "      <th>cg16654771</th>\n",
       "      <th>cg00013952</th>\n",
       "      <th>...</th>\n",
       "      <th>cg24173064</th>\n",
       "      <th>cg19473428</th>\n",
       "      <th>cg02182587</th>\n",
       "      <th>cg11188916</th>\n",
       "      <th>cg01861377</th>\n",
       "      <th>cg11779501</th>\n",
       "      <th>cg05170070</th>\n",
       "      <th>cg17737728</th>\n",
       "      <th>cg21770145</th>\n",
       "      <th>Category</th>\n",
       "    </tr>\n",
       "  </thead>\n",
       "  <tbody>\n",
       "    <tr>\n",
       "      <th>200973410159_R03C01</th>\n",
       "      <td>0.181336</td>\n",
       "      <td>0.820307</td>\n",
       "      <td>0.869102</td>\n",
       "      <td>0.790106</td>\n",
       "      <td>0.859454</td>\n",
       "      <td>0.895517</td>\n",
       "      <td>0.811537</td>\n",
       "      <td>0.154034</td>\n",
       "      <td>0.0911408</td>\n",
       "      <td>0.320366</td>\n",
       "      <td>...</td>\n",
       "      <td>0.890418147061535</td>\n",
       "      <td>0.927857306429379</td>\n",
       "      <td>0.799382530396531</td>\n",
       "      <td>0.8054428195633879</td>\n",
       "      <td>0.622875319015292</td>\n",
       "      <td>0.9463008066586199</td>\n",
       "      <td>0.67113798026978</td>\n",
       "      <td>0.894916850078534</td>\n",
       "      <td>0.9039691384070251</td>\n",
       "      <td>HC</td>\n",
       "    </tr>\n",
       "    <tr>\n",
       "      <th>200991620021_R01C01</th>\n",
       "      <td>0.202823</td>\n",
       "      <td>0.749174</td>\n",
       "      <td>0.831778</td>\n",
       "      <td>0.599227</td>\n",
       "      <td>0.855764</td>\n",
       "      <td>0.850379</td>\n",
       "      <td>0.764679</td>\n",
       "      <td>0.164602</td>\n",
       "      <td>0.0580419</td>\n",
       "      <td>0.358467</td>\n",
       "      <td>...</td>\n",
       "      <td>0.898376562421111</td>\n",
       "      <td>0.8894105755342739</td>\n",
       "      <td>0.8322661913188779</td>\n",
       "      <td>0.713991620988404</td>\n",
       "      <td>0.530804598098317</td>\n",
       "      <td>0.9235490317097059</td>\n",
       "      <td>0.539385993509384</td>\n",
       "      <td>0.819174708964708</td>\n",
       "      <td>0.8531702856165259</td>\n",
       "      <td>PD</td>\n",
       "    </tr>\n",
       "    <tr>\n",
       "      <th>200991620021_R03C01</th>\n",
       "      <td>0.224653</td>\n",
       "      <td>0.792392</td>\n",
       "      <td>0.831574</td>\n",
       "      <td>0.753949</td>\n",
       "      <td>0.87098</td>\n",
       "      <td>0.889025</td>\n",
       "      <td>0.757706</td>\n",
       "      <td>0.15644</td>\n",
       "      <td>0.0504965</td>\n",
       "      <td>0.558762</td>\n",
       "      <td>...</td>\n",
       "      <td>0.889234597132543</td>\n",
       "      <td>0.921692457445995</td>\n",
       "      <td>0.8331455912971759</td>\n",
       "      <td>0.800237882151418</td>\n",
       "      <td>0.596883866310545</td>\n",
       "      <td>0.9374831275089909</td>\n",
       "      <td>0.634421960371285</td>\n",
       "      <td>0.8503420988564059</td>\n",
       "      <td>0.8405773134158481</td>\n",
       "      <td>PD</td>\n",
       "    </tr>\n",
       "    <tr>\n",
       "      <th>200989060105_R03C01</th>\n",
       "      <td>0.160047</td>\n",
       "      <td>0.811205</td>\n",
       "      <td>0.843772</td>\n",
       "      <td>0.716708</td>\n",
       "      <td>0.871558</td>\n",
       "      <td>0.879034</td>\n",
       "      <td>0.789269</td>\n",
       "      <td>0.165674</td>\n",
       "      <td>0.049425</td>\n",
       "      <td>0.697755</td>\n",
       "      <td>...</td>\n",
       "      <td>0.9086852961554159</td>\n",
       "      <td>0.9158887376822321</td>\n",
       "      <td>0.8418098065952501</td>\n",
       "      <td>0.821639815705984</td>\n",
       "      <td>0.573337419541095</td>\n",
       "      <td>0.945671469091769</td>\n",
       "      <td>0.65676323535506</td>\n",
       "      <td>0.857961378724338</td>\n",
       "      <td>0.8999614071096271</td>\n",
       "      <td>PD</td>\n",
       "    </tr>\n",
       "    <tr>\n",
       "      <th>200989060135_R07C01</th>\n",
       "      <td>0.09507</td>\n",
       "      <td>0.802935</td>\n",
       "      <td>0.834807</td>\n",
       "      <td>0.759217</td>\n",
       "      <td>0.848119</td>\n",
       "      <td>0.845383</td>\n",
       "      <td>0.775941</td>\n",
       "      <td>0.141665</td>\n",
       "      <td>0.0410359</td>\n",
       "      <td>0.629899</td>\n",
       "      <td>...</td>\n",
       "      <td>0.912689347675698</td>\n",
       "      <td>0.901105957264047</td>\n",
       "      <td>0.798531861700428</td>\n",
       "      <td>0.785818457964235</td>\n",
       "      <td>0.509175428667898</td>\n",
       "      <td>0.9329635476324729</td>\n",
       "      <td>0.555333835173846</td>\n",
       "      <td>0.87865924322434</td>\n",
       "      <td>0.885286690861348</td>\n",
       "      <td>HC</td>\n",
       "    </tr>\n",
       "    <tr>\n",
       "      <th>...</th>\n",
       "      <td>...</td>\n",
       "      <td>...</td>\n",
       "      <td>...</td>\n",
       "      <td>...</td>\n",
       "      <td>...</td>\n",
       "      <td>...</td>\n",
       "      <td>...</td>\n",
       "      <td>...</td>\n",
       "      <td>...</td>\n",
       "      <td>...</td>\n",
       "      <td>...</td>\n",
       "      <td>...</td>\n",
       "      <td>...</td>\n",
       "      <td>...</td>\n",
       "      <td>...</td>\n",
       "      <td>...</td>\n",
       "      <td>...</td>\n",
       "      <td>...</td>\n",
       "      <td>...</td>\n",
       "      <td>...</td>\n",
       "      <td>...</td>\n",
       "    </tr>\n",
       "    <tr>\n",
       "      <th>201004820064_R01C01</th>\n",
       "      <td>0.13364</td>\n",
       "      <td>0.821213</td>\n",
       "      <td>0.831841</td>\n",
       "      <td>0.702199</td>\n",
       "      <td>0.798801</td>\n",
       "      <td>0.862532</td>\n",
       "      <td>0.785111</td>\n",
       "      <td>0.117337</td>\n",
       "      <td>0.039129</td>\n",
       "      <td>0.516423</td>\n",
       "      <td>...</td>\n",
       "      <td>0.869777618897483</td>\n",
       "      <td>0.905131451379706</td>\n",
       "      <td>0.75374593228348</td>\n",
       "      <td>0.806931003629483</td>\n",
       "      <td>0.552576894305493</td>\n",
       "      <td>0.907845551566953</td>\n",
       "      <td>0.513710953049017</td>\n",
       "      <td>0.8875078009333021</td>\n",
       "      <td>0.8578574388767479</td>\n",
       "      <td>PD</td>\n",
       "    </tr>\n",
       "    <tr>\n",
       "      <th>200989060016_R02C01</th>\n",
       "      <td>0.196398</td>\n",
       "      <td>0.802054</td>\n",
       "      <td>0.865808</td>\n",
       "      <td>0.761991</td>\n",
       "      <td>0.867949</td>\n",
       "      <td>0.887828</td>\n",
       "      <td>0.760461</td>\n",
       "      <td>0.141577</td>\n",
       "      <td>0.0942219</td>\n",
       "      <td>0.530083</td>\n",
       "      <td>...</td>\n",
       "      <td>0.8830415388568051</td>\n",
       "      <td>0.917591231538894</td>\n",
       "      <td>0.8078008551096021</td>\n",
       "      <td>0.81308637324354</td>\n",
       "      <td>0.54947666876961</td>\n",
       "      <td>0.9354259367504251</td>\n",
       "      <td>0.5810136662540961</td>\n",
       "      <td>0.8474288061234779</td>\n",
       "      <td>0.885044743634488</td>\n",
       "      <td>PD</td>\n",
       "    </tr>\n",
       "    <tr>\n",
       "      <th>200989060155_R01C01</th>\n",
       "      <td>0.174273</td>\n",
       "      <td>0.775967</td>\n",
       "      <td>0.841902</td>\n",
       "      <td>0.742324</td>\n",
       "      <td>0.792145</td>\n",
       "      <td>0.910331</td>\n",
       "      <td>0.760855</td>\n",
       "      <td>0.103648</td>\n",
       "      <td>0.0523039</td>\n",
       "      <td>0.423577</td>\n",
       "      <td>...</td>\n",
       "      <td>0.887695889091264</td>\n",
       "      <td>0.905097911750989</td>\n",
       "      <td>0.7652219114997231</td>\n",
       "      <td>0.8072354687220641</td>\n",
       "      <td>0.36754784639567606</td>\n",
       "      <td>0.924622252445247</td>\n",
       "      <td>0.5915836883162479</td>\n",
       "      <td>0.913629224524567</td>\n",
       "      <td>0.847961129441462</td>\n",
       "      <td>PD</td>\n",
       "    </tr>\n",
       "    <tr>\n",
       "      <th>200989060155_R03C01</th>\n",
       "      <td>0.157101</td>\n",
       "      <td>0.830057</td>\n",
       "      <td>0.875768</td>\n",
       "      <td>0.661756</td>\n",
       "      <td>0.852537</td>\n",
       "      <td>0.858942</td>\n",
       "      <td>0.78817</td>\n",
       "      <td>0.134405</td>\n",
       "      <td>0.0937395</td>\n",
       "      <td>0.686011</td>\n",
       "      <td>...</td>\n",
       "      <td>0.89188529347046</td>\n",
       "      <td>0.9312940804158679</td>\n",
       "      <td>0.81273063414956</td>\n",
       "      <td>0.81252194025675</td>\n",
       "      <td>0.578182466908505</td>\n",
       "      <td>0.945585049861096</td>\n",
       "      <td>0.648620356086312</td>\n",
       "      <td>0.886854759912664</td>\n",
       "      <td>0.901903065262923</td>\n",
       "      <td>PD</td>\n",
       "    </tr>\n",
       "    <tr>\n",
       "      <th>200989060111_R02C01</th>\n",
       "      <td>0.178768</td>\n",
       "      <td>0.806346</td>\n",
       "      <td>0.843194</td>\n",
       "      <td>0.761764</td>\n",
       "      <td>0.866236</td>\n",
       "      <td>0.887142</td>\n",
       "      <td>0.767948</td>\n",
       "      <td>0.12746</td>\n",
       "      <td>0.0561675</td>\n",
       "      <td>0.752106</td>\n",
       "      <td>...</td>\n",
       "      <td>0.9087903869630991</td>\n",
       "      <td>0.910174316757402</td>\n",
       "      <td>0.839480610293652</td>\n",
       "      <td>0.823881917775947</td>\n",
       "      <td>0.49824766761465505</td>\n",
       "      <td>0.9371121289283</td>\n",
       "      <td>0.6544220557482601</td>\n",
       "      <td>0.874103848510251</td>\n",
       "      <td>0.9070260714018721</td>\n",
       "      <td>PD</td>\n",
       "    </tr>\n",
       "  </tbody>\n",
       "</table>\n",
       "<p>436 rows × 747669 columns</p>\n",
       "</div>"
      ],
      "text/plain": [
       "Sentrix_position    cg02168685 cg08732684 cg10284115 cg16348003 cg01990013  \\\n",
       "200973410159_R03C01   0.181336   0.820307   0.869102   0.790106   0.859454   \n",
       "200991620021_R01C01   0.202823   0.749174   0.831778   0.599227   0.855764   \n",
       "200991620021_R03C01   0.224653   0.792392   0.831574   0.753949    0.87098   \n",
       "200989060105_R03C01   0.160047   0.811205   0.843772   0.716708   0.871558   \n",
       "200989060135_R07C01    0.09507   0.802935   0.834807   0.759217   0.848119   \n",
       "...                        ...        ...        ...        ...        ...   \n",
       "201004820064_R01C01    0.13364   0.821213   0.831841   0.702199   0.798801   \n",
       "200989060016_R02C01   0.196398   0.802054   0.865808   0.761991   0.867949   \n",
       "200989060155_R01C01   0.174273   0.775967   0.841902   0.742324   0.792145   \n",
       "200989060155_R03C01   0.157101   0.830057   0.875768   0.661756   0.852537   \n",
       "200989060111_R02C01   0.178768   0.806346   0.843194   0.761764   0.866236   \n",
       "\n",
       "Sentrix_position    cg18978661 cg16622353 cg11642412 cg16654771 cg00013952  \\\n",
       "200973410159_R03C01   0.895517   0.811537   0.154034  0.0911408   0.320366   \n",
       "200991620021_R01C01   0.850379   0.764679   0.164602  0.0580419   0.358467   \n",
       "200991620021_R03C01   0.889025   0.757706    0.15644  0.0504965   0.558762   \n",
       "200989060105_R03C01   0.879034   0.789269   0.165674   0.049425   0.697755   \n",
       "200989060135_R07C01   0.845383   0.775941   0.141665  0.0410359   0.629899   \n",
       "...                        ...        ...        ...        ...        ...   \n",
       "201004820064_R01C01   0.862532   0.785111   0.117337   0.039129   0.516423   \n",
       "200989060016_R02C01   0.887828   0.760461   0.141577  0.0942219   0.530083   \n",
       "200989060155_R01C01   0.910331   0.760855   0.103648  0.0523039   0.423577   \n",
       "200989060155_R03C01   0.858942    0.78817   0.134405  0.0937395   0.686011   \n",
       "200989060111_R02C01   0.887142   0.767948    0.12746  0.0561675   0.752106   \n",
       "\n",
       "Sentrix_position     ...          cg24173064          cg19473428  \\\n",
       "200973410159_R03C01  ...   0.890418147061535   0.927857306429379   \n",
       "200991620021_R01C01  ...   0.898376562421111  0.8894105755342739   \n",
       "200991620021_R03C01  ...   0.889234597132543   0.921692457445995   \n",
       "200989060105_R03C01  ...  0.9086852961554159  0.9158887376822321   \n",
       "200989060135_R07C01  ...   0.912689347675698   0.901105957264047   \n",
       "...                  ...                 ...                 ...   \n",
       "201004820064_R01C01  ...   0.869777618897483   0.905131451379706   \n",
       "200989060016_R02C01  ...  0.8830415388568051   0.917591231538894   \n",
       "200989060155_R01C01  ...   0.887695889091264   0.905097911750989   \n",
       "200989060155_R03C01  ...    0.89188529347046  0.9312940804158679   \n",
       "200989060111_R02C01  ...  0.9087903869630991   0.910174316757402   \n",
       "\n",
       "Sentrix_position             cg02182587          cg11188916  \\\n",
       "200973410159_R03C01   0.799382530396531  0.8054428195633879   \n",
       "200991620021_R01C01  0.8322661913188779   0.713991620988404   \n",
       "200991620021_R03C01  0.8331455912971759   0.800237882151418   \n",
       "200989060105_R03C01  0.8418098065952501   0.821639815705984   \n",
       "200989060135_R07C01   0.798531861700428   0.785818457964235   \n",
       "...                                 ...                 ...   \n",
       "201004820064_R01C01    0.75374593228348   0.806931003629483   \n",
       "200989060016_R02C01  0.8078008551096021    0.81308637324354   \n",
       "200989060155_R01C01  0.7652219114997231  0.8072354687220641   \n",
       "200989060155_R03C01    0.81273063414956    0.81252194025675   \n",
       "200989060111_R02C01   0.839480610293652   0.823881917775947   \n",
       "\n",
       "Sentrix_position              cg01861377          cg11779501  \\\n",
       "200973410159_R03C01    0.622875319015292  0.9463008066586199   \n",
       "200991620021_R01C01    0.530804598098317  0.9235490317097059   \n",
       "200991620021_R03C01    0.596883866310545  0.9374831275089909   \n",
       "200989060105_R03C01    0.573337419541095   0.945671469091769   \n",
       "200989060135_R07C01    0.509175428667898  0.9329635476324729   \n",
       "...                                  ...                 ...   \n",
       "201004820064_R01C01    0.552576894305493   0.907845551566953   \n",
       "200989060016_R02C01     0.54947666876961  0.9354259367504251   \n",
       "200989060155_R01C01  0.36754784639567606   0.924622252445247   \n",
       "200989060155_R03C01    0.578182466908505   0.945585049861096   \n",
       "200989060111_R02C01  0.49824766761465505     0.9371121289283   \n",
       "\n",
       "Sentrix_position             cg05170070          cg17737728  \\\n",
       "200973410159_R03C01    0.67113798026978   0.894916850078534   \n",
       "200991620021_R01C01   0.539385993509384   0.819174708964708   \n",
       "200991620021_R03C01   0.634421960371285  0.8503420988564059   \n",
       "200989060105_R03C01    0.65676323535506   0.857961378724338   \n",
       "200989060135_R07C01   0.555333835173846    0.87865924322434   \n",
       "...                                 ...                 ...   \n",
       "201004820064_R01C01   0.513710953049017  0.8875078009333021   \n",
       "200989060016_R02C01  0.5810136662540961  0.8474288061234779   \n",
       "200989060155_R01C01  0.5915836883162479   0.913629224524567   \n",
       "200989060155_R03C01   0.648620356086312   0.886854759912664   \n",
       "200989060111_R02C01  0.6544220557482601   0.874103848510251   \n",
       "\n",
       "Sentrix_position             cg21770145 Category  \n",
       "200973410159_R03C01  0.9039691384070251       HC  \n",
       "200991620021_R01C01  0.8531702856165259       PD  \n",
       "200991620021_R03C01  0.8405773134158481       PD  \n",
       "200989060105_R03C01  0.8999614071096271       PD  \n",
       "200989060135_R07C01   0.885286690861348       HC  \n",
       "...                                 ...      ...  \n",
       "201004820064_R01C01  0.8578574388767479       PD  \n",
       "200989060016_R02C01   0.885044743634488       PD  \n",
       "200989060155_R01C01   0.847961129441462       PD  \n",
       "200989060155_R03C01   0.901903065262923       PD  \n",
       "200989060111_R02C01  0.9070260714018721       PD  \n",
       "\n",
       "[436 rows x 747669 columns]"
      ]
     },
     "execution_count": 2,
     "metadata": {},
     "output_type": "execute_result"
    }
   ],
   "source": [
    "data = pd.read_csv('./trans_processed_PPMI_data.csv')\n",
    "data.rename(columns={'Unnamed: 0':'Sentrix_position'}, inplace=True)\n",
    "data.set_index('Sentrix_position', inplace=True)\n",
    "ppmi = data.transpose()\n",
    "ppmi"
   ]
  },
  {
   "cell_type": "code",
   "execution_count": 3,
   "metadata": {},
   "outputs": [
    {
     "data": {
      "text/html": [
       "<div>\n",
       "<style scoped>\n",
       "    .dataframe tbody tr th:only-of-type {\n",
       "        vertical-align: middle;\n",
       "    }\n",
       "\n",
       "    .dataframe tbody tr th {\n",
       "        vertical-align: top;\n",
       "    }\n",
       "\n",
       "    .dataframe thead th {\n",
       "        text-align: right;\n",
       "    }\n",
       "</style>\n",
       "<table border=\"1\" class=\"dataframe\">\n",
       "  <thead>\n",
       "    <tr style=\"text-align: right;\">\n",
       "      <th>Sentrix_position</th>\n",
       "      <th>cg02168685</th>\n",
       "      <th>cg08732684</th>\n",
       "      <th>cg10284115</th>\n",
       "      <th>cg16348003</th>\n",
       "      <th>cg01990013</th>\n",
       "      <th>cg18978661</th>\n",
       "      <th>cg16622353</th>\n",
       "      <th>cg11642412</th>\n",
       "      <th>cg16654771</th>\n",
       "      <th>cg00013952</th>\n",
       "      <th>...</th>\n",
       "      <th>cg09004648</th>\n",
       "      <th>cg24173064</th>\n",
       "      <th>cg19473428</th>\n",
       "      <th>cg02182587</th>\n",
       "      <th>cg11188916</th>\n",
       "      <th>cg01861377</th>\n",
       "      <th>cg11779501</th>\n",
       "      <th>cg05170070</th>\n",
       "      <th>cg17737728</th>\n",
       "      <th>cg21770145</th>\n",
       "    </tr>\n",
       "    <tr>\n",
       "      <th>Category</th>\n",
       "      <th></th>\n",
       "      <th></th>\n",
       "      <th></th>\n",
       "      <th></th>\n",
       "      <th></th>\n",
       "      <th></th>\n",
       "      <th></th>\n",
       "      <th></th>\n",
       "      <th></th>\n",
       "      <th></th>\n",
       "      <th></th>\n",
       "      <th></th>\n",
       "      <th></th>\n",
       "      <th></th>\n",
       "      <th></th>\n",
       "      <th></th>\n",
       "      <th></th>\n",
       "      <th></th>\n",
       "      <th></th>\n",
       "      <th></th>\n",
       "      <th></th>\n",
       "    </tr>\n",
       "  </thead>\n",
       "  <tbody>\n",
       "    <tr>\n",
       "      <th>HC</th>\n",
       "      <td>127</td>\n",
       "      <td>127</td>\n",
       "      <td>127</td>\n",
       "      <td>127</td>\n",
       "      <td>127</td>\n",
       "      <td>127</td>\n",
       "      <td>127</td>\n",
       "      <td>127</td>\n",
       "      <td>127</td>\n",
       "      <td>127</td>\n",
       "      <td>...</td>\n",
       "      <td>127</td>\n",
       "      <td>127</td>\n",
       "      <td>127</td>\n",
       "      <td>127</td>\n",
       "      <td>127</td>\n",
       "      <td>127</td>\n",
       "      <td>127</td>\n",
       "      <td>127</td>\n",
       "      <td>127</td>\n",
       "      <td>127</td>\n",
       "    </tr>\n",
       "    <tr>\n",
       "      <th>PD</th>\n",
       "      <td>309</td>\n",
       "      <td>309</td>\n",
       "      <td>309</td>\n",
       "      <td>309</td>\n",
       "      <td>309</td>\n",
       "      <td>309</td>\n",
       "      <td>309</td>\n",
       "      <td>309</td>\n",
       "      <td>309</td>\n",
       "      <td>309</td>\n",
       "      <td>...</td>\n",
       "      <td>309</td>\n",
       "      <td>309</td>\n",
       "      <td>309</td>\n",
       "      <td>309</td>\n",
       "      <td>309</td>\n",
       "      <td>309</td>\n",
       "      <td>309</td>\n",
       "      <td>309</td>\n",
       "      <td>309</td>\n",
       "      <td>309</td>\n",
       "    </tr>\n",
       "  </tbody>\n",
       "</table>\n",
       "<p>2 rows × 747668 columns</p>\n",
       "</div>"
      ],
      "text/plain": [
       "Sentrix_position  cg02168685  cg08732684  cg10284115  cg16348003  cg01990013  \\\n",
       "Category                                                                       \n",
       "HC                       127         127         127         127         127   \n",
       "PD                       309         309         309         309         309   \n",
       "\n",
       "Sentrix_position  cg18978661  cg16622353  cg11642412  cg16654771  cg00013952  \\\n",
       "Category                                                                       \n",
       "HC                       127         127         127         127         127   \n",
       "PD                       309         309         309         309         309   \n",
       "\n",
       "Sentrix_position  ...  cg09004648  cg24173064  cg19473428  cg02182587  \\\n",
       "Category          ...                                                   \n",
       "HC                ...         127         127         127         127   \n",
       "PD                ...         309         309         309         309   \n",
       "\n",
       "Sentrix_position  cg11188916  cg01861377  cg11779501  cg05170070  cg17737728  \\\n",
       "Category                                                                       \n",
       "HC                       127         127         127         127         127   \n",
       "PD                       309         309         309         309         309   \n",
       "\n",
       "Sentrix_position  cg21770145  \n",
       "Category                      \n",
       "HC                       127  \n",
       "PD                       309  \n",
       "\n",
       "[2 rows x 747668 columns]"
      ]
     },
     "execution_count": 3,
     "metadata": {},
     "output_type": "execute_result"
    }
   ],
   "source": [
    "ppmi.groupby('Category').count()"
   ]
  },
  {
   "cell_type": "code",
   "execution_count": 4,
   "metadata": {},
   "outputs": [
    {
     "name": "stdout",
     "output_type": "stream",
     "text": [
      "TRAIN: 348 TEST: 88\n",
      "(348, 747668) (348,) (88, 747668) (88,)\n"
     ]
    }
   ],
   "source": [
    "from sklearn.preprocessing import LabelEncoder\n",
    "\n",
    "encoder = LabelEncoder()\n",
    "label = encoder.fit_transform(ppmi['Category'])\n",
    "tr = ppmi.drop(['Category'], axis=1)\n",
    "X = tr.values\n",
    "y = label\n",
    "\n",
    "#Stratified sampling\n",
    "from sklearn.model_selection import StratifiedShuffleSplit\n",
    "split = StratifiedShuffleSplit(n_splits=1, test_size=0.2, random_state=42)\n",
    "split.get_n_splits(X, y)\n",
    "\n",
    "for train_index, test_index in split.split(X, y):\n",
    "    print(\"TRAIN:\", len(train_index), \"TEST:\", len(test_index))\n",
    "    X_train, X_test = X[train_index], X[test_index]\n",
    "    y_train, y_test = y[train_index], y[test_index]\n",
    "\n",
    "print(X_train.shape, y_train.shape, X_test.shape, y_test.shape)"
   ]
  },
  {
   "cell_type": "code",
   "execution_count": 5,
   "metadata": {},
   "outputs": [
    {
     "data": {
      "text/plain": [
       "array(['HC', 'PD'], dtype=object)"
      ]
     },
     "execution_count": 5,
     "metadata": {},
     "output_type": "execute_result"
    }
   ],
   "source": [
    "encoder.classes_"
   ]
  },
  {
   "cell_type": "code",
   "execution_count": 6,
   "metadata": {},
   "outputs": [],
   "source": [
    "### Scaling\n",
    "from sklearn.preprocessing import StandardScaler\n",
    "scaler = StandardScaler()\n",
    "X_train_scaled = scaler.fit_transform(X_train)\n",
    "X_train_scaled\n",
    "X_test_scaled = scaler.transform(X_test)"
   ]
  },
  {
   "cell_type": "markdown",
   "metadata": {},
   "source": [
    "### Start Methods Here"
   ]
  },
  {
   "cell_type": "code",
   "execution_count": 7,
   "metadata": {},
   "outputs": [],
   "source": [
    "from sklearn.linear_model import LogisticRegression, Lasso\n",
    "from sklearn.svm import LinearSVC, SVC\n",
    "from sklearn.linear_model import SGDClassifier\n",
    "from sklearn.kernel_approximation import Nystroem\n",
    "from sklearn.pipeline import Pipeline\n",
    "from sklearn.decomposition import PCA\n",
    "from umap import UMAP\n",
    "from sklearn.decomposition import FastICA\n",
    "from sklearn.model_selection import cross_val_predict, cross_val_score\n",
    "from sklearn.metrics import accuracy_score\n",
    "from sklearn.feature_selection import SelectFromModel"
   ]
  },
  {
   "cell_type": "code",
   "execution_count": 8,
   "metadata": {},
   "outputs": [],
   "source": [
    "import evalfw"
   ]
  },
  {
   "cell_type": "code",
   "execution_count": 14,
   "metadata": {},
   "outputs": [
    {
     "data": {
      "text/plain": [
       "<module 'evalfw' from '/local/sdc/rz296/methyl-data-handling/evalfw.py'>"
      ]
     },
     "execution_count": 14,
     "metadata": {},
     "output_type": "execute_result"
    }
   ],
   "source": [
    "import importlib\n",
    "importlib.reload(evalfw)"
   ]
  },
  {
   "cell_type": "markdown",
   "metadata": {},
   "source": [
    "### DR+LR: PPMI"
   ]
  },
  {
   "cell_type": "code",
   "execution_count": 15,
   "metadata": {},
   "outputs": [
    {
     "name": "stdout",
     "output_type": "stream",
     "text": [
      "Current model:  PCA and Logistic Regression\n",
      "Accuracy of  PCA and Logistic Regression is:  0.5568181818181818\n",
      "Precision of  PCA and Logistic Regression is:  0.6825396825396826\n",
      "Recall of  PCA and Logistic Regression is:  0.6935483870967742\n",
      "Current model:  UMAP and Logistic Regression\n",
      "Accuracy of  UMAP and Logistic Regression is:  0.6818181818181818\n",
      "Precision of  UMAP and Logistic Regression is:  0.7073170731707317\n",
      "Recall of  UMAP and Logistic Regression is:  0.9354838709677419\n",
      "Current model:  ICA and Logistic Regression\n",
      "Accuracy of  ICA and Logistic Regression is:  0.5909090909090909\n",
      "Precision of  ICA and Logistic Regression is:  0.76\n",
      "Recall of  ICA and Logistic Regression is:  0.6129032258064516\n",
      "Current model:  Lasso_FS and Logistic Regression\n",
      "Accuracy of  Lasso_FS and Logistic Regression is:  0.7272727272727273\n",
      "Precision of  Lasso_FS and Logistic Regression is:  0.7435897435897436\n",
      "Recall of  Lasso_FS and Logistic Regression is:  0.9354838709677419\n"
     ]
    }
   ],
   "source": [
    "### PCA para:\n",
    "pca_lr = Pipeline([\n",
    "    (\"pca\", PCA(n_components=100)),\n",
    "    (\"lr\", LogisticRegression(max_iter=1000, penalty='l2', C=0.01, class_weight='balanced'))\n",
    "])\n",
    "\n",
    "### UMAP para:\n",
    "umap_lr = Pipeline([\n",
    "    (\"umap\", UMAP(n_components=150)),\n",
    "    (\"lr\", LogisticRegression(max_iter=1000, penalty='l2', C=0.01, class_weight='balanced'))\n",
    "])\n",
    "\n",
    "### ICA para:\n",
    "ica_lr = Pipeline([\n",
    "    (\"ica\", FastICA(n_components=50)),\n",
    "    (\"lr\", LogisticRegression(max_iter=1000, penalty='l2', C=0.01, class_weight='balanced'))\n",
    "])\n",
    "\n",
    "###FS\n",
    "fs_lr = Pipeline([\n",
    "    (\"fs\", SelectFromModel(Lasso(alpha=0.01))),\n",
    "    (\"lr\", LogisticRegression(max_iter=1000, penalty='l2', C=100, class_weight='balanced')),\n",
    "])\n",
    "\n",
    "pca_lr.fit(X_train_scaled, y_train)\n",
    "umap_lr.fit(X_train_scaled, y_train)\n",
    "ica_lr.fit(X_train_scaled, y_train)\n",
    "fs_lr.fit(X_train_scaled, y_train)\n",
    "\n",
    "clf_dict = {\n",
    "    'PCA and Logistic Regression':pca_lr,\n",
    "    'UMAP and Logistic Regression': umap_lr,\n",
    "    'ICA and Logistic Regression': ica_lr,\n",
    "    'Lasso_FS and Logistic Regression': fs_lr\n",
    "}\n",
    "\n",
    "evalfw.eval(clf_dict, X_test_scaled, y_test)"
   ]
  },
  {
   "cell_type": "code",
   "execution_count": null,
   "metadata": {},
   "outputs": [],
   "source": [
    "from joblib import dump, load\n"
   ]
  },
  {
   "cell_type": "code",
   "execution_count": null,
   "metadata": {},
   "outputs": [],
   "source": [
    "clf_dict_lr = {\n",
    "    'PCA and Logistic Regression':pca_lr,\n",
    "    'UMAP and Logistic Regression': umap_lr,\n",
    "    'ICA and Logistic Regression': ica_lr,\n",
    "    'Lasso_FS and Logistic Regression': fs_lr\n",
    "}\n"
   ]
  },
  {
   "cell_type": "code",
   "execution_count": null,
   "metadata": {},
   "outputs": [],
   "source": [
    "for key in clf_dict_lr:\n",
    "    filepath = './ml-models/'+key+'.joblib'\n",
    "    dump(clf_dict_lr[key], filepath) "
   ]
  },
  {
   "cell_type": "markdown",
   "metadata": {},
   "source": [
    "### DR+SVM\n"
   ]
  },
  {
   "cell_type": "code",
   "execution_count": 13,
   "metadata": {},
   "outputs": [
    {
     "name": "stdout",
     "output_type": "stream",
     "text": [
      "Current model:  PCA and SVM\n",
      "Accuracy of  PCA and SVM is:  0.29545454545454547\n",
      "Current model:  UMAP and SVM\n",
      "Accuracy of  UMAP and SVM is:  0.7045454545454546\n",
      "Current model:  ICA and SVM\n",
      "Accuracy of  ICA and SVM is:  0.7045454545454546\n",
      "Current model:  Lasso_FS and SVM\n",
      "Accuracy of  Lasso_FS and SVM is:  0.7386363636363636\n"
     ]
    },
    {
     "data": {
      "image/png": "[encoded data removed]",
      "text/plain": [
       "<Figure size 432x288 with 2 Axes>"
      ]
     },
     "metadata": {
      "needs_background": "light"
     },
     "output_type": "display_data"
    },
    {
     "data": {
      "image/png": "[encoded data removed]",
      "text/plain": [
       "<Figure size 432x288 with 2 Axes>"
      ]
     },
     "metadata": {
      "needs_background": "light"
     },
     "output_type": "display_data"
    },
    {
     "data": {
      "image/png": "[encoded data removed]",
      "text/plain": [
       "<Figure size 432x288 with 2 Axes>"
      ]
     },
     "metadata": {
      "needs_background": "light"
     },
     "output_type": "display_data"
    },
    {
     "data": {
      "image/png": "[encoded data removed]",
      "text/plain": [
       "<Figure size 432x288 with 2 Axes>"
      ]
     },
     "metadata": {
      "needs_background": "light"
     },
     "output_type": "display_data"
    }
   ],
   "source": [
    "### PCA para: 200\n",
    "pca_svm = Pipeline([\n",
    "    (\"pca\", PCA(n_components=250)),\n",
    "    (\"svm\", SVC(C=0.01, kernel='rbf', class_weight='balanced'))\n",
    "])\n",
    "\n",
    "### UMAP para: 100\n",
    "umap_svm = Pipeline([\n",
    "    (\"umap\", UMAP(n_components=100)),\n",
    "    (\"svm\", SVC(C=0.001, kernel='rbf', class_weight='balanced'))\n",
    "])\n",
    "\n",
    "### ICA para:250\n",
    "ica_svm = Pipeline([\n",
    "    (\"ica\", FastICA(n_components=250)),\n",
    "    (\"svm\", SVC(C=0.001, kernel='rbf', class_weight='balanced'))\n",
    "])\n",
    "\n",
    "###FS\n",
    "fs_svm = Pipeline([\n",
    "    (\"fs\", SelectFromModel(Lasso(alpha=0.01))),\n",
    "    (\"svm\", SVC(C=0.001, kernel='linear', class_weight='balanced')),\n",
    "])\n",
    "\n",
    "pca_svm.fit(X_train_scaled, y_train)\n",
    "umap_svm.fit(X_train_scaled, y_train)\n",
    "ica_svm.fit(X_train_scaled, y_train)\n",
    "fs_svm.fit(X_train_scaled, y_train)\n",
    "\n",
    "\n",
    "clf_dict_svm = {\n",
    "    'PCA and SVM':pca_svm,\n",
    "    'UMAP and SVM': umap_svm,\n",
    "    'ICA and SVM': ica_svm,\n",
    "    'Lasso_FS and SVM': fs_svm\n",
    "}\n",
    "\n",
    "evalfw.eval(clf_dict_svm, X_test_scaled, y_test)\n"
   ]
  },
  {
   "cell_type": "code",
   "execution_count": null,
   "metadata": {},
   "outputs": [],
   "source": [
    "for key in clf_dict_svm:\n",
    "    filepath = './ml-models/'+key+'.joblib'\n",
    "    dump(clf_dict_svm[key], filepath) "
   ]
  },
  {
   "cell_type": "markdown",
   "metadata": {},
   "source": [
    "### DR+XGBoost\n"
   ]
  },
  {
   "cell_type": "code",
   "execution_count": 11,
   "metadata": {},
   "outputs": [],
   "source": [
    "import xgboost as xgb"
   ]
  },
  {
   "cell_type": "code",
   "execution_count": 12,
   "metadata": {},
   "outputs": [
    {
     "name": "stdout",
     "output_type": "stream",
     "text": [
      "Current model:  PCA and XGB\n",
      "Accuracy of  PCA and XGB is:  0.7045454545454546\n",
      "Current model:  UMAP and XGB\n",
      "Accuracy of  UMAP and XGB is:  0.6931818181818182\n",
      "Current model:  ICA and XGB\n",
      "Accuracy of  ICA and XGB is:  0.625\n",
      "Current model:  Lasso_FS and XGB\n",
      "Accuracy of  Lasso_FS and XGB is:  0.7045454545454546\n"
     ]
    },
    {
     "data": {
      "image/png": "[encoded data removed]",
      "text/plain": [
       "<Figure size 432x288 with 2 Axes>"
      ]
     },
     "metadata": {
      "needs_background": "light"
     },
     "output_type": "display_data"
    },
    {
     "data": {
      "image/png": "[encoded data removed]",
      "text/plain": [
       "<Figure size 432x288 with 2 Axes>"
      ]
     },
     "metadata": {
      "needs_background": "light"
     },
     "output_type": "display_data"
    },
    {
     "data": {
      "image/png": "[encoded data removed]",
      "text/plain": [
       "<Figure size 432x288 with 2 Axes>"
      ]
     },
     "metadata": {
      "needs_background": "light"
     },
     "output_type": "display_data"
    },
    {
     "data": {
      "image/png": "[encoded data removed]",
      "text/plain": [
       "<Figure size 432x288 with 2 Axes>"
      ]
     },
     "metadata": {
      "needs_background": "light"
     },
     "output_type": "display_data"
    }
   ],
   "source": [
    " ### PCA para: 150\n",
    "pca_xgb = Pipeline([\n",
    "    (\"pca\", PCA(n_components=250)),\n",
    "    (\"xgb\", xgb.XGBClassifier(\n",
    "                objective='binary:logistic', \n",
    "                seed=42, \n",
    "                tree_method='gpu_hist',\n",
    "                learning_rate=0.3,\n",
    "                gpu_id=1,\n",
    "                colsample_bytree=0.5,\n",
    "                max_depth=3,\n",
    "                n_estimators=50,\n",
    "            ))\n",
    "])\n",
    "\n",
    " ### UMAP para: 200\n",
    "umap_xgb = Pipeline([\n",
    "    (\"umap\", UMAP(n_components=200)),\n",
    "    (\"xgb\", xgb.XGBClassifier(\n",
    "                objective='binary:logistic', \n",
    "                seed=42, \n",
    "                tree_method='gpu_hist',\n",
    "                learning_rate=0.3,\n",
    "                gpu_id=2,\n",
    "                colsample_bytree=0.7,\n",
    "                max_depth=3,\n",
    "                n_estimators=30,\n",
    "            ))\n",
    "])\n",
    "\n",
    "\n",
    " ### UMAP para: 200\n",
    "ica_xgb = Pipeline([\n",
    "    (\"ica\", FastICA(n_components=100)),\n",
    "    (\"xgb\", xgb.XGBClassifier(\n",
    "                objective='binary:logistic', \n",
    "                seed=42, \n",
    "                tree_method='gpu_hist',\n",
    "                learning_rate=0.3,\n",
    "                gpu_id=1,\n",
    "                colsample_bytree=0.3,\n",
    "                max_depth=5,\n",
    "                n_estimators=20,\n",
    "            ))\n",
    "])\n",
    "\n",
    "\n",
    "###FS\n",
    "fs_xgb = Pipeline([\n",
    "    (\"fs\", SelectFromModel(Lasso(alpha=0.01))),\n",
    "    (\"xgb\", xgb.XGBClassifier(\n",
    "                objective='binary:logistic', \n",
    "                seed=42, \n",
    "                tree_method='gpu_hist',\n",
    "                learning_rate=0.3,\n",
    "                gpu_id=1,\n",
    "                colsample_bytree=0.3,\n",
    "                max_depth=3,\n",
    "                n_estimators=100,\n",
    "            )),\n",
    "])\n",
    "\n",
    "pca_xgb.fit(X_train_scaled, y_train)\n",
    "umap_xgb.fit(X_train_scaled, y_train)\n",
    "ica_xgb.fit(X_train_scaled, y_train)\n",
    "fs_xgb.fit(X_train_scaled, y_train)\n",
    "\n",
    "\n",
    "clf_dict_xgb = {\n",
    "    'PCA and XGB':pca_xgb,\n",
    "    'UMAP and XGB': umap_xgb,\n",
    "    'ICA and XGB': ica_xgb,\n",
    "    'Lasso_FS and XGB': fs_xgb\n",
    "}\n",
    "\n",
    "evalfw.eval(clf_dict_xgb, X_test_scaled, y_test)\n"
   ]
  },
  {
   "cell_type": "code",
   "execution_count": null,
   "metadata": {},
   "outputs": [],
   "source": [
    "for key in clf_dict_xgb:\n",
    "    filepath = './ml-models/'+key+'.joblib'\n",
    "    dump(clf_dict_xgb[key], filepath) "
   ]
  },
  {
   "cell_type": "markdown",
   "metadata": {},
   "source": [
    "### VAE+LR"
   ]
  },
  {
   "cell_type": "markdown",
   "metadata": {},
   "source": [
    "### VAE+SVM"
   ]
  },
  {
   "cell_type": "code",
   "execution_count": null,
   "metadata": {},
   "outputs": [],
   "source": []
  }
 ],
 "metadata": {
  "kernelspec": {
   "display_name": "Python 3",
   "language": "python",
   "name": "python3"
  },
  "language_info": {
   "codemirror_mode": {
    "name": "ipython",
    "version": 3
   },
   "file_extension": ".py",
   "mimetype": "text/x-python",
   "name": "python",
   "nbconvert_exporter": "python",
   "pygments_lexer": "ipython3",
   "version": "3.6.10"
  }
 },
 "nbformat": 4,
 "nbformat_minor": 2
}
