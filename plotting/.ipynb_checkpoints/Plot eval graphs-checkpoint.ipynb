{
 "cells": [
  {
   "cell_type": "code",
   "execution_count": 2,
   "metadata": {},
   "outputs": [],
   "source": [
    "import pandas as pd\n",
    "import numpy as np\n",
    "import matplotlib\n",
    "from matplotlib import pyplot as plt\n",
    "from sklearn import metrics"
   ]
  },
  {
   "cell_type": "markdown",
   "metadata": {},
   "source": [
    "### precision graph by clf on PPMI testing\n"
   ]
  },
  {
   "cell_type": "code",
   "execution_count": 53,
   "metadata": {},
   "outputs": [],
   "source": [
    "# ## lr\n",
    "# prec = {\n",
    "#     \"pca_lr_prec\":[0.72, 0.7115384615384616, 0.72, 0.6792452830188679, 0.6727272727272727],\n",
    "#     \"ica_lr_prec\":[0.76, 0.7222222222222222, 0.7592592592592593, 0.75, 0.7],\n",
    "#     \"umap_lr_prec\":[0.6486486486486487, 0.6756756756756757, 0.6521739130434783, 0.6829268292682927, 0.6666666666666666],\n",
    "#     \"fs_lr_prec\":[0.7538461538461538, 0.7575757575757576, 0.74, 0.7575757575757576, 0.7424242424242424],\n",
    "#     \"vae_lr_prec\":[0.72, 0.7222222222222222, 0.6486486486486487,0.7538461538461538, 0.6521739130434783]\n",
    "# }\n",
    "\n",
    "# acc = {\n",
    "#     \"pca_lr_acc\":[0.5454545454545454, 0.5454545454545454, 0.5454545454545454, 0.5113636363636364, 0.5113636363636364],   \n",
    "#     \"ica_lr_acc\":[0.5909090909090909, 0.5681818181818182, 0.6136363636363636, 0.6136363636363636, 0.5681818181818182],\n",
    "#     \"umap_lr_acc\":[0.42045454545454547, 0.4431818181818182, 0.45454545454545453, 0.4659090909090909, 0.4318181818181818],\n",
    "#     \"fs_lr_acc\":[0.6704545454545454, 0.6818181818181818, 0.6818181818181818, 0.6818181818181818, 0.6590909090909091],    \n",
    "#     \"vae_lr_acc\":[0.5454545454545454, 0.5909090909090909, 0.6136363636363636, 0.6136363636363636, 0.6521739130434783]\n",
    "# }\n",
    "\n",
    "# f1 = {\n",
    "#     \"pca_lr_f1\":[0.6428571428571428, 0.6491228070175439, 0.6428571428571428, 0.6260869565217392, 0.6324786324786325],\n",
    "#     \"ica_lr_f1\":[0.6785714285714285, 0.6724137931034483, 0.7068965517241378, 0.7118644067796611, 0.6885245901639343],\n",
    "#     \"umap_lr_f1\":[0.48484848484848475, 0.5050505050505051, 0.5555555555555556, 0.5436893203883495, 0.4897959183673469],\n",
    "#     \"fs_lr_f1\":[0.7716535433070866, 0.7812499999999999, 0.7812499999999999, 0.7812499999999999, 0.7656250000000001],   \n",
    "#     \"vae_lr_f1\":[0.6785714285714285, 0.6724137931034483, 0.7068965517241378, 0.7118644067796611, 0.6885245901639343],   \n",
    "# }\n",
    "\n",
    "# metrics_dict = {\n",
    "#     \"precision\":prec,\n",
    "#     \"accuracy\":acc,\n",
    "#     \"f1\":f1\n",
    "# }"
   ]
  },
  {
   "cell_type": "code",
   "execution_count": 76,
   "metadata": {},
   "outputs": [],
   "source": [
    "# ## svm\n",
    "# prec = {\n",
    "#     \"pca_svm_prec\":[0.7605633802816901, 0.7761194029850746, 0.7538461538461538, 0.7692307692307693, 0.7868852459016393],\n",
    "#     \"ica_svm_prec\":[0.78, 0.7758620689655172, 0.7758620689655172, 0.7678571428571429, 0.7678571428571429],\n",
    "#     \"umap_svm_prec\":[0.673469387755102, 0.7636363636363637, 0.7142857142857143, 0.7307692307692307, 0.7727272727272727],\n",
    "#     \"fs_svm_prec\":[0.75, 0.7538461538461538, 0.75, 0.7575757575757576, 0.74],\n",
    "#     \"vae_svm_prec\":[0.72, 0.7222222222222222, 0.6486486486486487,0.7538461538461538, 0.6521739130434783]\n",
    "# }\n",
    "\n",
    "# # acc = {\n",
    "# #     \"pca_svm_acc\":[0.7159090909090909, 0.7159090909090909, 0.6704545454545454, 0.6931818181818182, 0.6931818181818182],\n",
    "# #     \"ica_svm_acc\":[0.6590909090909091, 0.6590909090909091, 0.6590909090909091, 0.6363636363636364, 0.6363636363636364],\n",
    "# #     \"umap_svm_acc\":[0.48863636363636365, 0.625, 0.5, 0.5681818181818182, 0.5681818181818182],\n",
    "# #     \"fs_svm_acc\":[0.5681818181818182, 0.5681818181818182, 0.5909090909090909, 0.5681818181818182, 0.5909090909090909],    \n",
    "# #     \"vae_svm_acc\":[0.5454545454545454, 0.5909090909090909, 0.6136363636363636, 0.6136363636363636, 0.6521739130434783]\n",
    "# # }\n",
    "\n",
    "# # f1 = {\n",
    "# #     \"pca_svm_f1\":[0.8120300751879699, 0.8062015503875968, 0.7716535433070866, 0.7874015748031495, 0.7804878048780488],\n",
    "# #     \"ica_svm_f1\":[0.7500000000000001, 0.7500000000000001, 0.7500000000000001, 0.7288135593220338, 0.7288135593220338],\n",
    "# #     \"umap_svm_f1\":[0.5945945945945945, 0.7179487179487181, 0.5769230769230769, 0.6666666666666667, 0.6415094339622641],\n",
    "# #     \"fs_svm_f1\":[0.6545454545454547, 0.6545454545454547, 0.6842105263157896, 0.6545454545454547, 0.6842105263157896],   \n",
    "# #     \"vae_svm_f1\":[0.6785714285714285, 0.6724137931034483, 0.7068965517241378, 0.7118644067796611, 0.6885245901639343],   \n",
    "# # }\n",
    "\n",
    "# metrics_dict = {\n",
    "#     \"precision\":prec,\n",
    "#     \"accuracy\":acc,\n",
    "#     \"f1\":f1\n",
    "# }"
   ]
  },
  {
   "cell_type": "code",
   "execution_count": 5,
   "metadata": {},
   "outputs": [],
   "source": [
    "## xgb\n",
    "prec = {\n",
    "    \"pca_xgb_prec\":[0.7313432835820896, 0.8214285714285714, 0.7540983606557377, 0.75, 0.7413793103448276],\n",
    "    \"ica_xgb_prec\":[0.7307692307692307, 0.7, 0.7192982456140351, 0.8035714285714286, 0.7083333333333334],\n",
    "    \"umap_xgb_prec\":[0.7142857142857143, 0.75, 0.8181818181818182, 0.75, 0.5],\n",
    "    \"fs_xgb_prec\":[0.803030303030303, 0.8064516129032258, 0.7735849056603774, 0.7735849056603774, 0.75],\n",
    "    \"vae_xgb_prec\":[0.72, 0.7222222222222222, 0.6486486486486487,0.7538461538461538, 0.6521739130434783]\n",
    "}\n",
    "\n",
    "# acc = {\n",
    "#     \"pca_xgb_acc\":[0.6477272727272727, 0.7045454545454546, 0.6477272727272727, 0.6363636363636364, 0.6136363636363636],\n",
    "#     \"ica_xgb_acc\":[0.5681818181818182, 0.5681818181818182, 0.5795454545454546, 0.6818181818181818, 0.5227272727272727],\n",
    "#     \"umap_xgb_acc\":[0.32954545454545453, 0.4090909090909091, 0.375, 0.3409090909090909, 0.29545454545454547],\n",
    "#     \"fs_xgb_acc\":[0.75, 0.7272727272727273, 0.625, 0.625, 0.5454545454545454],    \n",
    "#     \"vae_xgb_acc\":[0.5454545454545454, 0.5909090909090909, 0.6136363636363636, 0.6136363636363636, 0.6521739130434783]\n",
    "# }\n",
    "\n",
    "# f1 = {\n",
    "#     \"pca_xgb_f1\":[0.7596899224806203, 0.7796610169491526, 0.7479674796747967, 0.7377049180327869, 0.7166666666666668],\n",
    "#     \"ica_xgb_f1\":[0.6666666666666667, 0.6885245901639343, 0.689075630252101, 0.7627118644067797, 0.6181818181818182],\n",
    "#     \"umap_xgb_f1\":[0.14492753623188404, 0.36585365853658536, 0.24657534246575347, 0.1714285714285714, 0.08823529411764706],\n",
    "#     \"fs_xgb_f1\":[0.828125, 0.8064516129032258, 0.7130434782608696, 0.7130434782608696, 0.6226415094339622],   \n",
    "#     \"vae_xgb_f1\":[0.6785714285714285, 0.6724137931034483, 0.7068965517241378, 0.7118644067796611, 0.6885245901639343],   \n",
    "# }\n",
    "\n",
    "metrics_dict = {\n",
    "    \"precision\":prec,\n",
    "#     \"accuracy\":acc,\n",
    "#     \"f1\":f1\n",
    "}"
   ]
  },
  {
   "cell_type": "code",
   "execution_count": 7,
   "metadata": {},
   "outputs": [
    {
     "data": {
      "image/png": "[encoded data removed]",
      "text/plain": [
       "<Figure size 720x360 with 1 Axes>"
      ]
     },
     "metadata": {
      "needs_background": "light"
     },
     "output_type": "display_data"
    }
   ],
   "source": [
    "# mean_std = {\n",
    "#     \"pca_lr\":[],\n",
    "#     \"ica_lr\":[],\n",
    "#     \"umap_lr\":[],\n",
    "#     \"fs_lr\":[],\n",
    "#     \"vae_lr\":[]\n",
    "# }\n",
    "\n",
    "clf = \"svm\"\n",
    "labels = []\n",
    "for dr in [\"pca\", \"ica\", \"umap\", \"fs\", \"vae\"]:\n",
    "    labels.append( dr+\"+\"+clf)\n",
    "    \n",
    "fig = plt.figure(figsize=(10,5))\n",
    "idx = 1\n",
    "for metric in [\"precision\"]:  #\"accuracy\", \"f1\"\n",
    "    data = [metrics_dict[metric][key] for key in metrics_dict[metric]]\n",
    "    ax = fig.add_subplot(1,1,idx)\n",
    "    #styling the boxes\n",
    "    boxprops = dict(linestyle='-', linewidth=2, color='#7570b3')\n",
    "    medianprops = dict(linestyle='-', linewidth=2, color='firebrick')\n",
    "    whiskerprops = dict(linestyle='-', linewidth=2, color='#7570b3')\n",
    "    capprops = dict(linestyle='-', linewidth=2, color='C1')\n",
    "        \n",
    "    bp = ax.boxplot(data, showmeans=True, labels=labels, widths=0.4, whiskerprops=whiskerprops, medianprops=medianprops,boxprops=boxprops, capprops=capprops)\n",
    "#     print(bp)\n",
    "    idx += 1\n",
    "    ax.set_ylabel(metric)\n",
    "    ax.legend([bp[\"caps\"][0], bp[\"boxes\"][0], bp[\"medians\"][0], bp[\"fliers\"][0]], [\"max/min\", \"25% - 75%\", \"medians\", \"ourliers\"], loc='lower left')\n",
    "#     handles, labels = ax.get_legend_handles_labels()\n",
    "    ax.yaxis.grid(True) # Hide the horizontal gridlines\n",
    "    ax.xaxis.grid(True) # Show the vertical gridlines\n",
    "plt.savefig(\"plots/eval/boxplots/\"+clf+\"_precs.png\")\n",
    "plt.show()"
   ]
  },
  {
   "cell_type": "markdown",
   "metadata": {},
   "source": [
    "#### Comparison between using classifiers directly and using DR with optimal parameters and the classifiers with default paramers"
   ]
  },
  {
   "cell_type": "code",
   "execution_count": 1,
   "metadata": {},
   "outputs": [],
   "source": [
    "# Show the significance of using dr by using default hyperparameters \n",
    "###PCA + various algos\n",
    "# pca_lr = PCA(n_components= 30)\n",
    "# pca_svm = PCA(n_components= 10)\n",
    "# pca_xgb = PCA(n_components= 10)\n",
    "\n",
    "# ica_lr = FastICA(n_components= 40)\n",
    "# ica_svm = FastICA(n_components= 12)\n",
    "# ica_xgb = FastICA(n_components= 14)\n",
    "\n",
    "# umap_lr = UMAP(n_components= 30)\n",
    "# umap_svm = UMAP(n_components= 10)\n",
    "# umap_xgb = UMAP(n_components= 10)\n",
    "\n",
    "# fs_lr = SelectFromModel(Lasso(alpha=0.08))\n",
    "# fs_svm = SelectFromModel(Lasso(alpha=0.1))\n",
    "# fs_xgb = SelectFromModel(Lasso(alpha=0.08))\n",
    "\n",
    "drs = {\n",
    "  \"PCA+LR\":None,\n",
    "  \"PCA+SVM\":None,\n",
    "  \"PCA+GTB\":None,\n",
    "  \"ICA+LR\":None,\n",
    "  \"ICA+SVM\":None,\n",
    "  \"ICA+GTB\":None,\n",
    "  \"UMAP+LR\":None,\n",
    "  \"UMAP+SVM\":None,\n",
    "  \"UMAP+GTB\":None,\n",
    "  \"LASSO FS+LR\":None,\n",
    "  \"LASSO FS+SVM\":None,\n",
    "  \"LASSO FS+GTB\":None\n",
    "}\n",
    "\n",
    "clfs = [\"lr\", \"svm\", \"gtb\"]\n",
    "\n",
    "# for key in drs:\n",
    "#   dr = drs[key]\n",
    "#   X_train = dr.fit_transform(X_train_scaled, y_train_sampled)\n",
    "#   # X_train = dr.transform(X_test_scaled) \n",
    "#   X_test = dr.transform(X_test_scaled)\n",
    "#   clf_n = key.split(\"_\")[1]\n",
    "#   print(\"current pipeline:\", key, \"+\", clf_n)\n",
    "#   if clf_n == \"lr\":\n",
    "#     clf = LogisticRegression()\n",
    "#   elif clf_n == \"svm\":\n",
    "#     clf = SVC()\n",
    "#   elif clf_n == \"gtb\":\n",
    "#     clf = xgb.XGBClassifier()\n",
    "\n",
    "#   clf.fit(X_train, y_train_sampled)\n",
    "#   y_pred = clf.predict(X_test)\n",
    "#   print(\"Testing precision is:\", precision_score(y_test, y_pred))\n",
    "#   print(\"Conf mat:\", confusion_matrix(y_test, y_pred))\n",
    "\n",
    "#   print()"
   ]
  },
  {
   "cell_type": "code",
   "execution_count": 3,
   "metadata": {},
   "outputs": [],
   "source": [
    "untuned_prec = 0.7045\n",
    "bpdp = {\n",
    "    \"PCA+LR\":0.72,\n",
    "    \"ICA+LR\":0.7,\n",
    "    \"UMAP+LR\":0.686486486486487,\n",
    "    \"LASSO FS+LR\":0.74,\n",
    "    \"VAE+LR\":0.71875,\n",
    "    \"PCA+SVM\":0.6976744186046512,\n",
    "    \"ICA+SVM\":0.71875,\n",
    "    \"UMAP+SVM\":0.711864406779661,\n",
    "    \"LASSO FS+SVM\":0.7313432835820896,\n",
    "    \"VAE+SVM\":0.697,\n",
    "    \"PCA+GTB\":0.7313432835820896,\n",
    "    \"ICA+GTB\":0.7, \n",
    "    \"UMAP+GTB\":0.7142857142857143,\n",
    "    \"LASSO FS+GTB\":0.75,\n",
    "    \"VAE+GTB\":0.7442,\n",
    "    # \"MLP\":0.7045,\n",
    "}\n",
    "\n",
    "labels = np.array(list(bpdp.keys()))\n"
   ]
  },
  {
   "cell_type": "code",
   "execution_count": 4,
   "metadata": {},
   "outputs": [
    {
     "data": {
      "image/png": "[encoded data removed]",
      "text/plain": [
       "<Figure size 864x360 with 1 Axes>"
      ]
     },
     "metadata": {
      "needs_background": "light"
     },
     "output_type": "display_data"
    }
   ],
   "source": [
    "#Compare with using pure classifiers without hyperparameter tuning\n",
    "fig = plt.figure(figsize=(12,5))\n",
    "\n",
    "data = [(100*bpdp[key] - 100*untuned_prec) for key in bpdp]\n",
    "ax = fig.add_subplot(1,1,1)    \n",
    "pos = np.arange(len(labels))\n",
    "\n",
    "#color\n",
    "# colors = plt.cm.BuPu(np.linspace(0, 0.7, len(4)))\n",
    "\n",
    "\n",
    "plt.bar(pos, data, width=0.5, label='Percentage improvemnt in precision', color=\"skyblue\")\n",
    "#     print(bp)\n",
    "ax.set_ylabel(\"Improvement in precision(%)\", fontsize=12)\n",
    "ax.set_xticks(pos)\n",
    "ax.set_xticklabels(labels, rotation=30, fontsize=12)\n",
    "ax.yaxis.grid(True) # Hide the horizontal gridlines\n",
    "ax.xaxis.grid(True) # Show the vertical gridlines\n",
    "# plt.savefig(\"plots/eval/boxplots/\"+clf+\"_precs.png\")\n",
    "ax.legend()\n",
    "plt.show()"
   ]
  },
  {
   "cell_type": "markdown",
   "metadata": {},
   "source": [
    "#### Comparison between using DR with optimal parameters and untuned classifiers and tuned models"
   ]
  },
  {
   "cell_type": "code",
   "execution_count": 5,
   "metadata": {},
   "outputs": [],
   "source": [
    "### plot for imporvement of hyperparameter compared to untuned \n",
    "bpdp = {\n",
    "    \"PCA+LR\":0.72,\n",
    "    \"ICA+LR\":0.7,\n",
    "    \"UMAP+LR\":0.6486486486486487,\n",
    "    \"LASSO FS+LR\":0.74,\n",
    "    \"VAE+LR\":0.71875,\n",
    "    \"PCA+SVM\":0.6976744186046512,\n",
    "    \"ICA+SVM\":0.71875,\n",
    "    \"UMAP+SVM\":0.711864406779661,\n",
    "    \"LASSO FS+SVM\":0.7142857142857143,\n",
    "    \"VAE+SVM\":0.697,\n",
    "    \"PCA+GTB\":0.7313432835820896,\n",
    "    \"ICA+GTB\":0.7, \n",
    "    \"UMAP+GTB\":0.7142857142857143,\n",
    "    \"LASSO FS+GTB\":0.75,\n",
    "    \"VAE+GTB\":0.7442,\n",
    "    \"MLP\":0.7045,\n",
    "}\n",
    "\n",
    "prec_scores = {\n",
    "    \"PCA+LR\":[0.72, 0.7215384615384616, 0.7272727272727, 0.72, 0.731],\n",
    "    \"ICA+LR\":[ 0.76, 0.7222222222222222, 0.7592592592592593, 0.75, 0.7454545454545455],\n",
    "    \"UMAP+LR\":[0.6595744680851063, 0.6756756756756757, 0.6521739130434783, 0.6829268292682927, 0.6666666666666666],\n",
    "    \"LASSO FS+LR\":[0.7538461538461538, 0.7575757575757576, 0.74, 0.7575757575757576, 0.7424242424242424],\n",
    "    \"VAE+LR\":[0.75231236, 0.774, 0.762, 0.7683423423, 0.77051234],\n",
    "    \"PCA+SVM\":[0.7605633802816901, 0.7761194029850746, 0.7538461538461538, 0.7692307692307693, 0.7868852459016393],\n",
    "    \"ICA+SVM\":[0.7758620689655172, 0.7758620689655172, 0.7758620689655172, 0.7678571428571429, 0.7678571428571429],\n",
    "    \"UMAP+SVM\":[0.78, 0.7758620689655172, 0.7758620689655172, 0.7678571428571429, 0.7678571428571429],\n",
    "    \"LASSO FS+SVM\":[0.763469387755102, 0.7636363636363637, 0.7313432835820896, 0.7307692307692307, 0.7727272727272727],\n",
    "    \"VAE+SVM\":[0.6988989347329, 0.730434535, 0.72823123243, 0.701234342, 0.742424242],\n",
    "    \"PCA+GTB\":[0.7368421052631579, 0.8214285714285714, 0.7540983606557377, 0.75, 0.7413793103448276],\n",
    "    \"ICA+GTB\":[0.7307692307692307, 0.7241379310344828,0.7192982456140351, 0.8035714285714286, 0.7083333333333334],\n",
    "    \"UMAP+GTB\":[0.7638888888888888, 0.75, 0.8181818181818182, 0.75, 0.75],\n",
    "    \"LASSO FS+GTB\":[0.803030303030303, 0.8064516129032258, 0.7735849056603774, 0.7735849056603774, 0.7604878048780488],\n",
    "    \"VAE+GTB\":[0.790703203203, 0.8030303030303, 0.77356233897, 0.78383024983204, 0.763092749862],\n",
    "    \"MLP\":[0.7491304347826086, 0.775, 0.7857142857142857, 0.801042343, 0.7685714285714286, 0.719304347826086]\n",
    "\n",
    "}"
   ]
  },
  {
   "cell_type": "code",
   "execution_count": 6,
   "metadata": {},
   "outputs": [
    {
     "data": {
      "image/png": "[encoded data removed]",
      "text/plain": [
       "<Figure size 864x432 with 1 Axes>"
      ]
     },
     "metadata": {
      "needs_background": "light"
     },
     "output_type": "display_data"
    }
   ],
   "source": [
    "labels = np.array(list(prec_scores.keys()))\n",
    "    \n",
    "fig = plt.figure(figsize=(12,6))\n",
    "idx = 1\n",
    "\n",
    "data = [np.subtract(100*np.array(prec_scores[key]), 100*np.array(bpdp[key])) for key in prec_scores]\n",
    "ax = fig.add_subplot(1,1,idx)\n",
    "#styling the boxes\n",
    "boxprops = dict(linestyle='-', linewidth=2, color='#7570b3')\n",
    "medianprops = dict(linestyle='-', linewidth=2, color='firebrick')\n",
    "whiskerprops = dict(linestyle='-', linewidth=2, color='#7570b3')\n",
    "capprops = dict(linestyle='-', linewidth=2, color='C1')\n",
    "    \n",
    "bp = ax.boxplot(data, showmeans=True, labels=labels, widths=0.3, whiskerprops=whiskerprops, medianprops=medianprops,boxprops=boxprops, capprops=capprops)\n",
    "#     print(bp)\n",
    "idx += 1\n",
    "ax.set_ylabel(\"Improvement in precision(%)\",  fontsize=12)\n",
    "ax.set_xticklabels(labels, rotation=30, fontsize=12)\n",
    "ax.legend([bp[\"caps\"][0], bp[\"boxes\"][0], bp[\"medians\"][0], bp[\"fliers\"][0], bp[\"means\"][0]], [\"max/min\", \"25% - 75%\", \"medians\", \"ourliers\", \"means\"], loc='upper left')\n",
    "#     handles, labels = ax.get_legend_handles_labels()\n",
    "ax.yaxis.grid(True) # Hide the horizontal gridlines\n",
    "ax.xaxis.grid(True) # Show the vertical gridlines\n",
    "# plt.savefig(\"plots/eval/boxplots/\"+clf+\"_precs.png\")\n",
    "plt.show()"
   ]
  },
  {
   "cell_type": "markdown",
   "metadata": {},
   "source": [
    "#### Comparison between baseline precisions and precisions of using the best models on PPG"
   ]
  },
  {
   "cell_type": "code",
   "execution_count": 7,
   "metadata": {},
   "outputs": [
    {
     "name": "stdout",
     "output_type": "stream",
     "text": [
      "[-2.52385316 -0.27207901  0.78326521  1.0884223 ]\n"
     ]
    },
    {
     "data": {
      "image/png": "[encoded data removed]",
      "text/plain": [
       "<Figure size 576x360 with 1 Axes>"
      ]
     },
     "metadata": {
      "needs_background": "light"
     },
     "output_type": "display_data"
    }
   ],
   "source": [
    "### improvement compared to the baseline classifier for PPG\n",
    "final_ppls = {\n",
    "    \"lr\":\"Lasso FS + Logistic Regression\",\n",
    "    \"svm\":\"ICA + SVM\",\n",
    "    \"xgb\":\"Lasso FS + Gradient Tree Boosting\",\n",
    "    \"mlp\": \"MLP\",\n",
    "}\n",
    "untuned_prec = [0.44044321]\n",
    "prec_scores = {\n",
    "    \"lr\":[0.4152046783625731],\n",
    "    \"svm\":[0.4377224199288256],\n",
    "    \"xgb\":[0.4482758620689655],\n",
    "    \"mlp\":[0.451327433],\n",
    "}\n",
    "\n",
    "labels = []\n",
    "for key in final_ppls:\n",
    "    labels.append(final_ppls[key])\n",
    "    \n",
    "fig = plt.figure(figsize=(8,5))\n",
    "idx = 1\n",
    "\n",
    "data = np.array([np.subtract(100*np.array(prec_scores[key]), 100*np.array(untuned_prec)) for key in prec_scores])\n",
    "data = data.reshape((1,-1)).flatten()\n",
    "print(data)\n",
    "ax = fig.add_subplot(1,1,idx)\n",
    "#styling the boxes\n",
    "# boxprops = dict(linestyle='-', linewidth=2, color='#7570b3')\n",
    "# medianprops = dict(linestyle='-', linewidth=2, color='firebrick')\n",
    "# whiskerprops = dict(linestyle='-', linewidth=2, color='#7570b3')\n",
    "# capprops = dict(linestyle='-', linewidth=2, color='C1')\n",
    "ypos = np.arange(len(data))\n",
    "ax.barh(ypos, data, height=0.5, color='skyblue')\n",
    "ax.yaxis.grid(True) # Hide the horizontal gridlines\n",
    "ax.xaxis.grid(True) # Show the vertical gridlines\n",
    "# plt.savefig(\"plots/eval/boxplots/\"+clf+\"_precs.png\")\n",
    "ax.set_yticks(ypos)\n",
    "ax.set_yticklabels(labels, fontsize=20)\n",
    "# ax.set_xticks(list(range(8)))\n",
    "ax.set_xticklabels([\"-2.5\", \"-2.5\", \"-2.0\", \"-1.5\", \"-1.0\", \"-0.5\", \"0.0\", \"0.5\", \"1.0\"],fontsize=20)\n",
    "ax.set_xlabel('Improvement in precision(%)', fontsize=20)\n",
    "plt.show()"
   ]
  },
  {
   "cell_type": "code",
   "execution_count": null,
   "metadata": {},
   "outputs": [],
   "source": []
  },
  {
   "cell_type": "code",
   "execution_count": null,
   "metadata": {},
   "outputs": [],
   "source": []
  },
  {
   "cell_type": "markdown",
   "metadata": {},
   "source": [
    "#### Calculate metric scores form the logging results"
   ]
  },
  {
   "cell_type": "code",
   "execution_count": 8,
   "metadata": {},
   "outputs": [],
   "source": [
    "def cal_metrics(cm_ls):\n",
    "    acc = []\n",
    "    prec = []\n",
    "    f1 = []\n",
    "    for cm in cm_ls:\n",
    "        acc.append((cm[0][0] + cm[1][1])/88)\n",
    "        prec_score = cm[1][1]/(cm[0][1] + cm[1][1]) \n",
    "        prec.append(prec_score)\n",
    "        recall = cm[1][1]/(cm[1][0] + cm[1][1])\n",
    "        f1.append(2*(prec_score * recall)/(prec_score + recall))\n",
    "    return acc, prec, f1"
   ]
  },
  {
   "cell_type": "code",
   "execution_count": 9,
   "metadata": {},
   "outputs": [
    {
     "name": "stdout",
     "output_type": "stream",
     "text": [
      "vae_lr_prec: [0.75, 0.75, 0.7727272727272727, 0.7547169811320755, 0.7962962962962963]\n",
      "vae_lr_acc: [0.5681818181818182, 0.5681818181818182, 0.5681818181818182, 0.6022727272727273, 0.6590909090909091]\n",
      "vae_lr_f1: [0.6545454545454547, 0.6545454545454547, 0.6415094339622641, 0.6956521739130435, 0.7413793103448276]\n"
     ]
    }
   ],
   "source": [
    "lr_cms = [[[14,12],[26,36]], [[14,12],[26,36]], [[16,10],[28,34]], [[13,13],[22,40]], [[15,11], [19,43]]]\n",
    "lr_acc, lr_prec, lr_f1 = cal_metrics(lr_cms)\n",
    "print(\"vae_lr_prec:\", lr_prec)\n",
    "print(\"vae_lr_acc:\", lr_acc)\n",
    "print(\"vae_lr_f1:\", lr_f1)"
   ]
  },
  {
   "cell_type": "code",
   "execution_count": 10,
   "metadata": {},
   "outputs": [
    {
     "name": "stdout",
     "output_type": "stream",
     "text": [
      "vae_svm_prec: [0.6756756756756757, 0.6571428571428571, 0.6470588235294118, 0.6521739130434783, 1.0]\n",
      "vae_svm_acc: [0.4431818181818182, 0.42045454545454547, 0.4090909090909091, 0.375, 0.32954545454545453]\n",
      "vae_svm_f1: [0.5050505050505051, 0.4742268041237113, 0.4583333333333333, 0.35294117647058826, 0.09230769230769231]\n"
     ]
    }
   ],
   "source": [
    "svm_cms = [[[14,12],[37,25]], [[14,12],[39,23]], [[14,12],[40,22]], [[18,8],[47,15]], [[26,0],[59,3]]]\n",
    "svm_acc, svm_prec, svm_f1 = cal_metrics(svm_cms)\n",
    "print(\"vae_svm_prec:\", svm_prec)\n",
    "print(\"vae_svm_acc:\", svm_acc)\n",
    "print(\"vae_svm_f1:\", svm_f1)"
   ]
  },
  {
   "cell_type": "code",
   "execution_count": 11,
   "metadata": {},
   "outputs": [
    {
     "name": "stdout",
     "output_type": "stream",
     "text": [
      "vae_xgb_prec: [0.7560975609756098, 0.7857142857142857, 0.8, 0.813953488372093, 0.7857142857142857]\n",
      "vae_xgb_acc: [0.5340909090909091, 0.5681818181818182, 0.5681818181818182, 0.6022727272727273, 0.5681818181818182]\n",
      "vae_xgb_f1: [0.6019417475728155, 0.6346153846153847, 0.6274509803921569, 0.6666666666666667, 0.6346153846153847]\n"
     ]
    }
   ],
   "source": [
    "xgb_cms = [[[16,10],[31,31]], [[17,9],[29,33]], [[18,8],[30,32]], [[18,8],[27,35]], [[17,9],[29,33]]]\n",
    "xgb_acc, xgb_prec, xgb_f1 = cal_metrics(xgb_cms)\n",
    "print(\"vae_xgb_prec:\", xgb_prec)\n",
    "print(\"vae_xgb_acc:\", xgb_acc)\n",
    "print(\"vae_xgb_f1:\", xgb_f1)"
   ]
  },
  {
   "cell_type": "code",
   "execution_count": 12,
   "metadata": {},
   "outputs": [],
   "source": [
    "## lr\n",
    "prec = {\n",
    "    \"pca_lr_prec\":[0.72, 0.7115384615384616, 0.72, 0.6792452830188679, 0.6727272727272727],\n",
    "    \"ica_lr_prec\":[0.76, 0.7222222222222222, 0.7592592592592593, 0.75, 0.7],\n",
    "    \"umap_lr_prec\":[0.6486486486486487, 0.6756756756756757, 0.6521739130434783, 0.6829268292682927, 0.6666666666666666],\n",
    "    \"fs_lr_prec\":[0.7538461538461538, 0.7575757575757576, 0.74, 0.7575757575757576, 0.7424242424242424],\n",
    "    \"vae_lr_prec\":[0.75, 0.75, 0.7727272727272727, 0.7547169811320755, 0.7962962962962963]\n",
    "}\n",
    "\n",
    "acc = {\n",
    "    \"pca_lr_acc\":[0.5454545454545454, 0.5454545454545454, 0.5454545454545454, 0.5113636363636364, 0.5113636363636364],   \n",
    "    \"ica_lr_acc\":[0.5909090909090909, 0.5681818181818182, 0.6136363636363636, 0.6136363636363636, 0.5681818181818182],\n",
    "    \"umap_lr_acc\":[0.42045454545454547, 0.4431818181818182, 0.45454545454545453, 0.4659090909090909, 0.4318181818181818],\n",
    "    \"fs_lr_acc\":[0.6704545454545454, 0.6818181818181818, 0.6818181818181818, 0.6818181818181818, 0.6590909090909091],    \n",
    "    \"vae_lr_acc\":[0.5681818181818182, 0.5681818181818182, 0.5681818181818182, 0.6022727272727273, 0.6590909090909091]\n",
    "}\n",
    "\n",
    "f1 = {\n",
    "    \"pca_lr_f1\":[0.6428571428571428, 0.6491228070175439, 0.6428571428571428, 0.6260869565217392, 0.6324786324786325],\n",
    "    \"ica_lr_f1\":[0.6785714285714285, 0.6724137931034483, 0.7068965517241378, 0.7118644067796611, 0.6885245901639343],\n",
    "    \"umap_lr_f1\":[0.48484848484848475, 0.5050505050505051, 0.5555555555555556, 0.5436893203883495, 0.4897959183673469],\n",
    "    \"fs_lr_f1\":[0.7716535433070866, 0.7812499999999999, 0.7812499999999999, 0.7812499999999999, 0.7656250000000001],   \n",
    "    \"vae_lr_f1\":[0.5050505050505051, 0.4742268041237113, 0.4583333333333333, 0.35294117647058826, 0.09230769230769231]   \n",
    "}"
   ]
  },
  {
   "cell_type": "code",
   "execution_count": 14,
   "metadata": {},
   "outputs": [],
   "source": [
    "## svm\n",
    "prec = {\n",
    "    \"pca_svm_prec\":[0.7605633802816901, 0.7761194029850746, 0.7538461538461538, 0.7692307692307693, 0.7868852459016393],\n",
    "    \"ica_svm_prec\":[0.78, 0.7758620689655172, 0.7758620689655172, 0.7678571428571429, 0.7678571428571429],\n",
    "    \"umap_svm_prec\":[0.673469387755102, 0.7636363636363637, 0.7142857142857143, 0.7307692307692307, 0.7727272727272727],\n",
    "    \"fs_svm_prec\":[0.75, 0.7538461538461538, 0.75, 0.7575757575757576, 0.74],\n",
    "    \"vae_svm_prec\":[0.6756756756756757, 0.6571428571428571, 0.6470588235294118, 0.6521739130434783, 1.0]\n",
    "}\n",
    "\n",
    "acc = {\n",
    "    \"pca_svm_acc\":[0.7159090909090909, 0.7159090909090909, 0.6704545454545454, 0.6931818181818182, 0.6931818181818182],\n",
    "    \"ica_svm_acc\":[0.6590909090909091, 0.6590909090909091, 0.6590909090909091, 0.6363636363636364, 0.6363636363636364],\n",
    "    \"umap_svm_acc\":[0.48863636363636365, 0.625, 0.5, 0.5681818181818182, 0.5681818181818182],\n",
    "    \"fs_svm_acc\":[0.5681818181818182, 0.5681818181818182, 0.5909090909090909, 0.5681818181818182, 0.5909090909090909],    \n",
    "    \"vae_svm_acc\":[0.4431818181818182, 0.42045454545454547, 0.4090909090909091, 0.375, 0.32954545454545453]\n",
    "}\n",
    "\n",
    "f1 = {\n",
    "    \"pca_svm_f1\":[0.8120300751879699, 0.8062015503875968, 0.7716535433070866, 0.7874015748031495, 0.7804878048780488],\n",
    "    \"ica_svm_f1\":[0.7500000000000001, 0.7500000000000001, 0.7500000000000001, 0.7288135593220338, 0.7288135593220338],\n",
    "    \"umap_svm_f1\":[0.5945945945945945, 0.7179487179487181, 0.5769230769230769, 0.6666666666666667, 0.6415094339622641],\n",
    "    \"fs_svm_f1\":[0.6545454545454547, 0.6545454545454547, 0.6842105263157896, 0.6545454545454547, 0.6842105263157896],   \n",
    "    \"vae_svm_f1\":[0.6785714285714285, 0.6724137931034483, 0.7068965517241378, 0.7118644067796611, 0.6885245901639343],   \n",
    "}"
   ]
  },
  {
   "cell_type": "code",
   "execution_count": 15,
   "metadata": {},
   "outputs": [],
   "source": [
    "## svm\n",
    "prec = {\n",
    "    \"pca_svm_prec\":[0.7605633802816901, 0.7761194029850746, 0.7538461538461538, 0.7692307692307693, 0.7868852459016393],\n",
    "    \"ica_svm_prec\":[0.78, 0.7758620689655172, 0.7758620689655172, 0.7678571428571429, 0.7678571428571429],\n",
    "    \"umap_svm_prec\":[0.673469387755102, 0.7636363636363637, 0.7142857142857143, 0.7307692307692307, 0.7727272727272727],\n",
    "    \"fs_svm_prec\":[0.75, 0.7538461538461538, 0.75, 0.7575757575757576, 0.74],\n",
    "    \"vae_svm_prec\":[0.6756756756756757, 0.6571428571428571, 0.6470588235294118, 0.6521739130434783, 1.0]\n",
    "}\n",
    "\n",
    "acc = {\n",
    "    \"pca_svm_acc\":[0.7159090909090909, 0.7159090909090909, 0.6704545454545454, 0.6931818181818182, 0.6931818181818182],\n",
    "    \"ica_svm_acc\":[0.6590909090909091, 0.6590909090909091, 0.6590909090909091, 0.6363636363636364, 0.6363636363636364],\n",
    "    \"umap_svm_acc\":[0.48863636363636365, 0.625, 0.5, 0.5681818181818182, 0.5681818181818182],\n",
    "    \"fs_svm_acc\":[0.5681818181818182, 0.5681818181818182, 0.5909090909090909, 0.5681818181818182, 0.5909090909090909],    \n",
    "    \"vae_svm_acc\":[0.4431818181818182, 0.42045454545454547, 0.4090909090909091, 0.375, 0.32954545454545453]\n",
    "}\n",
    "\n",
    "f1 = {\n",
    "    \"pca_svm_f1\":[0.8120300751879699, 0.8062015503875968, 0.7716535433070866, 0.7874015748031495, 0.7804878048780488],\n",
    "    \"ica_svm_f1\":[0.7500000000000001, 0.7500000000000001, 0.7500000000000001, 0.7288135593220338, 0.7288135593220338],\n",
    "    \"umap_svm_f1\":[0.5945945945945945, 0.7179487179487181, 0.5769230769230769, 0.6666666666666667, 0.6415094339622641],\n",
    "    \"fs_svm_f1\":[0.6545454545454547, 0.6545454545454547, 0.6842105263157896, 0.6545454545454547, 0.6842105263157896],   \n",
    "    \"vae_svm_f1\":[0.6785714285714285, 0.6724137931034483, 0.7068965517241378, 0.7118644067796611, 0.6885245901639343],   \n",
    "}"
   ]
  },
  {
   "cell_type": "code",
   "execution_count": 17,
   "metadata": {},
   "outputs": [
    {
     "name": "stdout",
     "output_type": "stream",
     "text": [
      "prec\n"
     ]
    },
    {
     "ename": "KeyError",
     "evalue": "'pca_xgb_prec'",
     "output_type": "error",
     "traceback": [
      "\u001b[0;31m-------------------------------------\u001b[0m",
      "\u001b[0;31mKeyError\u001b[0mTraceback (most recent call last)",
      "\u001b[0;32m<ipython-input-17-43bf8ceb6381>\u001b[0m in \u001b[0;36m<module>\u001b[0;34m\u001b[0m\n\u001b[1;32m      8\u001b[0m     \u001b[0;32mfor\u001b[0m \u001b[0mkey\u001b[0m \u001b[0;32min\u001b[0m \u001b[0mmetrics_dict\u001b[0m\u001b[0;34m:\u001b[0m\u001b[0;34m\u001b[0m\u001b[0;34m\u001b[0m\u001b[0m\n\u001b[1;32m      9\u001b[0m         \u001b[0mprint\u001b[0m\u001b[0;34m(\u001b[0m\u001b[0mkey\u001b[0m\u001b[0;34m)\u001b[0m\u001b[0;34m\u001b[0m\u001b[0;34m\u001b[0m\u001b[0m\n\u001b[0;32m---> 10\u001b[0;31m         \u001b[0mprint\u001b[0m\u001b[0;34m(\u001b[0m\u001b[0;34m\"Mean for,\"\u001b[0m\u001b[0;34m,\u001b[0m\u001b[0mdr\u001b[0m\u001b[0;34m,\u001b[0m \u001b[0;34m\":\"\u001b[0m\u001b[0;34m,\u001b[0m \u001b[0mnp\u001b[0m\u001b[0;34m.\u001b[0m\u001b[0mmean\u001b[0m\u001b[0;34m(\u001b[0m\u001b[0mnp\u001b[0m\u001b[0;34m.\u001b[0m\u001b[0marray\u001b[0m\u001b[0;34m(\u001b[0m\u001b[0mmetrics_dict\u001b[0m\u001b[0;34m[\u001b[0m\u001b[0mkey\u001b[0m\u001b[0;34m]\u001b[0m\u001b[0;34m[\u001b[0m\u001b[0mdr\u001b[0m\u001b[0;34m+\u001b[0m\u001b[0;34m\"_\"\u001b[0m\u001b[0;34m+\u001b[0m\u001b[0mclf\u001b[0m\u001b[0;34m+\u001b[0m\u001b[0;34m\"_\"\u001b[0m\u001b[0;34m+\u001b[0m\u001b[0mkey\u001b[0m\u001b[0;34m]\u001b[0m\u001b[0;34m)\u001b[0m\u001b[0;34m)\u001b[0m\u001b[0;34m)\u001b[0m\u001b[0;34m\u001b[0m\u001b[0;34m\u001b[0m\u001b[0m\n\u001b[0m\u001b[1;32m     11\u001b[0m         \u001b[0mprint\u001b[0m\u001b[0;34m(\u001b[0m\u001b[0;34m\"Std. dev for\"\u001b[0m\u001b[0;34m,\u001b[0m \u001b[0mdr\u001b[0m\u001b[0;34m,\u001b[0m \u001b[0;34m\":\"\u001b[0m\u001b[0;34m,\u001b[0m \u001b[0mnp\u001b[0m\u001b[0;34m.\u001b[0m\u001b[0mstd\u001b[0m\u001b[0;34m(\u001b[0m\u001b[0mnp\u001b[0m\u001b[0;34m.\u001b[0m\u001b[0marray\u001b[0m\u001b[0;34m(\u001b[0m\u001b[0mmetrics_dict\u001b[0m\u001b[0;34m[\u001b[0m\u001b[0mkey\u001b[0m\u001b[0;34m]\u001b[0m\u001b[0;34m[\u001b[0m\u001b[0mdr\u001b[0m\u001b[0;34m+\u001b[0m\u001b[0;34m\"_\"\u001b[0m\u001b[0;34m+\u001b[0m\u001b[0mclf\u001b[0m\u001b[0;34m+\u001b[0m\u001b[0;34m\"_\"\u001b[0m\u001b[0;34m+\u001b[0m\u001b[0mkey\u001b[0m\u001b[0;34m]\u001b[0m\u001b[0;34m)\u001b[0m\u001b[0;34m)\u001b[0m\u001b[0;34m)\u001b[0m\u001b[0;34m\u001b[0m\u001b[0;34m\u001b[0m\u001b[0m\n",
      "\u001b[0;31mKeyError\u001b[0m: 'pca_xgb_prec'"
     ]
    }
   ],
   "source": [
    "metrics_dict = {\n",
    "    \"prec\":prec,\n",
    "    \"acc\":acc,\n",
    "    \"f1\":f1\n",
    "}\n",
    "clf = \"xgb\"\n",
    "for dr in [\"pca\", \"ica\", \"umap\", \"fs\", \"vae\"]:\n",
    "    for key in metrics_dict:\n",
    "        print(key)\n",
    "        print(\"Mean for,\",dr, \":\", np.mean(np.array(metrics_dict[key][dr+\"_\"+clf+\"_\"+key])))\n",
    "        print(\"Std. dev for\", dr, \":\", np.std(np.array(metrics_dict[key][dr+\"_\"+clf+\"_\"+key])))"
   ]
  },
  {
   "cell_type": "code",
   "execution_count": 18,
   "metadata": {},
   "outputs": [],
   "source": [
    "final_prec = {\n",
    "    \"Lasso FS+Logistic Regression\":[0.7538461538461538, 0.7575757575757576, 0.74, 0.7575757575757576, 0.7424242424242424],\n",
    "    \"ICA+SVM\":[0.78, 0.7758620689655172, 0.7758620689655172, 0.7678571428571429, 0.7678571428571429],\n",
    "    \"Lasso FS+Gradient Tree Boosting\":[0.803030303030303, 0.8064516129032258, 0.7735849056603774, 0.7735849056603774, 0.75],\n",
    "    \"MLP\":[0.775, 0.7857142857142857, 0.80104234, 0.7685714285714286, 0.719304347826086],\n",
    "}"
   ]
  },
  {
   "cell_type": "code",
   "execution_count": 19,
   "metadata": {},
   "outputs": [
    {
     "name": "stdout",
     "output_type": "stream",
     "text": [
      "0.76992648042236\n",
      "0.0275957554279977\n"
     ]
    }
   ],
   "source": [
    "mlp_precs = [0.775, 0.7857142857142857, 0.80104234, 0.7685714285714286, 0.719304347826086]\n",
    "mean = np.mean(mlp_precs)\n",
    "std = np.std(mlp_precs)\n",
    "print(mean)\n",
    "print(std)\n"
   ]
  },
  {
   "cell_type": "code",
   "execution_count": null,
   "metadata": {},
   "outputs": [],
   "source": []
  },
  {
   "cell_type": "code",
   "execution_count": null,
   "metadata": {},
   "outputs": [],
   "source": []
  },
  {
   "cell_type": "code",
   "execution_count": null,
   "metadata": {},
   "outputs": [],
   "source": []
  },
  {
   "cell_type": "markdown",
   "metadata": {},
   "source": [
    "#### Confusion matrix for clustering"
   ]
  },
  {
   "cell_type": "code",
   "execution_count": 20,
   "metadata": {},
   "outputs": [
    {
     "data": {
      "image/png": "[encoded data removed]",
      "text/plain": [
       "<Figure size 432x288 with 2 Axes>"
      ]
     },
     "metadata": {
      "needs_background": "light"
     },
     "output_type": "display_data"
    }
   ],
   "source": [
    "### Confusion matrix for clustering\n",
    "from sklearn.metrics import confusion_matrix\n",
    "\n",
    "labels = ['Health Control', 'Parkinson\\'s Disease']\n",
    "cm = [[round(17/26,2),round(9/26,2)], \n",
    "      [ round(4/62,2),round(58/62,2)]]\n",
    "fig = plt.figure()\n",
    "ax = fig.add_subplot(111)\n",
    "cax = ax.imshow(cm, cmap=\"GnBu\")\n",
    "plt.title('Confusion matrix of the Lasso FS and GTB with clustering')\n",
    "fig.colorbar(cax, cmap=\"GnBu\")\n",
    "ax.set(\n",
    "    xticks = np.arange(2),\n",
    "    yticks = np.arange(2),\n",
    "    xticklabels=labels,\n",
    "    yticklabels=labels,\n",
    "    ylabel=\"True label\",\n",
    "    xlabel=\"Predicted label\"\n",
    ")\n",
    "cmap_min, cmap_max = cax.cmap(0), cax.cmap(256)\n",
    "thresh = 0.5\n",
    "\n",
    "for i in range(2):\n",
    "    for j in range(2):\n",
    "        color = cmap_max if cm[i][j] < thresh else cmap_min\n",
    "        ax.text(j, i, cm[i][j], ha=\"center\", va=\"center\", color=color)\n",
    "# ax.set_xticklabels([''] + labels)\n",
    "# ax.set_yticklabels([''] + labels)\n",
    "# plt.xlabel('Predicted')\n",
    "# plt.ylabel('True')\n",
    "plt.show()"
   ]
  },
  {
   "cell_type": "markdown",
   "metadata": {},
   "source": [
    "### Confusion matrix of MLP on PPG"
   ]
  },
  {
   "cell_type": "code",
   "execution_count": 21,
   "metadata": {},
   "outputs": [
    {
     "data": {
      "image/png": "[encoded data removed]",
      "text/plain": [
       "<Figure size 432x288 with 2 Axes>"
      ]
     },
     "metadata": {
      "needs_background": "light"
     },
     "output_type": "display_data"
    }
   ],
   "source": [
    "from sklearn.metrics import confusion_matrix\n",
    "\n",
    "labels = ['Health Control', 'Parkinson\\'s Disease']\n",
    "cm = [[round(113/172,2),round(89/172,2)], \n",
    "      [ round(86/159,2),round(73/159,2)]]\n",
    "fig = plt.figure()\n",
    "ax = fig.add_subplot(111)\n",
    "cax = ax.imshow(cm, cmap=\"GnBu\")\n",
    "plt.title('Normalised confusion matrix for MLP')\n",
    "fig.colorbar(cax, cmap=\"GnBu\")\n",
    "ax.set(\n",
    "    xticks = np.arange(2),\n",
    "    yticks = np.arange(2),\n",
    "    xticklabels=labels,\n",
    "    yticklabels=labels,\n",
    ")\n",
    "cmap_min, cmap_max = cax.cmap(0), cax.cmap(256)\n",
    "thresh = 0.5\n",
    "\n",
    "for i in range(2):\n",
    "    for j in range(2):\n",
    "        color = cmap_max if cm[i][j] < thresh else cmap_min\n",
    "        ax.text(j, i, cm[i][j], ha=\"center\", va=\"center\", color=color)\n",
    "# ax.set_xticklabels([''] + labels)\n",
    "# ax.set_yticklabels([''] + labels)\n",
    "# plt.xlabel('Predicted')\n",
    "# plt.ylabel('True')\n",
    "plt.show()"
   ]
  },
  {
   "cell_type": "code",
   "execution_count": null,
   "metadata": {},
   "outputs": [],
   "source": []
  }
 ],
 "metadata": {
  "kernelspec": {
   "display_name": "Python 3",
   "language": "python",
   "name": "python3"
  },
  "language_info": {
   "codemirror_mode": {
    "name": "ipython",
    "version": 3
   },
   "file_extension": ".py",
   "mimetype": "text/x-python",
   "name": "python",
   "nbconvert_exporter": "python",
   "pygments_lexer": "ipython3",
   "version": "3.6.10"
  }
 },
 "nbformat": 4,
 "nbformat_minor": 4
}
