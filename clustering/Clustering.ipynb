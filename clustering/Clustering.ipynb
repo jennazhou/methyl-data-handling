{
 "cells": [
  {
   "cell_type": "code",
   "execution_count": null,
   "metadata": {},
   "outputs": [
    {
     "name": "stdout",
     "output_type": "stream",
     "text": [
      "CHECKPOINT1\n",
      "CHECKPOINT2\n",
      "CHECKPOINT3\n"
     ]
    },
    {
     "name": "stderr",
     "output_type": "stream",
     "text": [
      "/home/rz296/miniconda3/envs/partII/lib/python3.6/multiprocessing/popen_fork.py:73: DtypeWarning: Columns (1,2,3,4,5,6,7,8,9,10,11,12,13,14,15,16,17,18,19,20,21,22,23,24,25,26,27,28,29,30,31,32,33,34,35,36,37,38,39,40,41,42,43,44,45,46,47,48,49,50,51,52,53,54,55,56,57,58,59,60,61,62,63,64,65,66,67,68,69,70,71,72,73,74,75,76,77,78,79,80,81,82,83,84,85,86,87,88,89,90,91,92,93,94,95,96,97,98,99,100,101,102,103,104,105,106,107,108,109,110,111,112,113,114,115,116,117,118,119,120,121,122,123,124,125,126,127,128,129,130,131,132,133,134,135,136,137,138,139,140,141,142,143,144,145,146,147,148,149,150,151,152,153,154,155,156,157,158,159,160,161,162,163,164,165,166,167,168,169,170,171,172,173,174,175,176,177,178,179,180,181,182,183,184,185,186,187,188,189,190,191,192,193,194,195,196,197,198,199,200,201,202,203,204,205,206,207,208,209,210,211,212,213,214,215,216,217,218,219,220,221,222,223,224,225,226,227,228,229,230,231,232,233,234,235,236,237,238,239,240,241,242,243,244,245,246,247,248,249,250,251,252,253,254,255,256,257,258,259,260,261,262,263,264,265,266,267,268,269,270,271,272,273,274,275,276,277,278,279,280,281,282,283,284,285,286,287,288,289,290,291,292,293,294,295,296,297,298,299,300,301,302,303,304,305,306,307,308,309,310,311,312,313,314,315,316,317,318,319,320,321,322,323,324,325,326,327,328,329,330,331,332,333,334,335,336,337,338,339,340,341,342,343,344,345,346,347,348,349,350,351,352,353,354,355,356,357,358,359,360,361,362,363,364,365,366,367,368,369,370,371,372,373,374,375,376,377,378,379,380,381,382,383,384,385,386,387,388,389,390,391,392,393,394,395,396,397,398,399,400,401,402,403,404,405,406,407,408,409,410,411,412,413,414,415,416,417,418,419,420,421,422,423,424,425,426,427,428,429,430,431,432,433,434,435,436) have mixed types.Specify dtype option on import or set low_memory=False.\n",
      "  code = process_obj._bootstrap()\n"
     ]
    },
    {
     "name": "stdout",
     "output_type": "stream",
     "text": [
      "(436, 747668)\n",
      "(436,)\n",
      "Oversampling check\n"
     ]
    }
   ],
   "source": [
    "import gc\n",
    "import ctypes\n",
    "\n",
    "import pandas as pd\n",
    "import numpy as np\n",
    "\n",
    "from sklearn.preprocessing import LabelEncoder\n",
    "from sklearn.model_selection import StratifiedShuffleSplit\n",
    "from sklearn.model_selection import StratifiedKFold\n",
    "from sklearn.preprocessing import StandardScaler, MinMaxScaler\n",
    "from imblearn.over_sampling import SMOTE\n",
    "from imblearn.under_sampling import RandomUnderSampler\n",
    "\n",
    "from sklearn.linear_model import LogisticRegression, Lasso\n",
    "from sklearn.model_selection import cross_val_predict, cross_val_score\n",
    "from sklearn.metrics import accuracy_score, confusion_matrix, precision_score\n",
    "from sklearn.model_selection import GridSearchCV\n",
    "\n",
    "from sklearn.svm import LinearSVC, SVC\n",
    "from sklearn.pipeline import Pipeline\n",
    "\n",
    "from sklearn.decomposition import PCA\n",
    "from umap.umap_ import UMAP\n",
    "from sklearn.decomposition import FastICA\n",
    "import xgboost as xgb\n",
    "\n",
    "from sklearn.feature_selection import SelectFromModel\n",
    "\n",
    "from multiprocessing import Process, Manager\n",
    "\n",
    "from sklearn.cluster import KMeans\n",
    "\n",
    "def set_Data(data):\n",
    "    ppmi = pd.read_csv('../../datasets/preprocessed/trans_processed_PPMI_data.csv')\n",
    "    ppmi.rename(columns={'Unnamed: 0':'Sentrix_position'}, inplace=True)\n",
    "    ppmi.set_index('Sentrix_position', inplace=True)\n",
    "    ppmi = ppmi.transpose()\n",
    "\n",
    "    encoder = LabelEncoder()\n",
    "    label = encoder.fit_transform(ppmi['Category'])\n",
    "\n",
    "    tr = ppmi.drop(['Category'], axis=1)\n",
    "    X = tr.values\n",
    "    y = label\n",
    "    print(X.shape)\n",
    "    print(y.shape)\n",
    "\n",
    "#     print(\"StratifiedSampling check\")\n",
    "#     split = StratifiedShuffleSplit(n_splits=1, test_size=0.2, random_state=42)\n",
    "#     split.get_n_splits(X, y)\n",
    "\n",
    "#     for train_index, test_index in split.split(X, y):\n",
    "#         X_train, X_test = X[train_index], X[test_index]\n",
    "#         y_train, data['y_test'] = y[train_index], y[test_index]\n",
    "\n",
    "    print(\"Oversampling check\")\n",
    "    oversampler = SMOTE(random_state=42)\n",
    "    X_sampled, data['y_sampled'] = oversampler.fit_resample(X, y)\n",
    "    print(X_sampled.shape)\n",
    "    print(\"Scaling check\")\n",
    "    scaler = StandardScaler()\n",
    "#     scaler = MinMaxScaler()\n",
    "    X_scaled = scaler.fit_transform(X_sampled)\n",
    "    data['X_scaled_1'] = X_scaled[:300].reshape((1, -1))\n",
    "    data['X_scaled_2'] = X_scaled[300:].reshape((1, -1))\n",
    "    \n",
    "    print(\"Returning check\")\n",
    "\n",
    "manager = Manager()\n",
    "data = manager.dict()\n",
    "\n",
    "print(\"CHECKPOINT1\")\n",
    "#     p = Process(target=set_Data, args=(X_train_scaled, X_test_scaled, y_train_sampled, y_test,))\n",
    "p = Process(target=set_Data, args=(data,))\n",
    "print(\"CHECKPOINT2\")\n",
    "p.start()\n",
    "print(\"CHECKPOINT3\")\n",
    "p.join()\n",
    "\n",
    "y_sampled = data['y_sampled']\n",
    "X_scaled = np.append(data['X_scaled_1'], data['X_scaled_2']).reshape(618, 747668)\n",
    "\n",
    "# print (\"Shape of final train and test sets:\", X_train_scaled.shape, X_test_scaled.shape)    "
   ]
  },
  {
   "cell_type": "code",
   "execution_count": null,
   "metadata": {},
   "outputs": [],
   "source": [
    "## clustering\n",
    "X_for_clustering = X_scaled.transpose()\n",
    "print(\"Shape of X for clustering:\",  X_for_clustering.shape)\n",
    "### Need to tune n_clusters\n",
    "ks =  [3]\n",
    "cluster_reduced_dict={}\n",
    "for k in ks:\n",
    "    kmeans = KMeans(n_clusters=k, random_state=0, n_jobs=k, verbose=1).fit(X_for_clustering)\n",
    "    clusters = kmeans.labels_\n",
    "    for n in range(k):\n",
    "        print(\"Index of features in cluster\", n+1, \"is:\")\n",
    "        i = np.where(clusters == n)\n",
    "        print(i)\n",
    "        print(\"Number of features in cluster\",n+1, \"=\", i[0].size)\n",
    "        X_cluster = X_for_clustering[i].transpose()\n",
    "        print(\"Shape of X_train_cluster\",n+1,\"is\", X_cluster.shape)\n",
    "        umap = UMAP(n_components=4)\n",
    "        X_umap = umap.fit_transform(X_cluster)\n",
    "        cluster_reduced_dict[n] = X_umap\n",
    "        \n",
    "        print(\"Cluters dict:\")\n",
    "        print(cluster_reduced_dict)\n",
    "        temp = np.concatenate((cluster_reduced_dict[0], cluster_reduced_dict[1]), axis=1)\n",
    "        X_reduced =  np.concatenate((temp, cluster_reduced_dict[2]), axis=1)\n",
    "        print(\"Final shape of input data after clustering:\", X_train.shape)"
   ]
  },
  {
   "cell_type": "code",
   "execution_count": null,
   "metadata": {},
   "outputs": [],
   "source": [
    "### Split training and testing sets\n",
    "split = StratifiedShuffleSplit(n_splits=1, test_size=0.2, random_state=42)\n",
    "split.get_n_splits(X_reduced, y_sampled)\n",
    "\n",
    "for train_index, test_index in split.split(X_reduced, y_sampled):\n",
    "    X_train, X_test = X[train_index], X[test_index]\n",
    "    y_train, y_test= y[train_index], y[test_index]"
   ]
  },
  {
   "cell_type": "code",
   "execution_count": null,
   "metadata": {
    "scrolled": true
   },
   "outputs": [],
   "source": [
    "### Train on the concatenated clusters\n",
    "clf = xgb.XGBClassifier(\n",
    "            objective='binary:logistic', \n",
    "            seed=42, \n",
    "            tree_method='gpu_hist',\n",
    "            learning_rate=0.3,\n",
    "            subsample=0.7,\n",
    "            gpu_id=1,\n",
    "            colsample_bytree=0.5,\n",
    "            n_estimators=10,\n",
    "            max_depth=4\n",
    "        )\n",
    "\n",
    "clf.fit(X_train, y_train_sampled)\n",
    "\n",
    "y_pred_tr = clf.predict(X_train)\n",
    "y_pred_te = clf.predict(X_test_scaled)\n",
    "cm_tr = confusion_matrix(y_train_sampled, y_pred_tr)\n",
    "cm_te = confusion_matrix(y_test, y_pred_te)\n",
    "print(\"Confusion matrix of clustered + reduced training set using UMAP+XGBoost:\")\n",
    "print(cm_tr)\n",
    "print(\"Confusion matrix of clustered + reduced testing set using UMAP+XGBoost:\")\n",
    "print(cm_te)\n",
    "print(\"precision of testing set:\", precision_score(y_test, y_pred_te))\n"
   ]
  },
  {
   "cell_type": "code",
   "execution_count": null,
   "metadata": {},
   "outputs": [],
   "source": []
  }
 ],
 "metadata": {
  "kernelspec": {
   "display_name": "Python 3",
   "language": "python",
   "name": "python3"
  },
  "language_info": {
   "codemirror_mode": {
    "name": "ipython",
    "version": 3
   },
   "file_extension": ".py",
   "mimetype": "text/x-python",
   "name": "python",
   "nbconvert_exporter": "python",
   "pygments_lexer": "ipython3",
   "version": "3.6.10"
  }
 },
 "nbformat": 4,
 "nbformat_minor": 4
}
