{
 "cells": [
  {
   "cell_type": "code",
   "execution_count": 2,
   "metadata": {},
   "outputs": [],
   "source": [
    "##Plots for halway presentation first\n",
    "import matplotlib.pyplot as plt\n",
    "import matplotlib"
   ]
  },
  {
   "cell_type": "code",
   "execution_count": 5,
   "metadata": {},
   "outputs": [
    {
     "data": {
      "image/png": "[encoded data removed]",
      "text/plain": [
       "<Figure size 1080x360 with 3 Axes>"
      ]
     },
     "metadata": {
      "needs_background": "light"
     },
     "output_type": "display_data"
    }
   ],
   "source": [
    "a##Plot All DR+CLF for accuracy:PPMI\n",
    "x = [\"PCA\", \"ICA\", \"UMAP\", \"LassoFS\", \"VAE\"]\n",
    "y_lr = [0.557, 0.693, 0.5909, 0.7272, 0.7163]\n",
    "y_svm = [0.295,  0.7045, 0.7045, 0.7045,  0.73863]\n",
    "y_xgb = [0.7045, 0.69318,  0.625,  0.70454, 0.7014]\n",
    "# fig, (ax1, ax2, ax3) = plt.subplots(1, 3, figsize=(15,15))\n",
    "fig = plt.figure(figsize=(15,5))\n",
    "ax1 = fig.add_subplot(131)\n",
    "ax2 = fig.add_subplot(132)\n",
    "ax3 = fig.add_subplot(133)\n",
    "fig.suptitle('Accuracy of different pipelines', fontsize=10)\n",
    "ax1.bar(x, y_lr, width=0.55, color='skyblue')\n",
    "ax2.bar(x, y_svm, width=0.55, color='darkorange')\n",
    "ax3.bar(x, y_xgb, width=0.55, color='forestgreen')\n",
    "ax1.set_ylim(0,1)\n",
    "ax2.set_ylim(0,1)\n",
    "ax3.set_ylim(0,1)\n",
    "ax1.set_ylabel(\"Logistic Regression\", fontsize=8)\n",
    "ax2.set_ylabel(\"Support Vector Machine\", fontsize=8)\n",
    "ax3.set_ylabel(\"Gradient Boosting\", fontsize=8)\n",
    "plt.show\n",
    "\n",
    "plt.savefig('./plots/dr-lr.png', bbox_inches='tight')"
   ]
  },
  {
   "cell_type": "code",
   "execution_count": null,
   "metadata": {},
   "outputs": [],
   "source": [
    "a##Plot All DR+CLF for accuracy:Propag-aging\n",
    "x = [\"PCA\", \"ICA\", \"UMAP\", \"LassoFS\", \"VAE\"]\n",
    "y_lr = [ 0.4349, 0.45429,  0.454293, 0.4265929, 0.446592]\n",
    "y_svm = [ 0.45429,  0.4437,  0.9433, 0.50635,  0.73863]\n",
    "y_xgb = [0.7045, 0.69318,  0.625,  0.70454, 0.7014]\n",
    "# fig, (ax1, ax2, ax3) = plt.subplots(1, 3, figsize=(15,15))\n",
    "fig = plt.figure(figsize=(15,5))\n",
    "ax1 = fig.add_subplot(131)\n",
    "ax2 = fig.add_subplot(132)\n",
    "ax3 = fig.add_subplot(133)\n",
    "fig.suptitle('Accuracy of different pipelines', fontsize=10)\n",
    "ax1.bar(x, y_lr, width=0.55, color='skyblue')\n",
    "ax2.bar(x, y_svm, width=0.55, color='darkorange')\n",
    "ax3.bar(x, y_xgb, width=0.55, color='forestgreen')\n",
    "ax1.set_ylim(0,1)\n",
    "ax2.set_ylim(0,1)\n",
    "ax3.set_ylim(0,1)\n",
    "ax1.set_ylabel(\"Logistic Regression\", fontsize=8)\n",
    "ax2.set_ylabel(\"Support Vector Machine\", fontsize=8)\n",
    "ax3.set_ylabel(\"Gradient Boosting\", fontsize=8)\n",
    "plt.show\n",
    "\n",
    "plt.savefig('./plots/dr-lr.png', bbox_inches='tight')"
   ]
  }
 ],
 "metadata": {
  "kernelspec": {
   "display_name": "Python 3",
   "language": "python",
   "name": "python3"
  },
  "language_info": {
   "codemirror_mode": {
    "name": "ipython",
    "version": 3
   },
   "file_extension": ".py",
   "mimetype": "text/x-python",
   "name": "python",
   "nbconvert_exporter": "python",
   "pygments_lexer": "ipython3",
   "version": "3.6.10"
  }
 },
 "nbformat": 4,
 "nbformat_minor": 4
}
