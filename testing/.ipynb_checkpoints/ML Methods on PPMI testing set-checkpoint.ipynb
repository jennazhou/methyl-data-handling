{
 "cells": [
  {
   "cell_type": "markdown",
   "metadata": {},
   "source": [
    "## Methods start here"
   ]
  },
  {
   "cell_type": "code",
   "execution_count": 1,
   "metadata": {},
   "outputs": [
    {
     "name": "stderr",
     "output_type": "stream",
     "text": [
      "Using TensorFlow backend.\n"
     ]
    }
   ],
   "source": [
    "import pandas as pd\n",
    "import numpy as np\n",
    "\n",
    "from sklearn.preprocessing import LabelEncoder\n",
    "from sklearn.model_selection import StratifiedShuffleSplit\n",
    "from sklearn.model_selection import StratifiedKFold\n",
    "from sklearn.preprocessing import StandardScaler, MinMaxScaler\n",
    "from imblearn.over_sampling import SMOTE\n",
    "from imblearn.under_sampling import RandomUnderSampler\n",
    "\n",
    "from multiprocessing import Process, Manager"
   ]
  },
  {
   "cell_type": "code",
   "execution_count": null,
   "metadata": {},
   "outputs": [],
   "source": [
    "def set_Data(data):\n",
    "    ppmi = pd.read_csv('../../datasets/preprocessed/trans_processed_PPMI_data.csv')\n",
    "    ppmi.rename(columns={'Unnamed: 0':'Sentrix_position'}, inplace=True)\n",
    "    ppmi.set_index('Sentrix_position', inplace=True)\n",
    "    ppmi = ppmi.transpose()\n",
    "\n",
    "    encoder = LabelEncoder()\n",
    "    label = encoder.fit_transform(ppmi['Category'])\n",
    "\n",
    "    tr = ppmi.drop(['Category'], axis=1)\n",
    "    X = tr.values\n",
    "    y = label\n",
    "    print(X.shape)\n",
    "    print(y.shape)\n",
    "\n",
    "    print(\"StratifiedSampling check\")\n",
    "    split = StratifiedShuffleSplit(n_splits=1, test_size=0.2, random_state=42)\n",
    "    split.get_n_splits(X, y)\n",
    "\n",
    "    for train_index, test_index in split.split(X, y):\n",
    "        X_train, X_test = X[train_index], X[test_index]\n",
    "        y_train, data['y_test'] = y[train_index], y[test_index]\n",
    "\n",
    "    print(\"Oversampling check\")\n",
    "    oversampler = SMOTE(random_state=42)\n",
    "    X_train_sampled, data['y_train_sampled'] = oversampler.fit_resample(X_train, y_train)\n",
    "    print(\"Scaling check\")\n",
    "    scaler = StandardScaler()\n",
    "#     scaler = MinMaxScaler()\n",
    "    X_train_scaled = scaler.fit_transform(X_train_sampled)\n",
    "    data['X_train_scaled_1'] = X_train_scaled[:247].reshape((1, -1))\n",
    "    data['X_train_scaled_2'] = X_train_scaled[247:].reshape((1, -1))\n",
    "    data['X_test_scaled'] = scaler.transform(X_test)\n",
    "    \n",
    "    print(\"Returning check\")\n",
    "\n",
    "manager = Manager()\n",
    "data = manager.dict()\n",
    "\n",
    "print(\"CHECKPOINT1\")\n",
    "#     p = Process(target=set_Data, args=(X_train_scaled, X_test_scaled, y_train_sampled, y_test,))\n",
    "p = Process(target=set_Data, args=(data,))\n",
    "print(\"CHECKPOINT2\")\n",
    "p.start()\n",
    "print(\"CHECKPOINT3\")\n",
    "p.join()"
   ]
  },
  {
   "cell_type": "code",
   "execution_count": null,
   "metadata": {},
   "outputs": [],
   "source": [
    "y_train_sampled = data['y_train_sampled']\n",
    "y_test = data['y_test']\n",
    "X_train_scaled = np.append(data['X_train_scaled_1'], data['X_train_scaled_2']).reshape(494, 747668)\n",
    "X_test_scaled = data['X_test_scaled']\n",
    "print (\"Shape of final train and test sets:\", X_train_scaled.shape, X_test_scaled.shape)"
   ]
  },
  {
   "cell_type": "markdown",
   "metadata": {},
   "source": [
    "### Start Methods Here"
   ]
  },
  {
   "cell_type": "code",
   "execution_count": 2,
   "metadata": {},
   "outputs": [
    {
     "ename": "ModuleNotFoundError",
     "evalue": "No module named 'pipelines'",
     "output_type": "error",
     "traceback": [
      "\u001b[0;31m--------------------------------------------------------------------\u001b[0m",
      "\u001b[0;31mModuleNotFoundError\u001b[0m                Traceback (most recent call last)",
      "\u001b[0;32m<ipython-input-2-22bb6fc844a7>\u001b[0m in \u001b[0;36m<module>\u001b[0;34m\u001b[0m\n\u001b[1;32m      1\u001b[0m \u001b[0;32mimport\u001b[0m \u001b[0mevalfw\u001b[0m\u001b[0;34m\u001b[0m\u001b[0;34m\u001b[0m\u001b[0m\n\u001b[0;32m----> 2\u001b[0;31m \u001b[0;32mimport\u001b[0m \u001b[0mpipelines\u001b[0m\u001b[0;34m\u001b[0m\u001b[0;34m\u001b[0m\u001b[0m\n\u001b[0m",
      "\u001b[0;31mModuleNotFoundError\u001b[0m: No module named 'pipelines'"
     ]
    }
   ],
   "source": [
    "import evalfw\n",
    "import pipelines"
   ]
  },
  {
   "cell_type": "code",
   "execution_count": null,
   "metadata": {},
   "outputs": [],
   "source": [
    "'''\n",
    "params = {\n",
    "    \"pca\": {\"n\":n},\n",
    "    \"ica\": {\"n\":n},\n",
    "    \"umap\":{\"n_neighbours\":k, \"min_dist\":md, \"n\":n},\n",
    "    \"fs\":{\"a\":a},\n",
    "    \"lr\":{\"C\":C, \"reg\":reg},\n",
    "    \"svm:\"{\"kernel\", kernel, \"C\":C, \"gamma\":gamma, \"coef0\":c, \"degree\":d},\n",
    "    \"xgb\":{\"n\":n, \"h\":h, \"lr\":lr, \"s\":s, \"c\":c}\n",
    "}\n",
    "'''"
   ]
  },
  {
   "cell_type": "code",
   "execution_count": null,
   "metadata": {},
   "outputs": [],
   "source": [
    "### PCA + LR 5 folds\n",
    "pca_1 = {\"n\":40}\n",
    "lr_1 = {\"C\":0.01, \"reg\":\"l2\"}\n",
    "\n",
    "pca_2 = {\"n\":40}\n",
    "lr_2 = {\"C\":0.1, \"reg\":\"l2\"}"
   ]
  },
  {
   "cell_type": "code",
   "execution_count": null,
   "metadata": {},
   "outputs": [],
   "source": [
    "### ICA + LR 5 folds\n",
    "ica_1 = {\"n\":40}\n",
    "lr_1 = {\"C\":100, \"reg\":\"l1\"}\n",
    "\n",
    "ica_2 = {\"n\":40}\n",
    "lr_2 = {\"C\":1000, \"reg\":\"l2\"}\n"
   ]
  },
  {
   "cell_type": "code",
   "execution_count": 3,
   "metadata": {},
   "outputs": [],
   "source": [
    "### UMAP + LR 5 folds\n",
    "umap_1 = {\"n_neighbours\":20, \"min_dist\":0.5, \"n\":40},\n",
    "lr_1 = {\"C\":100, \"reg\":\"l2\"}\n",
    "\n",
    "umap_2 = {\"n_neighbours\":15, \"min_dist\":0.5, \"n\":40},\n",
    "lr_2 = {\"C\":100, \"reg\":\"l2\"}"
   ]
  },
  {
   "cell_type": "code",
   "execution_count": 4,
   "metadata": {},
   "outputs": [],
   "source": [
    "### FS + LR 5 folds\n",
    "fs_1 = {\"a\":0.09}\n",
    "lr_1 = {\"C\":1, \"reg\":\"l1\"}\n",
    "\n",
    "fs_2 = {\"a\":0.08}\n",
    "lr_2 = {\"C\":1, \"reg\":\"l2\"}"
   ]
  },
  {
   "cell_type": "code",
   "execution_count": 6,
   "metadata": {},
   "outputs": [],
   "source": [
    "### PCA + SVM\n",
    "pca_1 = {\"n\":16}\n",
    "svm_1 = {\"kernel\":\"poly\", \"C\":0.001, \"gamma\":1.5, \"coef0\":3, \"degree\":3}"
   ]
  },
  {
   "cell_type": "code",
   "execution_count": null,
   "metadata": {},
   "outputs": [],
   "source": [
    "### ICA + SVM\n",
    "ica_1 = {\"n\":16\n",
    "svm_1 = {\"kernel\":\"rbf\"C\":1000 \"gamma\":1.5, \"coef0\":3, \"degree\":3"
   ]
  }
 ],
 "metadata": {
  "kernelspec": {
   "display_name": "Python 3",
   "language": "python",
   "name": "python3"
  },
  "language_info": {
   "codemirror_mode": {
    "name": "ipython",
    "version": 3
   },
   "file_extension": ".py",
   "mimetype": "text/x-python",
   "name": "python",
   "nbconvert_exporter": "python",
   "pygments_lexer": "ipython3",
   "version": "3.6.10"
  }
 },
 "nbformat": 4,
 "nbformat_minor": 2
}
