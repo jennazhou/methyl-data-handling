{
 "cells": [
  {
   "cell_type": "markdown",
   "metadata": {},
   "source": [
    "## Methods start here"
   ]
  },
  {
   "cell_type": "code",
   "execution_count": 1,
   "metadata": {},
   "outputs": [],
   "source": [
    "import pandas as pd\n",
    "import numpy as np"
   ]
  },
  {
   "cell_type": "code",
   "execution_count": 2,
   "metadata": {},
   "outputs": [
    {
     "name": "stderr",
     "output_type": "stream",
     "text": [
      "Using TensorFlow backend.\n"
     ]
    },
    {
     "name": "stdout",
     "output_type": "stream",
     "text": [
      "CHECKPOINT1\n",
      "CHECKPOINT2\n",
      "CHECKPOINT3\n"
     ]
    },
    {
     "name": "stderr",
     "output_type": "stream",
     "text": [
      "/home/rz296/miniconda3/envs/partII/lib/python3.6/multiprocessing/popen_fork.py:73: DtypeWarning: Columns (1,2,3,4,5,6,7,8,9,10,11,12,13,14,15,16,17,18,19,20,21,22,23,24,25,26,27,28,29,30,31,32,33,34,35,36,37,38,39,40,41,42,43,44,45,46,47,48,49,50,51,52,53,54,55,56,57,58,59,60,61,62,63,64,65,66,67,68,69,70,71,72,73,74,75,76,77,78,79,80,81,82,83,84,85,86,87,88,89,90,91,92,93,94,95,96,97,98,99,100,101,102,103,104,105,106,107,108,109,110,111,112,113,114,115,116,117,118,119,120,121,122,123,124,125,126,127,128,129,130,131,132,133,134,135,136,137,138,139,140,141,142,143,144,145,146,147,148,149,150,151,152,153,154,155,156,157,158,159,160,161,162,163,164,165,166,167,168,169,170,171,172,173,174,175,176,177,178,179,180,181,182,183,184,185,186,187,188,189,190,191,192,193,194,195,196,197,198,199,200,201,202,203,204,205,206,207,208,209,210,211,212,213,214,215,216,217,218,219,220,221,222,223,224,225,226,227,228,229,230,231,232,233,234,235,236,237,238,239,240,241,242,243,244,245,246,247,248,249,250,251,252,253,254,255,256,257,258,259,260,261,262,263,264,265,266,267,268,269,270,271,272,273,274,275,276,277,278,279,280,281,282,283,284,285,286,287,288,289,290,291,292,293,294,295,296,297,298,299,300,301,302,303,304,305,306,307,308,309,310,311,312,313,314,315,316,317,318,319,320,321,322,323,324,325,326,327,328,329,330,331,332,333,334,335,336,337,338,339,340,341,342,343,344,345,346,347,348,349,350,351,352,353,354,355,356,357,358,359,360,361,362,363,364,365,366,367,368,369,370,371,372,373,374,375,376,377,378,379,380,381,382,383,384,385,386,387,388,389,390,391,392,393,394,395,396,397,398,399,400,401,402,403,404,405,406,407,408,409,410,411,412,413,414,415,416,417,418,419,420,421,422,423,424,425,426,427,428,429,430,431,432,433,434,435,436) have mixed types.Specify dtype option on import or set low_memory=False.\n",
      "  code = process_obj._bootstrap()\n"
     ]
    },
    {
     "name": "stdout",
     "output_type": "stream",
     "text": [
      "(436, 747668)\n",
      "(436,)\n",
      "StratifiedSampling check\n",
      "Oversampling check\n"
     ]
    },
    {
     "ename": "KeyError",
     "evalue": "'y_train_sampled'",
     "output_type": "error",
     "traceback": [
      "\u001b[0;31m----------------------------------------------------------------------\u001b[0m",
      "\u001b[0;31mKeyError\u001b[0m                             Traceback (most recent call last)",
      "\u001b[0;32m<ipython-input-2-f74b7dd044c3>\u001b[0m in \u001b[0;36m<module>\u001b[0;34m\u001b[0m\n\u001b[1;32m     57\u001b[0m \u001b[0mp\u001b[0m\u001b[0;34m.\u001b[0m\u001b[0mjoin\u001b[0m\u001b[0;34m(\u001b[0m\u001b[0;34m)\u001b[0m\u001b[0;34m\u001b[0m\u001b[0;34m\u001b[0m\u001b[0m\n\u001b[1;32m     58\u001b[0m \u001b[0;34m\u001b[0m\u001b[0m\n\u001b[0;32m---> 59\u001b[0;31m \u001b[0my_train_sampled\u001b[0m \u001b[0;34m=\u001b[0m \u001b[0mdata\u001b[0m\u001b[0;34m[\u001b[0m\u001b[0;34m'y_train_sampled'\u001b[0m\u001b[0;34m]\u001b[0m\u001b[0;34m\u001b[0m\u001b[0;34m\u001b[0m\u001b[0m\n\u001b[0m\u001b[1;32m     60\u001b[0m \u001b[0my_test\u001b[0m \u001b[0;34m=\u001b[0m \u001b[0mdata\u001b[0m\u001b[0;34m[\u001b[0m\u001b[0;34m'y_test'\u001b[0m\u001b[0;34m]\u001b[0m\u001b[0;34m\u001b[0m\u001b[0;34m\u001b[0m\u001b[0m\n\u001b[1;32m     61\u001b[0m \u001b[0mX_train_scaled\u001b[0m \u001b[0;34m=\u001b[0m \u001b[0mnp\u001b[0m\u001b[0;34m.\u001b[0m\u001b[0mappend\u001b[0m\u001b[0;34m(\u001b[0m\u001b[0mdata\u001b[0m\u001b[0;34m[\u001b[0m\u001b[0;34m'X_train_scaled_1'\u001b[0m\u001b[0;34m]\u001b[0m\u001b[0;34m,\u001b[0m \u001b[0mdata\u001b[0m\u001b[0;34m[\u001b[0m\u001b[0;34m'X_train_scaled_2'\u001b[0m\u001b[0;34m]\u001b[0m\u001b[0;34m)\u001b[0m\u001b[0;34m.\u001b[0m\u001b[0mreshape\u001b[0m\u001b[0;34m(\u001b[0m\u001b[0;36m494\u001b[0m\u001b[0;34m,\u001b[0m \u001b[0;36m747668\u001b[0m\u001b[0;34m)\u001b[0m\u001b[0;34m\u001b[0m\u001b[0;34m\u001b[0m\u001b[0m\n",
      "\u001b[0;32m<string>\u001b[0m in \u001b[0;36m__getitem__\u001b[0;34m(self, *args, **kwds)\u001b[0m\n",
      "\u001b[0;32m~/miniconda3/envs/partII/lib/python3.6/multiprocessing/managers.py\u001b[0m in \u001b[0;36m_callmethod\u001b[0;34m(self, methodname, args, kwds)\u001b[0m\n\u001b[1;32m    770\u001b[0m             \u001b[0mdispatch\u001b[0m\u001b[0;34m(\u001b[0m\u001b[0mconn\u001b[0m\u001b[0;34m,\u001b[0m \u001b[0;32mNone\u001b[0m\u001b[0;34m,\u001b[0m \u001b[0;34m'decref'\u001b[0m\u001b[0;34m,\u001b[0m \u001b[0;34m(\u001b[0m\u001b[0mtoken\u001b[0m\u001b[0;34m.\u001b[0m\u001b[0mid\u001b[0m\u001b[0;34m,\u001b[0m\u001b[0;34m)\u001b[0m\u001b[0;34m)\u001b[0m\u001b[0;34m\u001b[0m\u001b[0;34m\u001b[0m\u001b[0m\n\u001b[1;32m    771\u001b[0m             \u001b[0;32mreturn\u001b[0m \u001b[0mproxy\u001b[0m\u001b[0;34m\u001b[0m\u001b[0;34m\u001b[0m\u001b[0m\n\u001b[0;32m--> 772\u001b[0;31m         \u001b[0;32mraise\u001b[0m \u001b[0mconvert_to_error\u001b[0m\u001b[0;34m(\u001b[0m\u001b[0mkind\u001b[0m\u001b[0;34m,\u001b[0m \u001b[0mresult\u001b[0m\u001b[0;34m)\u001b[0m\u001b[0;34m\u001b[0m\u001b[0;34m\u001b[0m\u001b[0m\n\u001b[0m\u001b[1;32m    773\u001b[0m \u001b[0;34m\u001b[0m\u001b[0m\n\u001b[1;32m    774\u001b[0m     \u001b[0;32mdef\u001b[0m \u001b[0m_getvalue\u001b[0m\u001b[0;34m(\u001b[0m\u001b[0mself\u001b[0m\u001b[0;34m)\u001b[0m\u001b[0;34m:\u001b[0m\u001b[0;34m\u001b[0m\u001b[0;34m\u001b[0m\u001b[0m\n",
      "\u001b[0;31mKeyError\u001b[0m: 'y_train_sampled'"
     ]
    }
   ],
   "source": [
    "import pandas as pd\n",
    "import numpy as np\n",
    "\n",
    "from sklearn.preprocessing import LabelEncoder\n",
    "from sklearn.model_selection import StratifiedShuffleSplit\n",
    "from sklearn.model_selection import StratifiedKFold\n",
    "from sklearn.preprocessing import StandardScaler, MinMaxScaler\n",
    "from imblearn.over_sampling import SMOTE\n",
    "from imblearn.under_sampling import RandomUnderSampler\n",
    "\n",
    "from multiprocessing import Process, Manager\n",
    "\n",
    "def set_Data(data):\n",
    "    ppmi = pd.read_csv('../../datasets/preprocessed/trans_processed_PPMI_data.csv')\n",
    "    ppmi.rename(columns={'Unnamed: 0':'Sentrix_position'}, inplace=True)\n",
    "    ppmi.set_index('Sentrix_position', inplace=True)\n",
    "    ppmi = ppmi.transpose()\n",
    "\n",
    "    encoder = LabelEncoder()\n",
    "    label = encoder.fit_transform(ppmi['Category'])\n",
    "\n",
    "    tr = ppmi.drop(['Category'], axis=1)\n",
    "    X = tr.values\n",
    "    y = label\n",
    "    print(X.shape)\n",
    "    print(y.shape)\n",
    "\n",
    "    print(\"StratifiedSampling check\")\n",
    "    split = StratifiedShuffleSplit(n_splits=1, test_size=0.2, random_state=42)\n",
    "    split.get_n_splits(X, y)\n",
    "\n",
    "    for train_index, test_index in split.split(X, y):\n",
    "        X_train, X_test = X[train_index], X[test_index]\n",
    "        y_train, data['y_test'] = y[train_index], y[test_index]\n",
    "\n",
    "    print(\"Oversampling check\")\n",
    "    oversampler = SMOTE(random_state=42)\n",
    "    X_train_sampled, data['y_train_sampled'] = oversampler.fit_resample(X_train, y_train)\n",
    "    print(\"Scaling check\")\n",
    "    scaler = StandardScaler()\n",
    "#     scaler = MinMaxScaler()\n",
    "    X_train_scaled = scaler.fit_transform(X_train_sampled)\n",
    "    data['X_train_scaled_1'] = X_train_scaled[:247].reshape((1, -1))\n",
    "    data['X_train_scaled_2'] = X_train_scaled[247:].reshape((1, -1))\n",
    "    data['X_test_scaled'] = scaler.transform(X_test)\n",
    "    \n",
    "    print(\"Returning check\")\n"
   ]
  },
  {
   "cell_type": "code",
   "execution_count": null,
   "metadata": {},
   "outputs": [],
   "source": [
    "manager = Manager()\n",
    "data = manager.dict()\n",
    "\n",
    "print(\"CHECKPOINT1\")\n",
    "p = Process(target=set_Data, args=(data,))\n",
    "print(\"CHECKPOINT2\")\n",
    "p.start()\n",
    "print(\"CHECKPOINT3\")\n",
    "p.join()\n",
    "\n",
    "y_train_sampled = data['y_train_sampled']\n",
    "y_test = data['y_test']\n",
    "X_train_scaled = np.append(data['X_train_scaled_1'], data['X_train_scaled_2']).reshape(494, 747668)\n",
    "X_test_scaled = data['X_test_scaled']\n",
    "\n",
    "# print(y_train_sampled)\n",
    "# print(X_train_scaled)\n",
    "print (\"Shape of final train and test sets:\", X_train_scaled.shape, X_test_scaled.shape)"
   ]
  },
  {
   "cell_type": "code",
   "execution_count": null,
   "metadata": {},
   "outputs": [],
   "source": []
  },
  {
   "cell_type": "markdown",
   "metadata": {},
   "source": [
    "### Start Methods Here"
   ]
  },
  {
   "cell_type": "code",
   "execution_count": null,
   "metadata": {},
   "outputs": [],
   "source": [
    "from sklearn.linear_model import LogisticRegression\n",
    "from sklearn.svm import LinearSVC, SVC\n",
    "from sklearn.linear_model import SGDClassifier\n",
    "from sklearn.kernel_approximation import Nystroem\n",
    "from sklearn.pipeline import Pipeline\n",
    "from sklearn.decomposition import PCA\n",
    "from umap.umap_ import UMAP\n",
    "from sklearn.decomposition import FastICA\n",
    "from sklearn.model_selection import cross_val_predict, cross_val_score\n",
    "from sklearn.metrics import accuracy_score"
   ]
  },
  {
   "cell_type": "code",
   "execution_count": null,
   "metadata": {},
   "outputs": [],
   "source": [
    "import evalfw"
   ]
  },
  {
   "cell_type": "markdown",
   "metadata": {},
   "source": [
    "### DR+LR: PPMI"
   ]
  },
  {
   "cell_type": "code",
   "execution_count": null,
   "metadata": {},
   "outputs": [],
   "source": [
    "print(X_train_scaled.shape)\n",
    "print(y_train_sampled.shape)\n",
    "print(X_test.shape)\n",
    "print(y_test.shape)"
   ]
  },
  {
   "cell_type": "code",
   "execution_count": null,
   "metadata": {},
   "outputs": [],
   "source": [
    "### PCA para: 50\n",
    "# pca_lr = Pipeline([\n",
    "#     (\"pca\", PCA(n_components=250)),\n",
    "#     (\"lr\", LogisticRegression(C=100, penalty='l2', max_iter=1000, solver='saga'))\n",
    "# ])\n",
    "\n",
    "\n",
    "\n",
    "### UMAP para: 50\n",
    "umap_lr = Pipeline([\n",
    "    (\"umap\", UMAP(n_components=25)),\n",
    "    (\"lr\", LogisticRegression(C=100, penalty='l2', max_iter=1000, solver='saga', tol=0.1))\n",
    "])\n",
    "\n",
    "# ### ICA para:50\n",
    "# ica_lr = Pipeline([\n",
    "#     (\"ica\", FastICA(n_components=50)),\n",
    "#     (\"lr\", LogisticRegression(max_iter=500, penalty='none'))\n",
    "# ])\n",
    "\n",
    "# pca_lr.fit(X_train_scaled, y_train_sampled)\n",
    "umap_lr.fit(X_train_scaled, y_train_sampled)\n",
    "# ica_lr.fit(X_train_scaled, y_train)\n",
    "\n",
    "clf_dict = {\n",
    "#     'PCA and Logistic Regression':pca_lr,\n",
    "    'UMAP and Logistic Regression': umap_lr,\n",
    "#     'ICA and Logistic Regression': ica_lr\n",
    "}\n",
    "\n",
    "evalfw.eval(clf_dict, X_test_scaled, y_test)\n",
    "\n",
    "# print(\"Accuracy of PCA + LR on PPMI testing set: \", accuracy_score(y_test, y_pred_pca_lr))\n",
    "# print(\"Accuracy of UMAP + LR on PPMI testing set: \", accuracy_score(y_test, y_pred_umap_lr))\n",
    "# print(\"Accuracy of ICA + LR on PPMI testing set: \", accuracy_score(y_test, y_pred_ica_lr))"
   ]
  },
  {
   "cell_type": "markdown",
   "metadata": {},
   "source": [
    "#### C = 0.01, pca_n=40\n",
    "Shape of X and y: (88, 40) (88,)  \n",
    "Current model:  PCA and Logistic Regression  \n",
    "Confusion matrix of  PCA and Logistic Regression is:  [[11 15]\n",
    " [19 43]]  \n",
    "Accuracy of  PCA and Logistic Regression is:  0.6136363636363636  \n",
    "Precision of  PCA and Logistic Regression is:  0.7413793103448276  \n",
    "Recall of  PCA and Logistic Regression is:  0.6935483870967742  \n",
    "F1 of  PCA and Logistic Regression is:  0.7166666666666668  \n",
    "\n",
    "\n",
    "\n",
    "##### C = 0.1 pca_n = 40  \n",
    "Shape of X and y: (88, 40) (88,)  \n",
    "Current model:  PCA and Logistic Regression  \n",
    "Confusion matrix of  PCA and Logistic Regression is:  [[11 15]\n",
    " [22 40]]  \n",
    "Accuracy of  PCA and Logistic Regression is:  0.5795454545454546  \n",
    "Precision of  PCA and Logistic Regression is:  0.7272727272727273  \n",
    "Recall of  PCA and Logistic Regression is:  0.6451612903225806  \n",
    "F1 of  PCA and Logistic Regression is:  0.6837606837606838  \n",
    "\n",
    "##### C = 100 pca_n = 40 \n",
    "Shape of X and y: (88, 40) (88,)  \n",
    "Current model:  PCA and Logistic Regression  \n",
    "Confusion matrix of  PCA and Logistic Regression is:  [[14 12]\n",
    " [18 44]]  \n",
    "Accuracy of  PCA and Logistic Regression is:  0.6590909090909091  \n",
    "Precision of  PCA and Logistic Regression is:  0.7857142857142857  \n",
    "Recall of  PCA and Logistic Regression is:  0.7096774193548387  \n",
    "F1 of  PCA and Logistic Regression is:  0.7457627118644068  \n"
   ]
  },
  {
   "cell_type": "markdown",
   "metadata": {},
   "source": [
    "### DR+SVM\n"
   ]
  },
  {
   "cell_type": "code",
   "execution_count": null,
   "metadata": {},
   "outputs": [],
   "source": [
    "### PCA para: 200\n",
    "pca_svm = Pipeline([\n",
    "    (\"pca\", PCA(n_components=250)),\n",
    "    (\"lr\", SVC(C=1000000, kernel='rbf'))\n",
    "])\n",
    "\n",
    "### UMAP para: 100\n",
    "umap_svm = Pipeline([\n",
    "    (\"umap\", UMAP(n_components=100)),\n",
    "    (\"lr\", SVC(C=1000000, kernel='rbf'))\n",
    "])\n",
    "\n",
    "### ICA para:250\n",
    "ica_svm = Pipeline([\n",
    "    (\"ica\", FastICA(n_components=250)),\n",
    "    (\"lr\", SVC(C=1000000, kernel='rbf'))\n",
    "])\n",
    "\n",
    "pca_svm.fit(X_train_scaled, y_train)\n",
    "umap_svm.fit(X_train_scaled, y_train)\n",
    "ica_svm.fit(X_train_scaled, y_train)\n",
    "\n",
    "clf_dict = {\n",
    "    'PCA and SVM':pca_svm,\n",
    "    'UMAP and SVM': umap_svm,\n",
    "    'ICA and SVM': ica_svm\n",
    "}\n",
    "\n",
    "evalfw.eval(clf_dict, X_test_scaled, y_test)\n",
    "\n",
    "# print(\"Accuracy of PCA + SVM: \", accuracy_score(y_test, y_pred_pca_svm))\n",
    "# print(\"Accuracy of UMAP + SVM: \", accuracy_score(y_test, y_pred_umap_svm))\n",
    "# print(\"Accuracy of ICA + SVM: \", accuracy_score(y_test, y_pred_ica_svm))"
   ]
  },
  {
   "cell_type": "markdown",
   "metadata": {},
   "source": [
    "### Regularisation+LR"
   ]
  },
  {
   "cell_type": "code",
   "execution_count": null,
   "metadata": {},
   "outputs": [],
   "source": [
    "\n"
   ]
  }
 ],
 "metadata": {
  "kernelspec": {
   "display_name": "Python 3",
   "language": "python",
   "name": "python3"
  },
  "language_info": {
   "codemirror_mode": {
    "name": "ipython",
    "version": 3
   },
   "file_extension": ".py",
   "mimetype": "text/x-python",
   "name": "python",
   "nbconvert_exporter": "python",
   "pygments_lexer": "ipython3",
   "version": "3.6.10"
  }
 },
 "nbformat": 4,
 "nbformat_minor": 2
}
