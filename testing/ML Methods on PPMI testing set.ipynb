{
 "cells": [
  {
   "cell_type": "markdown",
   "metadata": {},
   "source": [
    "## Methods start here"
   ]
  },
  {
   "cell_type": "code",
   "execution_count": 5,
   "metadata": {},
   "outputs": [],
   "source": [
    "import pandas as pd\n",
    "import numpy as np\n",
    "\n",
    "from sklearn.preprocessing import LabelEncoder\n",
    "from sklearn.model_selection import StratifiedShuffleSplit\n",
    "from sklearn.model_selection import StratifiedKFold\n",
    "from sklearn.preprocessing import StandardScaler, MinMaxScaler\n",
    "from imblearn.over_sampling import SMOTE\n",
    "from imblearn.under_sampling import RandomUnderSampler\n",
    "\n",
    "from sklearn.decomposition import PCA\n",
    "from umap.umap_ import UMAP\n",
    "from sklearn.decomposition import FastICA\n",
    "from sklearn.feature_selection import SelectFromModel\n",
    "\n",
    "from sklearn.linear_model import LogisticRegression, Lasso\n",
    "from sklearn.svm import LinearSVC, SVC\n",
    "import xgboost as xgb\n",
    "\n",
    "from multiprocessing import Process, Manager"
   ]
  },
  {
   "cell_type": "code",
   "execution_count": null,
   "metadata": {},
   "outputs": [],
   "source": [
    "def set_Data(data):\n",
    "    ppmi = pd.read_csv('../../datasets/preprocessed/trans_processed_PPMI_data.csv')\n",
    "    ppmi.rename(columns={'Unnamed: 0':'Sentrix_position'}, inplace=True)\n",
    "    ppmi.set_index('Sentrix_position', inplace=True)\n",
    "    ppmi = ppmi.transpose()\n",
    "\n",
    "    encoder = LabelEncoder()\n",
    "    label = encoder.fit_transform(ppmi['Category'])\n",
    "    print(\"Labeling of the classes:\")\n",
    "    print(encoder.classes_)\n",
    "\n",
    "    tr = ppmi.drop(['Category'], axis=1)\n",
    "    X = tr.values\n",
    "    y = label\n",
    "    print(X.shape)\n",
    "    print(y.shape)\n",
    "\n",
    "    print(\"StratifiedSampling check\")\n",
    "    split = StratifiedShuffleSplit(n_splits=1, test_size=0.2, random_state=42)\n",
    "    split.get_n_splits(X, y)\n",
    "\n",
    "    for train_index, test_index in split.split(X, y):\n",
    "        X_train, X_test = X[train_index], X[test_index]\n",
    "        y_train, data['y_test'] = y[train_index], y[test_index]\n",
    "\n",
    "    print(\"Oversampling check\")\n",
    "    oversampler = SMOTE(random_state=42)\n",
    "    X_train_sampled, data['y_train_sampled'] = oversampler.fit_resample(X_train, y_train)\n",
    "    print(\"Scaling check\")\n",
    "    scaler = StandardScaler()\n",
    "#     scaler = MinMaxScaler()\n",
    "    X_train_scaled = scaler.fit_transform(X_train_sampled)\n",
    "    data['X_train_scaled_1'] = X_train_scaled[:247].reshape((1, -1))\n",
    "    data['X_train_scaled_2'] = X_train_scaled[247:].reshape((1, -1))\n",
    "    data['X_test_scaled'] = scaler.transform(X_test)\n",
    "    \n",
    "    print(\"Returning check\")\n",
    "\n",
    "manager = Manager()\n",
    "data = manager.dict()\n",
    "\n",
    "print(\"CHECKPOINT1\")\n",
    "#     p = Process(target=set_Data, args=(X_train_scaled, X_test_scaled, y_train_sampled, y_test,))\n",
    "p = Process(target=set_Data, args=(data,))\n",
    "print(\"CHECKPOINT2\")\n",
    "p.start()\n",
    "print(\"CHECKPOINT3\")\n",
    "p.join()"
   ]
  },
  {
   "cell_type": "code",
   "execution_count": null,
   "metadata": {},
   "outputs": [],
   "source": [
    "y_train_sampled = data['y_train_sampled']\n",
    "y_test = data['y_test']\n",
    "X_train_scaled = np.append(data['X_train_scaled_1'], data['X_train_scaled_2']).reshape(494, 747668)\n",
    "X_test_scaled = data['X_test_scaled']\n",
    "print (\"Shape of final train and test sets:\", X_train_scaled.shape, X_test_scaled.shape)"
   ]
  },
  {
   "cell_type": "markdown",
   "metadata": {},
   "source": [
    "### Start Methods Here"
   ]
  },
  {
   "cell_type": "code",
   "execution_count": 19,
   "metadata": {},
   "outputs": [],
   "source": [
    "import evalfw\n",
    "import pipelines"
   ]
  },
  {
   "cell_type": "code",
   "execution_count": null,
   "metadata": {},
   "outputs": [],
   "source": [
    "'''\n",
    "params = {\n",
    "    \"pca\": {\"n\":n},\n",
    "    \"ica\": {\"n\":n},\n",
    "    \"umap\":{\"n_neighbours\":k, \"min_dist\":md, \"n\":n},\n",
    "    \"fs\":{\"a\":a},\n",
    "    \"lr\":{\"C\":C, \"reg\":reg},\n",
    "    \"svm:\"{\"kernel\", kernel, \"C\":C, \"gamma\":gamma, \"coef0\":c, \"degree\":d},\n",
    "    \"xgb\":{\"n\":n, \"h\":h, \"lr\":lr, \"s\":s, \"c\":c}\n",
    "}\n",
    "'''"
   ]
  },
  {
   "cell_type": "code",
   "execution_count": null,
   "metadata": {},
   "outputs": [],
   "source": [
    "### PCA + LR 5 folds\n",
    "pca_lr_dr1 = {\"n\":40}\n",
    "pca_lr_clf1  = {\"C\":0.01, \"reg\":\"l2\"}\n",
    "\n",
    "pca_lr_dr2 = {\"n\":40}\n",
    "pca_lr_clf2= {\"C\":0.1, \"reg\":\"l2\"}"
   ]
  },
  {
   "cell_type": "code",
   "execution_count": null,
   "metadata": {},
   "outputs": [],
   "source": [
    "### ICA + LR 5 folds\n",
    "ica_lr_dr1 = {\"n\":40}\n",
    "ica_lr_clf1 = {\"C\":100, \"reg\":\"l1\"}\n",
    "\n",
    "ica_lr_dr2 = {\"n\":40}\n",
    "ica_lr_clf2 = {\"C\":1000, \"reg\":\"l2\"}\n"
   ]
  },
  {
   "cell_type": "code",
   "execution_count": 3,
   "metadata": {},
   "outputs": [],
   "source": [
    "### UMAP + LR 5 folds\n",
    "umap_lr_dr1 = {\"n_neighbours\":20, \"min_dist\":0.5, \"n\":40},\n",
    "umap_lr_clf1 = {\"C\":100, \"reg\":\"l2\"}\n",
    "\n",
    "umap_lr_dr2 = {\"n_neighbours\":15, \"min_dist\":0.5, \"n\":40},\n",
    "umap_lr_clf2 = {\"C\":100, \"reg\":\"l2\"}"
   ]
  },
  {
   "cell_type": "code",
   "execution_count": 4,
   "metadata": {},
   "outputs": [],
   "source": [
    "### FS + LR 5 folds\n",
    "fs_lr_dr1 = {\"a\":0.09}\n",
    "fs_lr_clf1 = {\"C\":1, \"reg\":\"l1\"}\n",
    "\n",
    "fs_lr_dr2 = {\"a\":0.08}\n",
    "fs_lr_clf2 = {\"C\":1, \"reg\":\"l2\"}"
   ]
  },
  {
   "cell_type": "code",
   "execution_count": 6,
   "metadata": {},
   "outputs": [],
   "source": [
    "### PCA + SVM\n",
    "pca_svm_dr1 = {\"n\":16}\n",
    "pca_svm_clf1 = {\"kernel\":\"poly\", \"C\":0.001, \"gamma\":1.5, \"coef0\":3, \"degree\":3}"
   ]
  },
  {
   "cell_type": "code",
   "execution_count": 11,
   "metadata": {},
   "outputs": [],
   "source": [
    "### ICA + SVM\n",
    "ica_svm_dr1 = {\"n\":16}\n",
    "ica_svm_clf1 = {\"kernel\":\"rbf\", \"C\":1000, \"gamma\":1.5, \"coef0\":3, \"degree\":3}"
   ]
  },
  {
   "cell_type": "code",
   "execution_count": 12,
   "metadata": {},
   "outputs": [],
   "source": [
    "### UMAP + SVM\n",
    "umap_svm_dr1 = {\"n_neighbours\":3, \"min_dist\":0.4, \"n\":10}\n",
    "umap_svm_clf1 = {\"kernel\":\"poly\", \"C\":0.001, \"gamma\":1, \"coef0\":10, \"degree\":3}\n",
    "\n",
    "umap_svm_dr2 = {\"n_neighbours\":10, \"min_dist\":0.7, \"n\":18}\n",
    "umap_svm_clf2 = {\"kernel\":\"poly\", \"C\":0.001, \"gamma\":1.5, \"coef0\":10, \"degree\":3}\n",
    "\n",
    "umap_svm_dr3 = {\"n_neighbours\":5, \"min_dist\":0.7, \"n\":18}\n",
    "umap_svm_clf3 = {\"kernel\":\"poly\", \"C\":0.01, \"gamma\":1.5, \"coef0\":10, \"degree\":3}\n",
    "\n",
    "umap_svm_dr4 = {\"n_neighbours\":3, \"min_dist\":0.4, \"n\":22}\n",
    "umap_svm_clf4 = {\"kernel\":\"poly\", \"C\":0.001, \"gamma\":1.5, \"coef0\":10, \"degree\":3}\n",
    "\n",
    "umap_svm_dr5 = {\"n_neighbours\":10, \"min_dist\":0.1, \"n\":14}\n",
    "umap_svm_clf5 = {\"kernel\":\"poly\", \"C\":0.01, \"gamma\":1.5, \"coef0\":10, \"degree\":3}\n"
   ]
  },
  {
   "cell_type": "code",
   "execution_count": 13,
   "metadata": {},
   "outputs": [],
   "source": [
    "### FS + SVM\n",
    "fs_svm_dr1 = {\"a\":0.1},\n",
    "fs_svm_clf1 = {\"kernel\":\"poly\", \"C\":1, \"gamma\":1.5, \"coef0\":10, \"degree\":3}\n"
   ]
  },
  {
   "cell_type": "code",
   "execution_count": 14,
   "metadata": {},
   "outputs": [],
   "source": [
    "### PCA + XGB\n",
    "pca_xgb_dr1 = {\"n\":13}\n",
    "pca_xgb_clf1 = {'n': 30, 'c': 0.7, 's': 0.3, 'h': 4, \"lr\":0.3}\n",
    "\n",
    "pca_xgb_dr2 = {\"n\":10}\n",
    "pca_xgb_dr2 = {'n': 30, 'c': 0.7, 's': 0.3, 'h': 4, \"lr\":0.3}\n",
    "\n",
    "pca_xgb_dr3 = {\"n\":10}\n",
    "pca_xgb_clf3 = {'n': 70, 'c': 0.5, 's': 0.5, 'h': 5, \"lr\":0.3}"
   ]
  },
  {
   "cell_type": "code",
   "execution_count": 15,
   "metadata": {},
   "outputs": [],
   "source": [
    "### ICA + XGB\n",
    "ica_xgb_dr1 = {\"n\":5}\n",
    "ica_xgb_clf1 = {'n': 10, 'c': 0.1, 's': 0.5, 'h': 3, \"lr\":0.3}\n",
    "\n",
    "ica_xgb_dr2 = {\"n\":9}\n",
    "ica_xgb_clf2 = {'n': 300, 'c': 0.5, 's': 0.3, 'h': 4, \"lr\":0.3}\n",
    "\n",
    "ica_xgb_dr3 = {\"n\":11}\n",
    "ica_xgb_clf3 = {'n': 100, 'c': 0.3, 's': 0.5, 'h': 2, \"lr\":0.3}"
   ]
  },
  {
   "cell_type": "code",
   "execution_count": 16,
   "metadata": {},
   "outputs": [],
   "source": [
    "### UMAP + SGB\n",
    "umap_xgb_dr1 = {\"n_neighbours\":11, \"min_dist\":0.4, \"n\":10}\n",
    "umap_xgb_clf1 = {'n': 30, 'c': 0.7, 's': 0.3, 'h': 4, \"lr\":0.3}\n",
    "\n",
    "umap_xgb_dr2 = {\"n_neighbours\":11, \"min_dist\":0.4, \"n\":10}\n",
    "umap_xgb_clf2 = {'n': 30, 'c': 0.7, 's': 0.3, 'h': 4, \"lr\":0.3}"
   ]
  },
  {
   "cell_type": "code",
   "execution_count": 17,
   "metadata": {},
   "outputs": [],
   "source": [
    "##FS + XGB\n",
    "fs_xgb_dr1 = {\"a\":0.01},\n",
    "fs_xgb_clf1 = {'n': 30, 'c': 0.3, 's': 0.3, 'h': 4, \"lr\":0.3}\n",
    "\n",
    "fs_xgb_dr2 = {\"a\":0.005},\n",
    "fs_xgb_clf2 = {'n': 10, 'c': 0.3, 's': 0.7, 'h': 3, \"lr\":0.3}"
   ]
  },
  {
   "cell_type": "code",
   "execution_count": 18,
   "metadata": {},
   "outputs": [
    {
     "ename": "NameError",
     "evalue": "name 'pipelines' is not defined",
     "output_type": "error",
     "traceback": [
      "\u001b[0;31m--------------------------------------------------------------------\u001b[0m",
      "\u001b[0;31mNameError\u001b[0m                          Traceback (most recent call last)",
      "\u001b[0;32m<ipython-input-18-4286f1e3824f>\u001b[0m in \u001b[0;36m<module>\u001b[0;34m\u001b[0m\n\u001b[1;32m      8\u001b[0m             \u001b[0mcur_params\u001b[0m\u001b[0;34m[\u001b[0m\u001b[0mdr\u001b[0m\u001b[0;34m]\u001b[0m \u001b[0;34m=\u001b[0m \u001b[0mdr\u001b[0m\u001b[0;34m+\u001b[0m\u001b[0;34m\"_\"\u001b[0m\u001b[0;34m+\u001b[0m\u001b[0mclf\u001b[0m\u001b[0;34m+\u001b[0m\u001b[0;34m\"_dr\"\u001b[0m\u001b[0;34m+\u001b[0m\u001b[0mstr\u001b[0m\u001b[0;34m(\u001b[0m\u001b[0mi\u001b[0m\u001b[0;34m+\u001b[0m\u001b[0;36m1\u001b[0m\u001b[0;34m)\u001b[0m\u001b[0;34m\u001b[0m\u001b[0;34m\u001b[0m\u001b[0m\n\u001b[1;32m      9\u001b[0m             \u001b[0mcur_params\u001b[0m\u001b[0;34m[\u001b[0m\u001b[0mclf\u001b[0m\u001b[0;34m]\u001b[0m \u001b[0;34m=\u001b[0m \u001b[0mdr\u001b[0m\u001b[0;34m+\u001b[0m\u001b[0;34m\"_\"\u001b[0m\u001b[0;34m+\u001b[0m\u001b[0mclf\u001b[0m\u001b[0;34m+\u001b[0m\u001b[0;34m\"_clf\"\u001b[0m\u001b[0;34m+\u001b[0m\u001b[0mstr\u001b[0m\u001b[0;34m(\u001b[0m\u001b[0mi\u001b[0m\u001b[0;34m+\u001b[0m\u001b[0;36m1\u001b[0m\u001b[0;34m)\u001b[0m\u001b[0;34m\u001b[0m\u001b[0;34m\u001b[0m\u001b[0m\n\u001b[0;32m---> 10\u001b[0;31m             \u001b[0mcur_pipeline\u001b[0m \u001b[0;34m=\u001b[0m \u001b[0mpipelines\u001b[0m\u001b[0;34m.\u001b[0m\u001b[0mget_pipeline\u001b[0m\u001b[0;34m(\u001b[0m\u001b[0mdr\u001b[0m\u001b[0;34m,\u001b[0m \u001b[0mclf\u001b[0m\u001b[0;34m,\u001b[0m \u001b[0mcur_params\u001b[0m\u001b[0;34m)\u001b[0m\u001b[0;34m\u001b[0m\u001b[0;34m\u001b[0m\u001b[0m\n\u001b[0m\u001b[1;32m     11\u001b[0m             \u001b[0mcur_pipeline\u001b[0m\u001b[0;34m.\u001b[0m\u001b[0mfit\u001b[0m\u001b[0;34m(\u001b[0m\u001b[0mX_train_scaled\u001b[0m\u001b[0;34m,\u001b[0m \u001b[0my_train_sampled\u001b[0m\u001b[0;34m)\u001b[0m\u001b[0;34m\u001b[0m\u001b[0;34m\u001b[0m\u001b[0m\n\u001b[1;32m     12\u001b[0m             \u001b[0mclf_dict\u001b[0m\u001b[0;34m[\u001b[0m\u001b[0mdr\u001b[0m\u001b[0;34m+\u001b[0m\u001b[0;34m\"_\"\u001b[0m\u001b[0;34m+\u001b[0m\u001b[0mclf\u001b[0m\u001b[0;34m+\u001b[0m\u001b[0;34m\"_\"\u001b[0m\u001b[0;34m+\u001b[0m\u001b[0mstr\u001b[0m\u001b[0;34m(\u001b[0m\u001b[0mi\u001b[0m\u001b[0;34m+\u001b[0m\u001b[0;36m1\u001b[0m\u001b[0;34m)\u001b[0m\u001b[0;34m]\u001b[0m \u001b[0;34m=\u001b[0m \u001b[0mcur_pipeline\u001b[0m\u001b[0;34m\u001b[0m\u001b[0;34m\u001b[0m\u001b[0m\n",
      "\u001b[0;31mNameError\u001b[0m: name 'pipelines' is not defined"
     ]
    }
   ],
   "source": [
    "# add 5 sets of parameters into dictionary and feed to get_pipelines, train and then eval\n",
    "# try 1 set first\n",
    "for i in range(1):\n",
    "    clf_dict={}\n",
    "    for dr in [\"pca\", \"ica\", \"umap\", \"fs\"]:\n",
    "        for clf in [\"lr\", \"svm\", \"xgb\"]:            \n",
    "            cur_params = {}\n",
    "            cur_params[dr] = dr+\"_\"+clf+\"_dr\"+str(i+1)\n",
    "            cur_params[clf] = dr+\"_\"+clf+\"_clf\"+str(i+1)\n",
    "            cur_pipeline = pipelines.get_pipeline(dr, clf, cur_params, X_train_scaled, y_train_sampled)\n",
    "            clf_dict[dr+\"_\"+clf+\"_\"+str(i+1)] = cur_pipeline\n",
    "    \n",
    "    assert len(clf_dict) == 12\n",
    "    \n",
    "    evalfw.eval(clf_dict, X_test_scaled, y_test)"
   ]
  },
  {
   "cell_type": "code",
   "execution_count": null,
   "metadata": {},
   "outputs": [],
   "source": []
  },
  {
   "cell_type": "code",
   "execution_count": 73,
   "metadata": {},
   "outputs": [
    {
     "ename": "NameError",
     "evalue": "name 'get_default_clf_dict' is not defined",
     "output_type": "error",
     "traceback": [
      "\u001b[0;31m-----------------------------------------------------------\u001b[0m",
      "\u001b[0;31mNameError\u001b[0m                 Traceback (most recent call last)",
      "\u001b[0;32m<ipython-input-73-95f35eef5244>\u001b[0m in \u001b[0;36m<module>\u001b[0;34m\u001b[0m\n\u001b[1;32m      1\u001b[0m \u001b[0;31m# Evaluate the default classifiers on the ppmi testing datasets\u001b[0m\u001b[0;34m\u001b[0m\u001b[0;34m\u001b[0m\u001b[0;34m\u001b[0m\u001b[0m\n\u001b[0;32m----> 2\u001b[0;31m \u001b[0mdefault_pramas_clf_dict\u001b[0m \u001b[0;34m=\u001b[0m \u001b[0mget_default_clf_dict\u001b[0m\u001b[0;34m(\u001b[0m\u001b[0mX_train_scaled\u001b[0m\u001b[0;34m,\u001b[0m \u001b[0my_train_sampled\u001b[0m\u001b[0;34m)\u001b[0m\u001b[0;34m\u001b[0m\u001b[0;34m\u001b[0m\u001b[0m\n\u001b[0m\u001b[1;32m      3\u001b[0m \u001b[0mevalfw\u001b[0m\u001b[0;34m.\u001b[0m\u001b[0meval\u001b[0m\u001b[0;34m(\u001b[0m\u001b[0mdefault_pramas_clf_dict\u001b[0m\u001b[0;34m,\u001b[0m \u001b[0mX_test_scaled\u001b[0m\u001b[0;34m,\u001b[0m \u001b[0my_test\u001b[0m\u001b[0;34m)\u001b[0m\u001b[0;34m\u001b[0m\u001b[0;34m\u001b[0m\u001b[0m\n",
      "\u001b[0;31mNameError\u001b[0m: name 'get_default_clf_dict' is not defined"
     ]
    }
   ],
   "source": [
    "# Evaluate the default classifiers on the ppmi testing datasets\n",
    "default_pramas_clf_dict = get_default_clf_dict(X_train_scaled, y_train_sampled)\n",
    "evalfw.eval(default_pramas_clf_dict, X_test_scaled, y_test)"
   ]
  },
  {
   "cell_type": "code",
   "execution_count": 1,
   "metadata": {},
   "outputs": [
    {
     "name": "stderr",
     "output_type": "stream",
     "text": [
      "Using TensorFlow backend.\n"
     ]
    }
   ],
   "source": [
    "import default_pipelines\n",
    "import evalfw"
   ]
  },
  {
   "cell_type": "code",
   "execution_count": 2,
   "metadata": {},
   "outputs": [],
   "source": [
    "import importlib"
   ]
  },
  {
   "cell_type": "code",
   "execution_count": 34,
   "metadata": {},
   "outputs": [
    {
     "data": {
      "text/plain": [
       "<module 'evalfw' from '/local/sdc/rz296/methyl-data-handling/testing/evalfw.py'>"
      ]
     },
     "execution_count": 34,
     "metadata": {},
     "output_type": "execute_result"
    }
   ],
   "source": [
    "importlib.reload(default_pipelines)\n",
    "importlib.reload(evalfw)"
   ]
  },
  {
   "cell_type": "code",
   "execution_count": 35,
   "metadata": {
    "scrolled": false
   },
   "outputs": [
    {
     "name": "stdout",
     "output_type": "stream",
     "text": [
      "Current pipeline is: pca lr\n",
      "Current pipeline is: ica lr\n",
      "Current pipeline is: umap lr\n"
     ]
    },
    {
     "name": "stderr",
     "output_type": "stream",
     "text": [
      "/home/rz296/miniconda3/envs/partII/lib/python3.6/site-packages/sklearn/decomposition/_fastica.py:119: ConvergenceWarning: FastICA did not converge. Consider increasing tolerance or the maximum number of iterations.\n",
      "  ConvergenceWarning)\n"
     ]
    },
    {
     "name": "stdout",
     "output_type": "stream",
     "text": [
      "Current pipeline is: pca svm\n",
      "Current pipeline is: ica svm\n",
      "Current pipeline is: umap svm\n"
     ]
    },
    {
     "name": "stderr",
     "output_type": "stream",
     "text": [
      "/home/rz296/miniconda3/envs/partII/lib/python3.6/site-packages/sklearn/decomposition/_fastica.py:119: ConvergenceWarning: FastICA did not converge. Consider increasing tolerance or the maximum number of iterations.\n",
      "  ConvergenceWarning)\n"
     ]
    },
    {
     "name": "stdout",
     "output_type": "stream",
     "text": [
      "{'lr': {'pca_lr_base': {'acc': [0.92], 'prec': [0.9285714285714286], 'recall': [0.9285714285714286], 'f1': [0.9285714285714286], 'auc': [0.9188311688311689]}, 'ica_lr_base': {'acc': [0.88], 'prec': [1.0], 'recall': [0.7857142857142857], 'f1': [0.88], 'auc': [0.8928571428571428]}, 'umap_lr_base': {'acc': [0.88], 'prec': [0.8666666666666667], 'recall': [0.9285714285714286], 'f1': [0.896551724137931], 'auc': [0.8733766233766235]}}, 'svm': {'pca_svm_base': {'acc': [0.92], 'prec': [0.9285714285714286], 'recall': [0.9285714285714286], 'f1': [0.9285714285714286], 'auc': [0.9188311688311689]}, 'ica_svm_base': {'acc': [0.96], 'prec': [1.0], 'recall': [0.9285714285714286], 'f1': [0.962962962962963], 'auc': [0.9642857142857143]}, 'umap_svm_base': {'acc': [0.88], 'prec': [0.8666666666666667], 'recall': [0.9285714285714286], 'f1': [0.896551724137931], 'auc': [0.8733766233766235]}}}\n",
      "The final pipelines and their metrics for each classifier are:\n",
      "{'lr': {'ptype': 'ica_lr_base', 'pipeline': Pipeline(memory=None,\n",
      "         steps=[('dr',\n",
      "                 FastICA(algorithm='parallel', fun='logcosh', fun_args=None,\n",
      "                         max_iter=200, n_components=None, random_state=None,\n",
      "                         tol=0.0001, w_init=None, whiten=True)),\n",
      "                ('clf',\n",
      "                 LogisticRegression(C=1.0, class_weight=None, dual=False,\n",
      "                                    fit_intercept=True, intercept_scaling=1,\n",
      "                                    l1_ratio=None, max_iter=100,\n",
      "                                    multi_class='auto', n_jobs=None,\n",
      "                                    penalty='l2', random_state=None,\n",
      "                                    solver='lbfgs', tol=0.0001, verbose=0,\n",
      "                                    warm_start=False))],\n",
      "         verbose=False), 'metrics': {'acc': [0.88], 'prec': [1.0], 'recall': [0.7857142857142857], 'f1': [0.88], 'auc': [0.8928571428571428]}}, 'svm': {'ptype': 'ica_svm_base', 'pipeline': Pipeline(memory=None,\n",
      "         steps=[('dr',\n",
      "                 FastICA(algorithm='parallel', fun='logcosh', fun_args=None,\n",
      "                         max_iter=200, n_components=None, random_state=None,\n",
      "                         tol=0.0001, w_init=None, whiten=True)),\n",
      "                ('clf',\n",
      "                 SVC(C=1.0, break_ties=False, cache_size=200, class_weight=None,\n",
      "                     coef0=0.0, decision_function_shape='ovr', degree=3,\n",
      "                     gamma='scale', kernel='rbf', max_iter=-1,\n",
      "                     probability=False, random_state=None, shrinking=True,\n",
      "                     tol=0.001, verbose=False))],\n",
      "         verbose=False), 'metrics': {'acc': [0.96], 'prec': [1.0], 'recall': [0.9285714285714286], 'f1': [0.962962962962963], 'auc': [0.9642857142857143]}}}\n"
     ]
    },
    {
     "ename": "TypeError",
     "evalue": "roc_curve() got an unexpected keyword argument 'pos'",
     "output_type": "error",
     "traceback": [
      "\u001b[0;31m----------------------------------------------\u001b[0m",
      "\u001b[0;31mTypeError\u001b[0m    Traceback (most recent call last)",
      "\u001b[0;32m<ipython-input-35-ed40d72e8767>\u001b[0m in \u001b[0;36m<module>\u001b[0;34m\u001b[0m\n\u001b[1;32m     16\u001b[0m \u001b[0mdefault_params_clf_dict\u001b[0m \u001b[0;34m=\u001b[0m \u001b[0mdefault_pipelines\u001b[0m\u001b[0;34m.\u001b[0m\u001b[0mget_default_clf_dict\u001b[0m\u001b[0;34m(\u001b[0m\u001b[0mX_train\u001b[0m\u001b[0;34m,\u001b[0m \u001b[0my_train\u001b[0m\u001b[0;34m,\u001b[0m \u001b[0mgpu_id\u001b[0m\u001b[0;34m=\u001b[0m\u001b[0;36m2\u001b[0m\u001b[0;34m)\u001b[0m\u001b[0;34m\u001b[0m\u001b[0;34m\u001b[0m\u001b[0m\n\u001b[1;32m     17\u001b[0m \u001b[0;31m# print(default_params_clf_dict)\u001b[0m\u001b[0;34m\u001b[0m\u001b[0;34m\u001b[0m\u001b[0;34m\u001b[0m\u001b[0m\n\u001b[0;32m---> 18\u001b[0;31m \u001b[0mevalfw\u001b[0m\u001b[0;34m.\u001b[0m\u001b[0meval\u001b[0m\u001b[0;34m(\u001b[0m\u001b[0mdefault_params_clf_dict\u001b[0m\u001b[0;34m,\u001b[0m \u001b[0mX_test\u001b[0m\u001b[0;34m,\u001b[0m \u001b[0my_test\u001b[0m\u001b[0;34m)\u001b[0m\u001b[0;34m\u001b[0m\u001b[0;34m\u001b[0m\u001b[0m\n\u001b[0m",
      "\u001b[0;32m/local/sdc/rz296/methyl-data-handling/testing/evalfw.py\u001b[0m in \u001b[0;36meval\u001b[0;34m(clf_dict, X, y)\u001b[0m\n\u001b[1;32m     68\u001b[0m \u001b[0;34m\u001b[0m\u001b[0m\n\u001b[1;32m     69\u001b[0m     \u001b[0;31m# one plot for all aucroc curve\u001b[0m\u001b[0;34m\u001b[0m\u001b[0;34m\u001b[0m\u001b[0;34m\u001b[0m\u001b[0m\n\u001b[0;32m---> 70\u001b[0;31m     \u001b[0mget_aucroc_plot\u001b[0m\u001b[0;34m(\u001b[0m\u001b[0mfinal_ppls\u001b[0m\u001b[0;34m,\u001b[0m \u001b[0mX\u001b[0m\u001b[0;34m,\u001b[0m \u001b[0my\u001b[0m\u001b[0;34m)\u001b[0m\u001b[0;34m\u001b[0m\u001b[0;34m\u001b[0m\u001b[0m\n\u001b[0m\u001b[1;32m     71\u001b[0m     \u001b[0;31m# plots for confusion matrix\u001b[0m\u001b[0;34m\u001b[0m\u001b[0;34m\u001b[0m\u001b[0;34m\u001b[0m\u001b[0m\n\u001b[1;32m     72\u001b[0m     \u001b[0mget_confmat_plots\u001b[0m\u001b[0;34m(\u001b[0m\u001b[0mfinal_ppls\u001b[0m\u001b[0;34m,\u001b[0m \u001b[0mX\u001b[0m\u001b[0;34m,\u001b[0m \u001b[0my\u001b[0m\u001b[0;34m)\u001b[0m\u001b[0;34m\u001b[0m\u001b[0;34m\u001b[0m\u001b[0m\n",
      "\u001b[0;32m/local/sdc/rz296/methyl-data-handling/testing/evalfw.py\u001b[0m in \u001b[0;36mget_aucroc_plot\u001b[0;34m(final_ppls, X, y)\u001b[0m\n\u001b[1;32m    131\u001b[0m     \u001b[0mcurve_fig\u001b[0m \u001b[0;34m=\u001b[0m \u001b[0mplt\u001b[0m\u001b[0;34m.\u001b[0m\u001b[0mfigure\u001b[0m\u001b[0;34m(\u001b[0m\u001b[0;34m)\u001b[0m\u001b[0;34m\u001b[0m\u001b[0;34m\u001b[0m\u001b[0m\n\u001b[1;32m    132\u001b[0m     \u001b[0max1\u001b[0m \u001b[0;34m=\u001b[0m \u001b[0mcurve_fig\u001b[0m\u001b[0;34m.\u001b[0m\u001b[0madd_subplot\u001b[0m\u001b[0;34m(\u001b[0m\u001b[0;36m111\u001b[0m\u001b[0;34m)\u001b[0m\u001b[0;34m\u001b[0m\u001b[0;34m\u001b[0m\u001b[0m\n\u001b[0;32m--> 133\u001b[0;31m     \u001b[0mfpr\u001b[0m\u001b[0;34m,\u001b[0m \u001b[0mtpr\u001b[0m\u001b[0;34m,\u001b[0m \u001b[0mthresholds\u001b[0m \u001b[0;34m=\u001b[0m \u001b[0mmetrics\u001b[0m\u001b[0;34m.\u001b[0m\u001b[0mroc_curve\u001b[0m\u001b[0;34m(\u001b[0m\u001b[0my\u001b[0m\u001b[0;34m,\u001b[0m \u001b[0mbaseline_y\u001b[0m\u001b[0;34m,\u001b[0m \u001b[0mpos\u001b[0m\u001b[0;34m=\u001b[0m\u001b[0;36m2\u001b[0m\u001b[0;34m)\u001b[0m\u001b[0;34m\u001b[0m\u001b[0;34m\u001b[0m\u001b[0m\n\u001b[0m\u001b[1;32m    134\u001b[0m     \u001b[0max1\u001b[0m\u001b[0;34m.\u001b[0m\u001b[0mplot\u001b[0m\u001b[0;34m(\u001b[0m\u001b[0mfpr\u001b[0m\u001b[0;34m,\u001b[0m \u001b[0mtpr\u001b[0m\u001b[0;34m,\u001b[0m \u001b[0mlinestyle\u001b[0m\u001b[0;34m=\u001b[0m\u001b[0;34m\"--\"\u001b[0m\u001b[0;34m,\u001b[0m \u001b[0mlinewidth\u001b[0m\u001b[0;34m=\u001b[0m\u001b[0;36m2\u001b[0m\u001b[0;34m,\u001b[0m \u001b[0mcolor\u001b[0m\u001b[0;34m=\u001b[0m\u001b[0;34m\"black\"\u001b[0m\u001b[0;34m,\u001b[0m \u001b[0mlabel\u001b[0m\u001b[0;34m=\u001b[0m\u001b[0;34m\"baseline, auc=0.5\"\u001b[0m\u001b[0;34m)\u001b[0m\u001b[0;34m\u001b[0m\u001b[0;34m\u001b[0m\u001b[0m\n\u001b[1;32m    135\u001b[0m     \u001b[0max1\u001b[0m\u001b[0;34m.\u001b[0m\u001b[0mset_xlabel\u001b[0m\u001b[0;34m(\u001b[0m\u001b[0;34m\"False positive rate (fpr)\"\u001b[0m\u001b[0;34m)\u001b[0m\u001b[0;34m\u001b[0m\u001b[0;34m\u001b[0m\u001b[0m\n",
      "\u001b[0;31mTypeError\u001b[0m: roc_curve() got an unexpected keyword argument 'pos'"
     ]
    },
    {
     "data": {
      "image/png": "[encoded data removed]",
      "text/plain": [
       "<Figure size 432x288 with 1 Axes>"
      ]
     },
     "metadata": {
      "needs_background": "light"
     },
     "output_type": "display_data"
    }
   ],
   "source": [
    "##USE RANDOME DATA TO TEST THE CODE FIRST\n",
    "from sklearn import datasets\n",
    "from sklearn.model_selection import train_test_split\n",
    "import pandas as pd\n",
    "import numpy as np\n",
    "\n",
    "iris = datasets.load_iris()\n",
    "X = iris.data\n",
    "y = iris.target\n",
    "indx = np.where(y > 0)\n",
    "y = y[indx]\n",
    "X = X[indx]\n",
    "class_names = iris.target_names[:2]\n",
    "\n",
    "X_train, X_test, y_train, y_test = train_test_split(X, y, random_state=42)\n",
    "default_params_clf_dict = default_pipelines.get_default_clf_dict(X_train, y_train, gpu_id=2)\n",
    "# print(default_params_clf_dict)\n",
    "evalfw.eval(default_params_clf_dict, X_test, y_test)\n"
   ]
  },
  {
   "cell_type": "code",
   "execution_count": null,
   "metadata": {},
   "outputs": [],
   "source": []
  }
 ],
 "metadata": {
  "kernelspec": {
   "display_name": "Python 3",
   "language": "python",
   "name": "python3"
  },
  "language_info": {
   "codemirror_mode": {
    "name": "ipython",
    "version": 3
   },
   "file_extension": ".py",
   "mimetype": "text/x-python",
   "name": "python",
   "nbconvert_exporter": "python",
   "pygments_lexer": "ipython3",
   "version": "3.6.10"
  }
 },
 "nbformat": 4,
 "nbformat_minor": 2
}
