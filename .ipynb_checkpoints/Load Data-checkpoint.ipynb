{
 "cells": [
  {
   "cell_type": "code",
   "execution_count": 1,
   "metadata": {},
   "outputs": [
    {
     "name": "stderr",
     "output_type": "stream",
     "text": [
      "Using TensorFlow backend.\n"
     ]
    }
   ],
   "source": [
    "import pandas as pd\n",
    "import numpy as np\n",
    "\n",
    "from sklearn.preprocessing import LabelEncoder\n",
    "from sklearn.model_selection import StratifiedShuffleSplit\n",
    "from sklearn.model_selection import StratifiedKFold\n",
    "from sklearn.preprocessing import StandardScaler, MinMaxScaler\n",
    "from imblearn.over_sampling import SMOTE\n",
    "from imblearn.under_sampling import RandomUnderSampler\n",
    "\n",
    "from sklearn.decomposition import PCA\n",
    "from umap.umap_ import UMAP\n",
    "from sklearn.decomposition import FastICA\n",
    "from sklearn.feature_selection import SelectFromModel\n",
    "\n",
    "from sklearn.linear_model import LogisticRegression, Lasso\n",
    "from sklearn.svm import LinearSVC, SVC\n",
    "import xgboost as xgb\n",
    "\n",
    "from multiprocessing import Process, Manager"
   ]
  },
  {
   "cell_type": "code",
   "execution_count": 4,
   "metadata": {},
   "outputs": [
    {
     "name": "stderr",
     "output_type": "stream",
     "text": [
      "/home/rz296/miniconda3/envs/partII/lib/python3.6/site-packages/IPython/core/interactiveshell.py:3063: DtypeWarning: Columns (1,2,3,4,5,6,7,8,9,10,11,12,13,14,15,16,17,18,19,20,21,22,23,24,25,26,27,28,29,30,31,32,33,34,35,36,37,38,39,40,41,42,43,44,45,46,47,48,49,50,51,52,53,54,55,56,57,58,59,60,61,62,63,64,65,66,67,68,69,70,71,72,73,74,75,76,77,78,79,80,81,82,83,84,85,86,87,88,89,90,91,92,93,94,95,96,97,98,99,100,101,102,103,104,105,106,107,108,109,110,111,112,113,114,115,116,117,118,119,120,121,122,123,124,125,126,127,128,129,130,131,132,133,134,135,136,137,138,139,140,141,142,143,144,145,146,147,148,149,150,151,152,153,154,155,156,157,158,159,160,161,162,163,164,165,166,167,168,169,170,171,172,173,174,175,176,177,178,179,180,181,182,183,184,185,186,187,188,189,190,191,192,193,194,195,196,197,198,199,200,201,202,203,204,205,206,207,208,209,210,211,212,213,214,215,216,217,218,219,220,221,222,223,224,225,226,227,228,229,230,231,232,233,234,235,236,237,238,239,240,241,242,243,244,245,246,247,248,249,250,251,252,253,254,255,256,257,258,259,260,261,262,263,264,265,266,267,268,269,270,271,272,273,274,275,276,277,278,279,280,281,282,283,284,285,286,287,288,289,290,291,292,293,294,295,296,297,298,299,300,301,302,303,304,305,306,307,308,309,310,311,312,313,314,315,316,317,318,319,320,321,322,323,324,325,326,327,328,329,330,331,332,333,334,335,336,337,338,339,340,341,342,343,344,345,346,347,348,349,350,351,352,353,354,355,356,357,358,359,360,361,362,363,364,365,366,367,368,369,370,371,372,373,374,375,376,377,378,379,380,381,382,383,384,385,386,387,388,389,390,391,392,393,394,395,396,397,398,399,400,401,402,403,404,405,406,407,408,409,410,411,412,413,414,415,416,417,418,419,420,421,422,423,424,425,426,427,428,429,430,431,432,433,434,435,436) have mixed types.Specify dtype option on import or set low_memory=False.\n",
      "  interactivity=interactivity, compiler=compiler, result=result)\n"
     ]
    },
    {
     "name": "stdout",
     "output_type": "stream",
     "text": [
      "Labeling of the classes:\n",
      "['HC' 'PD']\n",
      "(436, 747668)\n",
      "(436,)\n",
      "StratifiedSampling check\n",
      "Oversampling check\n",
      "Scaling check\n",
      "Returning check\n"
     ]
    }
   ],
   "source": [
    "# Save testing data array as a binary file\n",
    "# save('data.npy', data)\n",
    "ppmi = pd.read_csv('../datasets/preprocessed/trans_processed_PPMI_data.csv')\n",
    "ppmi.rename(columns={'Unnamed: 0':'Sentrix_position'}, inplace=True)\n",
    "ppmi.set_index('Sentrix_position', inplace=True)\n",
    "ppmi = ppmi.transpose()\n",
    "\n",
    "encoder = LabelEncoder()\n",
    "label = encoder.fit_transform(ppmi['Category'])\n",
    "print(\"Labeling of the classes:\")\n",
    "print(encoder.classes_)\n",
    "\n",
    "tr = ppmi.drop(['Category'], axis=1)\n",
    "X = tr.values\n",
    "y = label\n",
    "print(X.shape)\n",
    "print(y.shape)\n",
    "\n",
    "print(\"StratifiedSampling check\")\n",
    "split = StratifiedShuffleSplit(n_splits=1, test_size=0.2, random_state=42)\n",
    "split.get_n_splits(X, y)\n",
    "\n",
    "for train_index, test_index in split.split(X, y):\n",
    "    X_train, X_test = X[train_index], X[test_index]\n",
    "    y_train, y_test = y[train_index], y[test_index]\n",
    "\n",
    "print(\"Oversampling check\")\n",
    "oversampler = SMOTE(random_state=42)\n",
    "X_train_sampled, y_train_sampled = oversampler.fit_resample(X_train, y_train)\n",
    "print(\"Scaling check\")\n",
    "scaler = StandardScaler()\n",
    "#     scaler = MinMaxScaler()\n",
    "X_train_scaled = scaler.fit_transform(X_train_sampled)\n",
    "# data['X_train_scaled_1'] = X_train_scaled[:247].reshape((1, -1))\n",
    "# data['X_train_scaled_2'] = X_train_scaled[247:].reshape((1, -1))\n",
    "X_test_scaled = scaler.transform(X_test)\n",
    "\n",
    "print(\"Returning check\")"
   ]
  },
  {
   "cell_type": "code",
   "execution_count": 5,
   "metadata": {},
   "outputs": [],
   "source": [
    "# np.save('../datasets/preprocessed/X_train_scaled.npy', X_train_scaled)\n",
    "# np.save('../datasets/preprocessed/X_test_scaled.npy', X_test_scaled)\n",
    "# np.save('../datasets/preprocessed/y_train_sampled.npy', y_train_sampled)\n",
    "# np.save('../datasets/preprocessed/y_test.npy', y_test)"
   ]
  },
  {
   "cell_type": "code",
   "execution_count": 6,
   "metadata": {},
   "outputs": [
    {
     "name": "stdout",
     "output_type": "stream",
     "text": [
      "(494, 747668)\n",
      "(88, 747668)\n"
     ]
    }
   ],
   "source": [
    "print(X_train_scaled.shape)\n",
    "print(X_test_scaled.shape)"
   ]
  },
  {
   "cell_type": "code",
   "execution_count": 8,
   "metadata": {},
   "outputs": [
    {
     "name": "stdout",
     "output_type": "stream",
     "text": [
      "[[-2.18403562 -0.60068023  0.18323408 ... -0.47828929 -1.47116675\n",
      "   0.38470899]\n",
      " [ 1.05376458  0.39828061 -0.49264652 ... -1.48401594  0.4370609\n",
      "   1.4417389 ]\n",
      " [-0.63416751 -2.70406166  0.04273277 ...  0.40945863 -0.43308532\n",
      "  -0.28582085]\n",
      " ...\n",
      " [-0.40929569  0.67156675 -0.33363406 ...  0.04643345  0.13552941\n",
      "   0.76468284]\n",
      " [-1.21074546 -0.96340209 -1.57426807 ... -0.33756519  0.15366276\n",
      "   0.43528856]\n",
      " [ 1.0968313  -0.03932447 -0.17848811 ...  1.18515532 -0.97401975\n",
      "  -0.07157591]]\n"
     ]
    }
   ],
   "source": [
    "print(X_train_scaled)"
   ]
  },
  {
   "cell_type": "code",
   "execution_count": 9,
   "metadata": {},
   "outputs": [
    {
     "name": "stdout",
     "output_type": "stream",
     "text": [
      "[1 1 1 1 1 1 0 1 1 1 0 1 1 1 1 1 0 1 1 1 1 0 0 1 1 1 1 0 1 1 1 1 1 1 0 1 1\n",
      " 0 1 0 1 1 0 1 0 0 0 0 1 0 1 0 1 1 1 1 1 1 1 1 0 1 1 1 1 1 1 0 1 1 0 0 1 1\n",
      " 0 1 0 1 0 0 1 0 1 1 1 1 1 1 0 1 1 1 0 0 1 0 1 1 1 0 1 1 0 1 0 1 0 1 0 1 1\n",
      " 1 0 0 1 1 1 1 1 0 1 1 0 1 1 0 1 1 1 1 0 1 0 1 1 0 0 1 0 1 0 1 1 1 1 1 1 0\n",
      " 1 0 1 1 1 1 0 1 1 1 1 1 1 1 1 0 1 1 1 0 1 1 0 0 1 1 1 1 1 1 1 1 0 0 1 0 1\n",
      " 1 1 1 1 1 0 1 1 0 1 1 1 1 1 1 1 1 1 1 0 1 1 1 0 1 1 0 1 1 1 0 1 1 1 1 1 1\n",
      " 0 0 1 1 1 0 1 0 1 1 1 1 1 1 0 1 1 1 1 1 0 0 1 0 0 1 1 1 1 0 1 1 1 0 1 1 1\n",
      " 1 1 0 0 1 1 1 1 1 1 0 1 1 1 1 1 0 1 0 1 0 1 1 0 0 0 0 1 0 1 0 1 0 1 1 1 1\n",
      " 1 1 1 0 0 1 1 1 1 1 1 1 1 1 0 1 0 1 1 1 0 0 1 1 1 0 0 1 1 1 1 0 1 1 0 1 1\n",
      " 0 1 1 1 1 0 0 1 1 0 1 1 0 1 0 0 0 0 0 0 0 0 0 0 0 0 0 0 0 0 0 0 0 0 0 0 0\n",
      " 0 0 0 0 0 0 0 0 0 0 0 0 0 0 0 0 0 0 0 0 0 0 0 0 0 0 0 0 0 0 0 0 0 0 0 0 0\n",
      " 0 0 0 0 0 0 0 0 0 0 0 0 0 0 0 0 0 0 0 0 0 0 0 0 0 0 0 0 0 0 0 0 0 0 0 0 0\n",
      " 0 0 0 0 0 0 0 0 0 0 0 0 0 0 0 0 0 0 0 0 0 0 0 0 0 0 0 0 0 0 0 0 0 0 0 0 0\n",
      " 0 0 0 0 0 0 0 0 0 0 0 0 0]\n",
      "[1 1 1 1 1 1 1 1 1 1 1 1 0 1 1 1 0 1 0 0 1 1 1 0 1 0 0 1 1 1 1 1 1 1 1 1 1\n",
      " 0 1 1 0 1 0 0 1 1 0 1 1 0 1 1 0 1 0 0 1 1 1 1 1 1 1 0 0 1 1 1 0 0 1 0 1 1\n",
      " 1 0 1 1 1 1 0 1 0 0 1 0 1 1]\n"
     ]
    }
   ],
   "source": [
    "print(y_train_sampled)\n",
    "print(y_test)"
   ]
  },
  {
   "cell_type": "code",
   "execution_count": null,
   "metadata": {},
   "outputs": [],
   "source": [
    "###PROPAG-AGING\n",
    "ppg = pd.read_csv(\"../datasets/preprocessed/trans_processed_PPG_data.csv\")\n",
    "# data.rename(columns={'Unnamed: 0':'Sentrix_position'}, inplace=True)\n",
    "ppg.set_index('ID_REF', inplace=True)\n",
    "display(ppg)\n",
    "ppg = ppg.transpose()\n",
    "\n",
    "\n",
    "encoder = LabelEncoder()\n",
    "label = encoder.fit_transform(ppg['Category'])\n",
    "tr = ppg.drop(['Category'], axis=1)\n",
    "X = tr.values\n",
    "y = label\n",
    "\n",
    "#     print(\"StratifiedSampling check\")\n",
    "#     split = StratifiedShuffleSplit(n_splits=1, test_size=0.2, random_state=42)\n",
    "#     split.get_n_splits(X, y)\n",
    "\n",
    "#     for train_index, test_index in split.split(X, y):\n",
    "#         X_train, X_test = X[train_index], X[test_index]\n",
    "#         y_train, data['y_test'] = y[train_index], y[test_index]\n",
    "\n",
    "#     print(\"Oversampling check\")\n",
    "#     oversampler = SMOTE(random_state=42)\n",
    "#     X_train_sampled, data['y_train_sampled'] = oversampler.fit_resample(X_train, y_train)\n",
    "print(\"Scaling check\")\n",
    "scaler = StandardScaler()\n",
    "X_scaled = scaler.fit_transform(X)\n",
    "#     data['X_train_scaled_1'] = X_scaled[:247].reshape((1, -1))\n",
    "#     data['X_train_scaled_2'] = X_scaled[247:].reshape((1, -1))\n",
    "\n",
    "print(\"Returning check\")"
   ]
  },
  {
   "cell_type": "code",
   "execution_count": null,
   "metadata": {},
   "outputs": [],
   "source": [
    "np.save('../datasets/preprocessed/X_scaled_ppg.npy', X_scaled)\n",
    "np.save('../datasets/preprocessed/y_ppg.npy', y)"
   ]
  },
  {
   "cell_type": "code",
   "execution_count": null,
   "metadata": {},
   "outputs": [],
   "source": []
  }
 ],
 "metadata": {
  "kernelspec": {
   "display_name": "Python 3",
   "language": "python",
   "name": "python3"
  }
 },
 "nbformat": 4,
 "nbformat_minor": 4
}
