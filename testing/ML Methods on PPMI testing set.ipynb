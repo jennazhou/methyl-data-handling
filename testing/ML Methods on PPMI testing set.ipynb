{
 "cells": [
  {
   "cell_type": "markdown",
   "metadata": {},
   "source": [
    "## Methods start here"
   ]
  },
  {
   "cell_type": "code",
   "execution_count": 1,
   "metadata": {},
   "outputs": [
    {
     "name": "stderr",
     "output_type": "stream",
     "text": [
      "Using TensorFlow backend.\n"
     ]
    }
   ],
   "source": [
    "import pandas as pd\n",
    "import numpy as np\n",
    "\n",
    "from sklearn.preprocessing import LabelEncoder\n",
    "from sklearn.model_selection import StratifiedShuffleSplit\n",
    "from sklearn.model_selection import StratifiedKFold\n",
    "from sklearn.preprocessing import StandardScaler, MinMaxScaler\n",
    "from imblearn.over_sampling import SMOTE\n",
    "from imblearn.under_sampling import RandomUnderSampler\n",
    "\n",
    "from multiprocessing import Process, Manager"
   ]
  },
  {
   "cell_type": "code",
   "execution_count": null,
   "metadata": {},
   "outputs": [],
   "source": [
    "def set_Data(data):\n",
    "    ppmi = pd.read_csv('../../datasets/preprocessed/trans_processed_PPMI_data.csv')\n",
    "    ppmi.rename(columns={'Unnamed: 0':'Sentrix_position'}, inplace=True)\n",
    "    ppmi.set_index('Sentrix_position', inplace=True)\n",
    "    ppmi = ppmi.transpose()\n",
    "\n",
    "    encoder = LabelEncoder()\n",
    "    label = encoder.fit_transform(ppmi['Category'])\n",
    "\n",
    "    tr = ppmi.drop(['Category'], axis=1)\n",
    "    X = tr.values\n",
    "    y = label\n",
    "    print(X.shape)\n",
    "    print(y.shape)\n",
    "\n",
    "    print(\"StratifiedSampling check\")\n",
    "    split = StratifiedShuffleSplit(n_splits=1, test_size=0.2, random_state=42)\n",
    "    split.get_n_splits(X, y)\n",
    "\n",
    "    for train_index, test_index in split.split(X, y):\n",
    "        X_train, X_test = X[train_index], X[test_index]\n",
    "        y_train, data['y_test'] = y[train_index], y[test_index]\n",
    "\n",
    "    print(\"Oversampling check\")\n",
    "    oversampler = SMOTE(random_state=42)\n",
    "    X_train_sampled, data['y_train_sampled'] = oversampler.fit_resample(X_train, y_train)\n",
    "    print(\"Scaling check\")\n",
    "    scaler = StandardScaler()\n",
    "#     scaler = MinMaxScaler()\n",
    "    X_train_scaled = scaler.fit_transform(X_train_sampled)\n",
    "    data['X_train_scaled_1'] = X_train_scaled[:247].reshape((1, -1))\n",
    "    data['X_train_scaled_2'] = X_train_scaled[247:].reshape((1, -1))\n",
    "    data['X_test_scaled'] = scaler.transform(X_test)\n",
    "    \n",
    "    print(\"Returning check\")\n",
    "\n",
    "manager = Manager()\n",
    "data = manager.dict()\n",
    "\n",
    "print(\"CHECKPOINT1\")\n",
    "#     p = Process(target=set_Data, args=(X_train_scaled, X_test_scaled, y_train_sampled, y_test,))\n",
    "p = Process(target=set_Data, args=(data,))\n",
    "print(\"CHECKPOINT2\")\n",
    "p.start()\n",
    "print(\"CHECKPOINT3\")\n",
    "p.join()"
   ]
  },
  {
   "cell_type": "code",
   "execution_count": null,
   "metadata": {},
   "outputs": [],
   "source": [
    "y_train_sampled = data['y_train_sampled']\n",
    "y_test = data['y_test']\n",
    "X_train_scaled = np.append(data['X_train_scaled_1'], data['X_train_scaled_2']).reshape(494, 747668)\n",
    "X_test_scaled = data['X_test_scaled']\n",
    "print (\"Shape of final train and test sets:\", X_train_scaled.shape, X_test_scaled.shape)"
   ]
  },
  {
   "cell_type": "markdown",
   "metadata": {},
   "source": [
    "### Start Methods Here"
   ]
  },
  {
   "cell_type": "code",
   "execution_count": 19,
   "metadata": {},
   "outputs": [],
   "source": [
    "import evalfw\n",
    "import pipelines"
   ]
  },
  {
   "cell_type": "code",
   "execution_count": null,
   "metadata": {},
   "outputs": [],
   "source": [
    "'''\n",
    "params = {\n",
    "    \"pca\": {\"n\":n},\n",
    "    \"ica\": {\"n\":n},\n",
    "    \"umap\":{\"n_neighbours\":k, \"min_dist\":md, \"n\":n},\n",
    "    \"fs\":{\"a\":a},\n",
    "    \"lr\":{\"C\":C, \"reg\":reg},\n",
    "    \"svm:\"{\"kernel\", kernel, \"C\":C, \"gamma\":gamma, \"coef0\":c, \"degree\":d},\n",
    "    \"xgb\":{\"n\":n, \"h\":h, \"lr\":lr, \"s\":s, \"c\":c}\n",
    "}\n",
    "'''"
   ]
  },
  {
   "cell_type": "code",
   "execution_count": null,
   "metadata": {},
   "outputs": [],
   "source": [
    "### PCA + LR 5 folds\n",
    "pca_lr_dr1 = {\"n\":40}\n",
    "pca_lr_clf1  = {\"C\":0.01, \"reg\":\"l2\"}\n",
    "\n",
    "pca_lr_dr2 = {\"n\":40}\n",
    "pca_lr_clf2= {\"C\":0.1, \"reg\":\"l2\"}"
   ]
  },
  {
   "cell_type": "code",
   "execution_count": null,
   "metadata": {},
   "outputs": [],
   "source": [
    "### ICA + LR 5 folds\n",
    "ica_lr_dr1 = {\"n\":40}\n",
    "ica_lr_clf1 = {\"C\":100, \"reg\":\"l1\"}\n",
    "\n",
    "ica_lr_dr2 = {\"n\":40}\n",
    "ica_lr_clf2 = {\"C\":1000, \"reg\":\"l2\"}\n"
   ]
  },
  {
   "cell_type": "code",
   "execution_count": 3,
   "metadata": {},
   "outputs": [],
   "source": [
    "### UMAP + LR 5 folds\n",
    "umap_lr_dr1 = {\"n_neighbours\":20, \"min_dist\":0.5, \"n\":40},\n",
    "umap_lr_clf1 = {\"C\":100, \"reg\":\"l2\"}\n",
    "\n",
    "umap_lr_dr2 = {\"n_neighbours\":15, \"min_dist\":0.5, \"n\":40},\n",
    "umap_lr_clf2 = {\"C\":100, \"reg\":\"l2\"}"
   ]
  },
  {
   "cell_type": "code",
   "execution_count": 4,
   "metadata": {},
   "outputs": [],
   "source": [
    "### FS + LR 5 folds\n",
    "fs_lr_dr1 = {\"a\":0.09}\n",
    "fs_lr_clf1 = {\"C\":1, \"reg\":\"l1\"}\n",
    "\n",
    "fs_lr_dr2 = {\"a\":0.08}\n",
    "fs_lr_clf2 = {\"C\":1, \"reg\":\"l2\"}"
   ]
  },
  {
   "cell_type": "code",
   "execution_count": 6,
   "metadata": {},
   "outputs": [],
   "source": [
    "### PCA + SVM\n",
    "pca_svm_dr1 = {\"n\":16}\n",
    "pca_svm_clf1 = {\"kernel\":\"poly\", \"C\":0.001, \"gamma\":1.5, \"coef0\":3, \"degree\":3}"
   ]
  },
  {
   "cell_type": "code",
   "execution_count": 11,
   "metadata": {},
   "outputs": [],
   "source": [
    "### ICA + SVM\n",
    "ica_svm_dr1 = {\"n\":16}\n",
    "ica_svm_clf1 = {\"kernel\":\"rbf\", \"C\":1000, \"gamma\":1.5, \"coef0\":3, \"degree\":3}"
   ]
  },
  {
   "cell_type": "code",
   "execution_count": 12,
   "metadata": {},
   "outputs": [],
   "source": [
    "### UMAP + SVM\n",
    "umap_svm_dr1 = {\"n_neighbours\":3, \"min_dist\":0.4, \"n\":10}\n",
    "umap_svm_clf1 = {\"kernel\":\"poly\", \"C\":0.001, \"gamma\":1, \"coef0\":10, \"degree\":3}\n",
    "\n",
    "umap_svm_dr2 = {\"n_neighbours\":10, \"min_dist\":0.7, \"n\":18}\n",
    "umap_svm_clf2 = {\"kernel\":\"poly\", \"C\":0.001, \"gamma\":1.5, \"coef0\":10, \"degree\":3}\n",
    "\n",
    "umap_svm_dr3 = {\"n_neighbours\":5, \"min_dist\":0.7, \"n\":18}\n",
    "umap_svm_clf3 = {\"kernel\":\"poly\", \"C\":0.01, \"gamma\":1.5, \"coef0\":10, \"degree\":3}\n",
    "\n",
    "umap_svm_dr4 = {\"n_neighbours\":3, \"min_dist\":0.4, \"n\":22}\n",
    "umap_svm_clf4 = {\"kernel\":\"poly\", \"C\":0.001, \"gamma\":1.5, \"coef0\":10, \"degree\":3}\n",
    "\n",
    "umap_svm_dr5 = {\"n_neighbours\":10, \"min_dist\":0.1, \"n\":14}\n",
    "umap_svm_clf5 = {\"kernel\":\"poly\", \"C\":0.01, \"gamma\":1.5, \"coef0\":10, \"degree\":3}\n"
   ]
  },
  {
   "cell_type": "code",
   "execution_count": 13,
   "metadata": {},
   "outputs": [],
   "source": [
    "### FS + SVM\n",
    "fs_svm_dr1 = {\"a\":0.1},\n",
    "fs_svm_clf1 = {\"kernel\":\"poly\", \"C\":1, \"gamma\":1.5, \"coef0\":10, \"degree\":3}\n"
   ]
  },
  {
   "cell_type": "code",
   "execution_count": 14,
   "metadata": {},
   "outputs": [],
   "source": [
    "### PCA + XGB\n",
    "pca_xgb_dr1 = {\"n\":13}\n",
    "pca_xgb_clf1 = {'n': 30, 'c': 0.7, 's': 0.3, 'h': 4, \"lr\":0.3}\n",
    "\n",
    "pca_xgb_dr2 = {\"n\":10}\n",
    "pca_xgb_dr2 = {'n': 30, 'c': 0.7, 's': 0.3, 'h': 4, \"lr\":0.3}\n",
    "\n",
    "pca_xgb_dr3 = {\"n\":10}\n",
    "pca_xgb_clf3 = {'n': 70, 'c': 0.5, 's': 0.5, 'h': 5, \"lr\":0.3}"
   ]
  },
  {
   "cell_type": "code",
   "execution_count": 15,
   "metadata": {},
   "outputs": [],
   "source": [
    "### ICA + XGB\n",
    "ica_xgb_dr1 = {\"n\":5}\n",
    "ica_xgb_clf1 = {'n': 10, 'c': 0.1, 's': 0.5, 'h': 3, \"lr\":0.3}\n",
    "\n",
    "ica_xgb_dr2 = {\"n\":9}\n",
    "ica_xgb_clf2 = {'n': 300, 'c': 0.5, 's': 0.3, 'h': 4, \"lr\":0.3}\n",
    "\n",
    "ica_xgb_dr3 = {\"n\":11}\n",
    "ica_xgb_clf3 = {'n': 100, 'c': 0.3, 's': 0.5, 'h': 2, \"lr\":0.3}"
   ]
  },
  {
   "cell_type": "code",
   "execution_count": 16,
   "metadata": {},
   "outputs": [],
   "source": [
    "### UMAP + SGB\n",
    "umap_xgb_dr1 = {\"n_neighbours\":11, \"min_dist\":0.4, \"n\":10}\n",
    "umap_xgb_clf1 = {'n': 30, 'c': 0.7, 's': 0.3, 'h': 4, \"lr\":0.3}\n",
    "\n",
    "umap_xgb_dr2 = {\"n_neighbours\":11, \"min_dist\":0.4, \"n\":10}\n",
    "umap_xgb_clf2 = {'n': 30, 'c': 0.7, 's': 0.3, 'h': 4, \"lr\":0.3}"
   ]
  },
  {
   "cell_type": "code",
   "execution_count": 17,
   "metadata": {},
   "outputs": [],
   "source": [
    "##FS + XGB\n",
    "fs_xgb_dr1 = {\"a\":0.01},\n",
    "fs_xgb_clf1 = {'n': 30, 'c': 0.3, 's': 0.3, 'h': 4, \"lr\":0.3}\n",
    "\n",
    "fs_xgb_dr2 = {\"a\":0.005},\n",
    "fs_xgb_clf2 = {'n': 10, 'c': 0.3, 's': 0.7, 'h': 3, \"lr\":0.3}"
   ]
  },
  {
   "cell_type": "code",
   "execution_count": 18,
   "metadata": {},
   "outputs": [
    {
     "ename": "NameError",
     "evalue": "name 'pipelines' is not defined",
     "output_type": "error",
     "traceback": [
      "\u001b[0;31m--------------------------------------------------------------------\u001b[0m",
      "\u001b[0;31mNameError\u001b[0m                          Traceback (most recent call last)",
      "\u001b[0;32m<ipython-input-18-4286f1e3824f>\u001b[0m in \u001b[0;36m<module>\u001b[0;34m\u001b[0m\n\u001b[1;32m      8\u001b[0m             \u001b[0mcur_params\u001b[0m\u001b[0;34m[\u001b[0m\u001b[0mdr\u001b[0m\u001b[0;34m]\u001b[0m \u001b[0;34m=\u001b[0m \u001b[0mdr\u001b[0m\u001b[0;34m+\u001b[0m\u001b[0;34m\"_\"\u001b[0m\u001b[0;34m+\u001b[0m\u001b[0mclf\u001b[0m\u001b[0;34m+\u001b[0m\u001b[0;34m\"_dr\"\u001b[0m\u001b[0;34m+\u001b[0m\u001b[0mstr\u001b[0m\u001b[0;34m(\u001b[0m\u001b[0mi\u001b[0m\u001b[0;34m+\u001b[0m\u001b[0;36m1\u001b[0m\u001b[0;34m)\u001b[0m\u001b[0;34m\u001b[0m\u001b[0;34m\u001b[0m\u001b[0m\n\u001b[1;32m      9\u001b[0m             \u001b[0mcur_params\u001b[0m\u001b[0;34m[\u001b[0m\u001b[0mclf\u001b[0m\u001b[0;34m]\u001b[0m \u001b[0;34m=\u001b[0m \u001b[0mdr\u001b[0m\u001b[0;34m+\u001b[0m\u001b[0;34m\"_\"\u001b[0m\u001b[0;34m+\u001b[0m\u001b[0mclf\u001b[0m\u001b[0;34m+\u001b[0m\u001b[0;34m\"_clf\"\u001b[0m\u001b[0;34m+\u001b[0m\u001b[0mstr\u001b[0m\u001b[0;34m(\u001b[0m\u001b[0mi\u001b[0m\u001b[0;34m+\u001b[0m\u001b[0;36m1\u001b[0m\u001b[0;34m)\u001b[0m\u001b[0;34m\u001b[0m\u001b[0;34m\u001b[0m\u001b[0m\n\u001b[0;32m---> 10\u001b[0;31m             \u001b[0mcur_pipeline\u001b[0m \u001b[0;34m=\u001b[0m \u001b[0mpipelines\u001b[0m\u001b[0;34m.\u001b[0m\u001b[0mget_pipeline\u001b[0m\u001b[0;34m(\u001b[0m\u001b[0mdr\u001b[0m\u001b[0;34m,\u001b[0m \u001b[0mclf\u001b[0m\u001b[0;34m,\u001b[0m \u001b[0mcur_params\u001b[0m\u001b[0;34m)\u001b[0m\u001b[0;34m\u001b[0m\u001b[0;34m\u001b[0m\u001b[0m\n\u001b[0m\u001b[1;32m     11\u001b[0m             \u001b[0mcur_pipeline\u001b[0m\u001b[0;34m.\u001b[0m\u001b[0mfit\u001b[0m\u001b[0;34m(\u001b[0m\u001b[0mX_train_scaled\u001b[0m\u001b[0;34m,\u001b[0m \u001b[0my_train_sampled\u001b[0m\u001b[0;34m)\u001b[0m\u001b[0;34m\u001b[0m\u001b[0;34m\u001b[0m\u001b[0m\n\u001b[1;32m     12\u001b[0m             \u001b[0mclf_dict\u001b[0m\u001b[0;34m[\u001b[0m\u001b[0mdr\u001b[0m\u001b[0;34m+\u001b[0m\u001b[0;34m\"_\"\u001b[0m\u001b[0;34m+\u001b[0m\u001b[0mclf\u001b[0m\u001b[0;34m+\u001b[0m\u001b[0;34m\"_\"\u001b[0m\u001b[0;34m+\u001b[0m\u001b[0mstr\u001b[0m\u001b[0;34m(\u001b[0m\u001b[0mi\u001b[0m\u001b[0;34m+\u001b[0m\u001b[0;36m1\u001b[0m\u001b[0;34m)\u001b[0m\u001b[0;34m]\u001b[0m \u001b[0;34m=\u001b[0m \u001b[0mcur_pipeline\u001b[0m\u001b[0;34m\u001b[0m\u001b[0;34m\u001b[0m\u001b[0m\n",
      "\u001b[0;31mNameError\u001b[0m: name 'pipelines' is not defined"
     ]
    }
   ],
   "source": [
    "# add 5 sets of parameters into dictionary and feed to get_pipelines, train and then eval\n",
    "# try 1 set first\n",
    "for i in range(1):\n",
    "    clf_dict={}\n",
    "    for dr in [\"pca\", \"ica\", \"umap\", \"fs\"]:\n",
    "        for clf in [\"lr\", \"svm\", \"xgb\"]:            \n",
    "            cur_params = {}\n",
    "            cur_params[dr] = dr+\"_\"+clf+\"_dr\"+str(i+1)\n",
    "            cur_params[clf] = dr+\"_\"+clf+\"_clf\"+str(i+1)\n",
    "            cur_pipeline = pipelines.get_pipeline(dr, clf, cur_params)\n",
    "            cur_pipeline.fit(X_train_scaled, y_train_sampled)\n",
    "            clf_dict[dr+\"_\"+clf+\"_\"+str(i+1)] = cur_pipeline\n",
    "    \n",
    "    assert len(clf_dict) == 12\n",
    "    \n",
    "    evalfw.eval(clf_dict, X_test_scaled, y_test)"
   ]
  },
  {
   "cell_type": "code",
   "execution_count": 20,
   "metadata": {},
   "outputs": [
    {
     "ename": "NameError",
     "evalue": "name 'PCA' is not defined",
     "output_type": "error",
     "traceback": [
      "\u001b[0;31m--------------------------------------------------------------------\u001b[0m",
      "\u001b[0;31mNameError\u001b[0m                          Traceback (most recent call last)",
      "\u001b[0;32m<ipython-input-20-a451a3abfc50>\u001b[0m in \u001b[0;36m<module>\u001b[0;34m\u001b[0m\n\u001b[1;32m      1\u001b[0m \u001b[0;31m### List of default classifiers\u001b[0m\u001b[0;34m\u001b[0m\u001b[0;34m\u001b[0m\u001b[0;34m\u001b[0m\u001b[0m\n\u001b[0;32m----> 2\u001b[0;31m \u001b[0mpca\u001b[0m \u001b[0;34m=\u001b[0m \u001b[0mPCA\u001b[0m\u001b[0;34m(\u001b[0m\u001b[0;34m)\u001b[0m\u001b[0;34m\u001b[0m\u001b[0;34m\u001b[0m\u001b[0m\n\u001b[0m\u001b[1;32m      3\u001b[0m \u001b[0mica\u001b[0m \u001b[0;34m=\u001b[0m \u001b[0mFastICA\u001b[0m\u001b[0;34m(\u001b[0m\u001b[0;34m)\u001b[0m\u001b[0;34m\u001b[0m\u001b[0;34m\u001b[0m\u001b[0m\n\u001b[1;32m      4\u001b[0m \u001b[0mumap\u001b[0m \u001b[0;34m=\u001b[0m \u001b[0mUMAP\u001b[0m\u001b[0;34m(\u001b[0m\u001b[0;34m)\u001b[0m\u001b[0;34m\u001b[0m\u001b[0;34m\u001b[0m\u001b[0m\n\u001b[1;32m      5\u001b[0m \u001b[0mfs\u001b[0m \u001b[0;34m=\u001b[0m \u001b[0mSelectFromModel\u001b[0m\u001b[0;34m(\u001b[0m\u001b[0mLasso\u001b[0m\u001b[0;34m(\u001b[0m\u001b[0mrandom_state\u001b[0m\u001b[0;34m=\u001b[0m\u001b[0;36m42\u001b[0m\u001b[0;34m)\u001b[0m\u001b[0;34m)\u001b[0m\u001b[0;34m\u001b[0m\u001b[0;34m\u001b[0m\u001b[0m\n",
      "\u001b[0;31mNameError\u001b[0m: name 'PCA' is not defined"
     ]
    }
   ],
   "source": [
    "### List of default classifiers\n",
    "pca = PCA()\n",
    "ica = FastICA()\n",
    "umap = UMAP()\n",
    "fs = SelectFromModel(Lasso(random_state=42))\n",
    "lr = LogisticRegression(solver='saga')\n",
    "svm = SVC()\n",
    "xgb = xgb.XGBClassifier(\n",
    "                    objective='binary:logistic', \n",
    "                    seed=42, \n",
    "                    tree_method='gpu_hist',\n",
    "                )\n",
    "algos = {\n",
    "    \"pca\":pca,\n",
    "    \"ica\":ica,\n",
    "    \"umap\":umap,\n",
    "    \"fs\":fs,\n",
    "    \"lr\":lr,\n",
    "    \"svm\":svm,\n",
    "    \"xgb\":xgb\n",
    "}\n",
    "\n",
    "default_params_clf = {}\n",
    "for dr_name in [\"pca\", \"ica\", \"umap\", \"fs\"]:\n",
    "    for clf_name in [\"lr\", \"svm\", \"xgb\"]:  \n",
    "        cur_pipeline = ([\n",
    "            (\"dr\", algos[dr_name]),\n",
    "            (\"clf\", algos[clf_name])\n",
    "        ])\n",
    "        cur_pipeline.fit(X_train_scaled, y_train_sampled)\n",
    "        default_params_clf[dr_name+\"_\"+clf_name+\"_base\"] = cur_pipeline\n",
    "\n",
    "evalfw.eval(default_params_clf, X_test_scaled, y_test)"
   ]
  },
  {
   "cell_type": "code",
   "execution_count": null,
   "metadata": {},
   "outputs": [],
   "source": []
  },
  {
   "cell_type": "code",
   "execution_count": null,
   "metadata": {},
   "outputs": [],
   "source": []
  }
 ],
 "metadata": {
  "kernelspec": {
   "display_name": "Python 3",
   "language": "python",
   "name": "python3"
  },
  "language_info": {
   "codemirror_mode": {
    "name": "ipython",
    "version": 3
   },
   "file_extension": ".py",
   "mimetype": "text/x-python",
   "name": "python",
   "nbconvert_exporter": "python",
   "pygments_lexer": "ipython3",
   "version": "3.6.10"
  }
 },
 "nbformat": 4,
 "nbformat_minor": 2
}
