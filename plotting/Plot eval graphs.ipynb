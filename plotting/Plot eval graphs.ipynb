{
 "cells": [
  {
   "cell_type": "markdown",
   "metadata": {},
   "source": [
    "### precision graph by clf on PPMI testing\n"
   ]
  },
  {
   "cell_type": "code",
   "execution_count": 4,
   "metadata": {},
   "outputs": [],
   "source": [
    "import pandas as pd\n",
    "import numpy as np\n",
    "import matplotlib\n",
    "from matplotlib import pyplot as plt\n",
    "from sklearn import metrics"
   ]
  },
  {
   "cell_type": "code",
   "execution_count": 53,
   "metadata": {},
   "outputs": [],
   "source": [
    "# ## lr\n",
    "# prec = {\n",
    "#     \"pca_lr_prec\":[0.72, 0.7115384615384616, 0.72, 0.6792452830188679, 0.6727272727272727],\n",
    "#     \"ica_lr_prec\":[0.76, 0.7222222222222222, 0.7592592592592593, 0.75, 0.7],\n",
    "#     \"umap_lr_prec\":[0.6486486486486487, 0.6756756756756757, 0.6521739130434783, 0.6829268292682927, 0.6666666666666666],\n",
    "#     \"fs_lr_prec\":[0.7538461538461538, 0.7575757575757576, 0.74, 0.7575757575757576, 0.7424242424242424],\n",
    "#     \"vae_lr_prec\":[0.72, 0.7222222222222222, 0.6486486486486487,0.7538461538461538, 0.6521739130434783]\n",
    "# }\n",
    "\n",
    "# acc = {\n",
    "#     \"pca_lr_acc\":[0.5454545454545454, 0.5454545454545454, 0.5454545454545454, 0.5113636363636364, 0.5113636363636364],   \n",
    "#     \"ica_lr_acc\":[0.5909090909090909, 0.5681818181818182, 0.6136363636363636, 0.6136363636363636, 0.5681818181818182],\n",
    "#     \"umap_lr_acc\":[0.42045454545454547, 0.4431818181818182, 0.45454545454545453, 0.4659090909090909, 0.4318181818181818],\n",
    "#     \"fs_lr_acc\":[0.6704545454545454, 0.6818181818181818, 0.6818181818181818, 0.6818181818181818, 0.6590909090909091],    \n",
    "#     \"vae_lr_acc\":[0.5454545454545454, 0.5909090909090909, 0.6136363636363636, 0.6136363636363636, 0.6521739130434783]\n",
    "# }\n",
    "\n",
    "# f1 = {\n",
    "#     \"pca_lr_f1\":[0.6428571428571428, 0.6491228070175439, 0.6428571428571428, 0.6260869565217392, 0.6324786324786325],\n",
    "#     \"ica_lr_f1\":[0.6785714285714285, 0.6724137931034483, 0.7068965517241378, 0.7118644067796611, 0.6885245901639343],\n",
    "#     \"umap_lr_f1\":[0.48484848484848475, 0.5050505050505051, 0.5555555555555556, 0.5436893203883495, 0.4897959183673469],\n",
    "#     \"fs_lr_f1\":[0.7716535433070866, 0.7812499999999999, 0.7812499999999999, 0.7812499999999999, 0.7656250000000001],   \n",
    "#     \"vae_lr_f1\":[0.6785714285714285, 0.6724137931034483, 0.7068965517241378, 0.7118644067796611, 0.6885245901639343],   \n",
    "# }\n",
    "\n",
    "# metrics_dict = {\n",
    "#     \"precision\":prec,\n",
    "#     \"accuracy\":acc,\n",
    "#     \"f1\":f1\n",
    "# }"
   ]
  },
  {
   "cell_type": "code",
   "execution_count": 11,
   "metadata": {},
   "outputs": [],
   "source": [
    "## svm\n",
    "prec = {\n",
    "    \"pca_svm_prec\":[0.7605633802816901, 0.7761194029850746, 0.7538461538461538, 0.7692307692307693, 0.7868852459016393],\n",
    "    \"ica_svm_prec\":[0.78, 0.7758620689655172, 0.7758620689655172, 0.7678571428571429, 0.7678571428571429],\n",
    "    \"umap_svm_prec\":[0.673469387755102, 0.7636363636363637, 0.7142857142857143, 0.7307692307692307, 0.7727272727272727],\n",
    "    \"fs_svm_prec\":[0.75, 0.7538461538461538, 0.75, 0.7575757575757576, 0.74],\n",
    "    \"vae_svm_prec\":[0.72, 0.7222222222222222, 0.6486486486486487,0.7538461538461538, 0.6521739130434783]\n",
    "}\n",
    "\n",
    "# acc = {\n",
    "#     \"pca_svm_acc\":[0.7159090909090909, 0.7159090909090909, 0.6704545454545454, 0.6931818181818182, 0.6931818181818182],\n",
    "#     \"ica_svm_acc\":[0.6590909090909091, 0.6590909090909091, 0.6590909090909091, 0.6363636363636364, 0.6363636363636364],\n",
    "#     \"umap_svm_acc\":[0.48863636363636365, 0.625, 0.5, 0.5681818181818182, 0.5681818181818182],\n",
    "#     \"fs_svm_acc\":[0.5681818181818182, 0.5681818181818182, 0.5909090909090909, 0.5681818181818182, 0.5909090909090909],    \n",
    "#     \"vae_svm_acc\":[0.5454545454545454, 0.5909090909090909, 0.6136363636363636, 0.6136363636363636, 0.6521739130434783]\n",
    "# }\n",
    "\n",
    "# f1 = {\n",
    "#     \"pca_svm_f1\":[0.8120300751879699, 0.8062015503875968, 0.7716535433070866, 0.7874015748031495, 0.7804878048780488],\n",
    "#     \"ica_svm_f1\":[0.7500000000000001, 0.7500000000000001, 0.7500000000000001, 0.7288135593220338, 0.7288135593220338],\n",
    "#     \"umap_svm_f1\":[0.5945945945945945, 0.7179487179487181, 0.5769230769230769, 0.6666666666666667, 0.6415094339622641],\n",
    "#     \"fs_svm_f1\":[0.6545454545454547, 0.6545454545454547, 0.6842105263157896, 0.6545454545454547, 0.6842105263157896],   \n",
    "#     \"vae_svm_f1\":[0.6785714285714285, 0.6724137931034483, 0.7068965517241378, 0.7118644067796611, 0.6885245901639343],   \n",
    "# }\n",
    "\n",
    "metrics_dict = {\n",
    "    \"precision\":prec,\n",
    "#     \"accuracy\":acc,\n",
    "#     \"f1\":f1\n",
    "}"
   ]
  },
  {
   "cell_type": "code",
   "execution_count": 12,
   "metadata": {},
   "outputs": [],
   "source": [
    "# ## xgb\n",
    "# prec = {\n",
    "#     \"pca_xgb_prec\":[0.7313432835820896, 0.8214285714285714, 0.7540983606557377, 0.75, 0.7413793103448276],\n",
    "#     \"ica_xgb_prec\":[0.7307692307692307, 0.7, 0.7192982456140351, 0.8035714285714286, 0.7083333333333334],\n",
    "#     \"umap_xgb_prec\":[0.7142857142857143, 0.75, 0.8181818181818182, 0.75, 0.5],\n",
    "#     \"fs_xgb_prec\":[0.803030303030303, 0.8064516129032258, 0.7735849056603774, 0.7735849056603774, 0.75],\n",
    "#     \"vae_xgb_prec\":[0.72, 0.7222222222222222, 0.6486486486486487,0.7538461538461538, 0.6521739130434783]\n",
    "# }\n",
    "\n",
    "# # acc = {\n",
    "# #     \"pca_xgb_acc\":[0.6477272727272727, 0.7045454545454546, 0.6477272727272727, 0.6363636363636364, 0.6136363636363636],\n",
    "# #     \"ica_xgb_acc\":[0.5681818181818182, 0.5681818181818182, 0.5795454545454546, 0.6818181818181818, 0.5227272727272727],\n",
    "# #     \"umap_xgb_acc\":[0.32954545454545453, 0.4090909090909091, 0.375, 0.3409090909090909, 0.29545454545454547],\n",
    "# #     \"fs_xgb_acc\":[0.75, 0.7272727272727273, 0.625, 0.625, 0.5454545454545454],    \n",
    "# #     \"vae_xgb_acc\":[0.5454545454545454, 0.5909090909090909, 0.6136363636363636, 0.6136363636363636, 0.6521739130434783]\n",
    "# # }\n",
    "\n",
    "# # f1 = {\n",
    "# #     \"pca_xgb_f1\":[0.7596899224806203, 0.7796610169491526, 0.7479674796747967, 0.7377049180327869, 0.7166666666666668],\n",
    "# #     \"ica_xgb_f1\":[0.6666666666666667, 0.6885245901639343, 0.689075630252101, 0.7627118644067797, 0.6181818181818182],\n",
    "# #     \"umap_xgb_f1\":[0.14492753623188404, 0.36585365853658536, 0.24657534246575347, 0.1714285714285714, 0.08823529411764706],\n",
    "# #     \"fs_xgb_f1\":[0.828125, 0.8064516129032258, 0.7130434782608696, 0.7130434782608696, 0.6226415094339622],   \n",
    "# #     \"vae_xgb_f1\":[0.6785714285714285, 0.6724137931034483, 0.7068965517241378, 0.7118644067796611, 0.6885245901639343],   \n",
    "# # }\n",
    "\n",
    "# metrics_dict = {\n",
    "#     \"precision\":prec,\n",
    "# #     \"accuracy\":acc,\n",
    "# #     \"f1\":f1\n",
    "# }"
   ]
  },
  {
   "cell_type": "code",
   "execution_count": 13,
   "metadata": {},
   "outputs": [
    {
     "data": {
      "image/png": "[encoded data removed]",
      "text/plain": [
       "<Figure size 720x360 with 1 Axes>"
      ]
     },
     "metadata": {
      "needs_background": "light"
     },
     "output_type": "display_data"
    }
   ],
   "source": [
    "# mean_std = {\n",
    "#     \"pca_lr\":[],\n",
    "#     \"ica_lr\":[],\n",
    "#     \"umap_lr\":[],\n",
    "#     \"fs_lr\":[],\n",
    "#     \"vae_lr\":[]\n",
    "# }\n",
    "\n",
    "clf = \"svm\"\n",
    "labels = []\n",
    "for dr in [\"pca\", \"ica\", \"umap\", \"fs\", \"vae\"]:\n",
    "    labels.append( dr+\"+\"+clf)\n",
    "    \n",
    "fig = plt.figure(figsize=(10,5))\n",
    "idx = 1\n",
    "for metric in [\"precision\"]:  #\"accuracy\", \"f1\"\n",
    "    data = [metrics_dict[metric][key] for key in metrics_dict[metric]]\n",
    "    ax = fig.add_subplot(1,1,idx)\n",
    "    #styling the boxes\n",
    "    boxprops = dict(linestyle='-', linewidth=2, color='#7570b3')\n",
    "    medianprops = dict(linestyle='-', linewidth=2, color='firebrick')\n",
    "    whiskerprops = dict(linestyle='-', linewidth=2, color='#7570b3')\n",
    "    capprops = dict(linestyle='-', linewidth=2, color='C1')\n",
    "        \n",
    "    bp = ax.boxplot(data, showmeans=True, labels=labels, widths=0.4, whiskerprops=whiskerprops, medianprops=medianprops,boxprops=boxprops, capprops=capprops)\n",
    "#     print(bp)\n",
    "    idx += 1\n",
    "    ax.set_ylabel(metric)\n",
    "    ax.legend([bp[\"caps\"][0], bp[\"boxes\"][0], bp[\"medians\"][0], bp[\"fliers\"][0], bp[\"\"]], [\"max/min\", \"25% - 75%\", \"medians\", \"ourliers\"], loc='lower left')\n",
    "#     handles, labels = ax.get_legend_handles_labels()\n",
    "    ax.yaxis.grid(True) # Hide the horizontal gridlines\n",
    "    ax.xaxis.grid(True) # Show the vertical gridlines\n",
    "fig.suptitle(\"Box plots of various pipelines for Support Vector Machine\")\n",
    "plt.savefig(\"plots/eval/boxplots/\"+clf+\"_precs.png\")\n",
    "plt.show()"
   ]
  },
  {
   "cell_type": "code",
   "execution_count": null,
   "metadata": {},
   "outputs": [],
   "source": []
  }
 ],
 "metadata": {
  "kernelspec": {
   "display_name": "Python 3",
   "language": "python",
   "name": "python3"
  },
  "language_info": {
   "codemirror_mode": {
    "name": "ipython",
    "version": 3
   },
   "file_extension": ".py",
   "mimetype": "text/x-python",
   "name": "python",
   "nbconvert_exporter": "python",
   "pygments_lexer": "ipython3",
   "version": "3.6.10"
  }
 },
 "nbformat": 4,
 "nbformat_minor": 4
}
