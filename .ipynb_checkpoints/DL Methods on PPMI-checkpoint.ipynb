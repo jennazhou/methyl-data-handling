{
 "cells": [
  {
   "cell_type": "markdown",
   "metadata": {},
   "source": [
    "## Deep Learning Methods "
   ]
  },
  {
   "cell_type": "markdown",
   "metadata": {},
   "source": [
    "### DL Methods"
   ]
  },
  {
   "cell_type": "code",
   "execution_count": 2,
   "metadata": {},
   "outputs": [],
   "source": [
    "import pandas as pd\n",
    "import numpy as np\n",
    "\n",
    "from sklearn.preprocessing import LabelEncoder\n",
    "from sklearn.model_selection import StratifiedShuffleSplit\n",
    "from sklearn.model_selection import StratifiedKFold\n",
    "from sklearn.preprocessing import StandardScaler"
   ]
  },
  {
   "cell_type": "code",
   "execution_count": 3,
   "metadata": {},
   "outputs": [
    {
     "name": "stderr",
     "output_type": "stream",
     "text": [
      "/home/rz296/miniconda3/envs/dlenv/lib/python3.6/site-packages/IPython/core/interactiveshell.py:3063: DtypeWarning: Columns (1,2,3,4,5,6,7,8,9,10,11,12,13,14,15,16,17,18,19,20,21,22,23,24,25,26,27,28,29,30,31,32,33,34,35,36,37,38,39,40,41,42,43,44,45,46,47,48,49,50,51,52,53,54,55,56,57,58,59,60,61,62,63,64,65,66,67,68,69,70,71,72,73,74,75,76,77,78,79,80,81,82,83,84,85,86,87,88,89,90,91,92,93,94,95,96,97,98,99,100,101,102,103,104,105,106,107,108,109,110,111,112,113,114,115,116,117,118,119,120,121,122,123,124,125,126,127,128,129,130,131,132,133,134,135,136,137,138,139,140,141,142,143,144,145,146,147,148,149,150,151,152,153,154,155,156,157,158,159,160,161,162,163,164,165,166,167,168,169,170,171,172,173,174,175,176,177,178,179,180,181,182,183,184,185,186,187,188,189,190,191,192,193,194,195,196,197,198,199,200,201,202,203,204,205,206,207,208,209,210,211,212,213,214,215,216,217,218,219,220,221,222,223,224,225,226,227,228,229,230,231,232,233,234,235,236,237,238,239,240,241,242,243,244,245,246,247,248,249,250,251,252,253,254,255,256,257,258,259,260,261,262,263,264,265,266,267,268,269,270,271,272,273,274,275,276,277,278,279,280,281,282,283,284,285,286,287,288,289,290,291,292,293,294,295,296,297,298,299,300,301,302,303,304,305,306,307,308,309,310,311,312,313,314,315,316,317,318,319,320,321,322,323,324,325,326,327,328,329,330,331,332,333,334,335,336,337,338,339,340,341,342,343,344,345,346,347,348,349,350,351,352,353,354,355,356,357,358,359,360,361,362,363,364,365,366,367,368,369,370,371,372,373,374,375,376,377,378,379,380,381,382,383,384,385,386,387,388,389,390,391,392,393,394,395,396,397,398,399,400,401,402,403,404,405,406,407,408,409,410,411,412,413,414,415,416,417,418,419,420,421,422,423,424,425,426,427,428,429,430,431,432,433,434,435,436) have mixed types.Specify dtype option on import or set low_memory=False.\n",
      "  interactivity=interactivity, compiler=compiler, result=result)\n"
     ]
    },
    {
     "name": "stdout",
     "output_type": "stream",
     "text": [
      "(436, 747668)\n",
      "(436,)\n",
      "TRAIN: 348 TEST: 88\n"
     ]
    }
   ],
   "source": [
    "###Get dataset\n",
    "ppmi = pd.read_csv('./trans_processed_PPMI_data.csv')\n",
    "ppmi.rename(columns={'Unnamed: 0':'Sentrix_position'}, inplace=True)\n",
    "ppmi.set_index('Sentrix_position', inplace=True)\n",
    "ppmi = ppmi.transpose()\n",
    "\n",
    "encoder = LabelEncoder()\n",
    "label = encoder.fit_transform(ppmi['Category'])\n",
    "\n",
    "tr = ppmi.drop(['Category'], axis=1)\n",
    "X = tr.values\n",
    "y = label\n",
    "print(X.shape)\n",
    "print(y.shape)\n",
    "\n",
    "split = StratifiedShuffleSplit(n_splits=1, test_size=0.2, random_state=42)\n",
    "split.get_n_splits(X, y)\n",
    "\n",
    "for train_index, test_index in split.split(X, y):\n",
    "    print(\"TRAIN:\", len(train_index), \"TEST:\", len(test_index))\n",
    "    X_train, X_test = X[train_index], X[test_index]\n",
    "    y_train, y_test = y[train_index], y[test_index]\n",
    "\n",
    "    \n",
    "scaler = StandardScaler()\n",
    "X_train_scaled = scaler.fit_transform(X_train)\n",
    "X_test_scaled = scaler.transform(X_test)\n",
    "    "
   ]
  },
  {
   "cell_type": "markdown",
   "metadata": {},
   "source": [
    "## VAE"
   ]
  },
  {
   "cell_type": "code",
   "execution_count": null,
   "metadata": {},
   "outputs": [],
   "source": [
    "###Variational Autoencoder to get the latent layer\n",
    "from __future__ import absolute_import\n",
    "from __future__ import division\n",
    "from __future__ import print_function\n",
    "\n",
    "from keras.layers import Lambda, Input, Dense\n",
    "from keras.models import Model\n",
    "from keras.datasets import mnist\n",
    "from keras.losses import mse, binary_crossentropy\n",
    "from keras.utils import plot_model\n",
    "from keras import backend as K\n",
    "\n",
    "import argparse\n",
    "import os\n",
    "\n",
    "def sampling(args):\n",
    "    \"\"\"Reparameterization trick by sampling from an isotropic unit Gaussian.\n",
    "    # Arguments\n",
    "        args (tensor): mean and log of variance of Q(z|X)\n",
    "    # Returns\n",
    "        z (tensor): sampled latent vector\n",
    "    \"\"\"\n",
    "\n",
    "    z_mean, z_log_var = args\n",
    "    batch = K.shape(z_mean)[0]\n",
    "    dim = K.int_shape(z_mean)[1]\n",
    "    # by default, random_normal has mean = 0 and std = 1.0\n",
    "    epsilon = K.random_normal(shape=(batch, dim))\n",
    "    return z_mean + K.exp(0.5 * z_log_var) * epsilon\n",
    "\n",
    "original_dim = X.shape[1]\n",
    "\n",
    "# network parameters\n",
    "input_shape = (original_dim, )\n",
    "intermediate_dim = 512\n",
    "batch_size = X.shape[0]\n",
    "latent_dim = 128\n",
    "epochs = 50\n",
    "\n",
    "# VAE model = encoder + decoder\n",
    "# build encoder model\n",
    "inputs = Input(shape=input_shape, name='encoder_input')\n",
    "x = Dense(intermediate_dim, activation='relu')(inputs)\n",
    "z_mean = Dense(latent_dim, name='z_mean')(x)\n",
    "z_log_var = Dense(latent_dim, name='z_log_var')(x)\n",
    "\n",
    "# use reparameterization trick to push the sampling out as input\n",
    "# note that \"output_shape\" isn't necessary with the TensorFlow backend\n",
    "z = Lambda(sampling, output_shape=(latent_dim,), name='z')([z_mean, z_log_var])\n",
    "\n",
    "# instantiate encoder model\n",
    "encoder = Model(inputs, [z_mean, z_log_var, z], name='encoder')\n",
    "encoder.summary()"
   ]
  },
  {
   "cell_type": "markdown",
   "metadata": {},
   "source": [
    "## MLP"
   ]
  },
  {
   "cell_type": "code",
   "execution_count": 1,
   "metadata": {},
   "outputs": [
    {
     "name": "stderr",
     "output_type": "stream",
     "text": [
      "Using TensorFlow backend.\n"
     ]
    }
   ],
   "source": [
    "from keras import backend as K\n",
    "import tensorflow as tf\n",
    "from tensorflow import keras\n",
    "from keras.models import Sequential\n",
    "from keras.layers import Dense, Dropout\n",
    "from keras.utils import to_categorical\n",
    "from keras.utils import multi_gpu_model"
   ]
  },
  {
   "cell_type": "code",
   "execution_count": 13,
   "metadata": {},
   "outputs": [
    {
     "name": "stdout",
     "output_type": "stream",
     "text": [
      "Train on 348 samples, validate on 88 samples\n",
      "Epoch 1/20\n",
      "348/348 [==============================] - 10s 29ms/step - loss: 126.0501 - accuracy: 0.5144 - val_loss: 59.1049 - val_accuracy: 0.5739\n",
      "Epoch 2/20\n",
      "348/348 [==============================] - 10s 28ms/step - loss: 114.5837 - accuracy: 0.6466 - val_loss: 52.6317 - val_accuracy: 0.6420\n",
      "Epoch 3/20\n",
      "348/348 [==============================] - 10s 29ms/step - loss: 80.7360 - accuracy: 0.6695 - val_loss: 51.6491 - val_accuracy: 0.6761\n",
      "Epoch 4/20\n",
      "348/348 [==============================] - 10s 29ms/step - loss: 76.2096 - accuracy: 0.6968 - val_loss: 56.3518 - val_accuracy: 0.6818\n",
      "Epoch 5/20\n",
      "348/348 [==============================] - 10s 28ms/step - loss: 54.8438 - accuracy: 0.7500 - val_loss: 46.0043 - val_accuracy: 0.6477\n",
      "Epoch 6/20\n",
      "348/348 [==============================] - 10s 28ms/step - loss: 46.8770 - accuracy: 0.7471 - val_loss: 27.9090 - val_accuracy: 0.6420\n",
      "Epoch 7/20\n",
      "348/348 [==============================] - 10s 28ms/step - loss: 37.5932 - accuracy: 0.7586 - val_loss: 30.4954 - val_accuracy: 0.6534\n",
      "Epoch 8/20\n",
      "348/348 [==============================] - 10s 28ms/step - loss: 33.9683 - accuracy: 0.7931 - val_loss: 44.2375 - val_accuracy: 0.6761\n",
      "Epoch 9/20\n",
      "348/348 [==============================] - 10s 29ms/step - loss: 27.6166 - accuracy: 0.8118 - val_loss: 42.1265 - val_accuracy: 0.6136\n",
      "Epoch 10/20\n",
      "348/348 [==============================] - 10s 29ms/step - loss: 23.9048 - accuracy: 0.8204 - val_loss: 30.9631 - val_accuracy: 0.6420\n",
      "Epoch 11/20\n",
      "348/348 [==============================] - 10s 28ms/step - loss: 20.2653 - accuracy: 0.8147 - val_loss: 21.8485 - val_accuracy: 0.6080\n",
      "Epoch 12/20\n",
      "348/348 [==============================] - 10s 29ms/step - loss: 15.9376 - accuracy: 0.8261 - val_loss: 21.7099 - val_accuracy: 0.7045\n",
      "Epoch 13/20\n",
      "348/348 [==============================] - 10s 28ms/step - loss: 18.4472 - accuracy: 0.8233 - val_loss: 16.8122 - val_accuracy: 0.6705\n",
      "Epoch 14/20\n",
      "348/348 [==============================] - 10s 29ms/step - loss: 9.7953 - accuracy: 0.8606 - val_loss: 18.3055 - val_accuracy: 0.6932\n",
      "Epoch 15/20\n",
      "348/348 [==============================] - 10s 29ms/step - loss: 5.5011 - accuracy: 0.8750 - val_loss: 17.4733 - val_accuracy: 0.6818\n",
      "Epoch 16/20\n",
      "348/348 [==============================] - 10s 28ms/step - loss: 11.1971 - accuracy: 0.8333 - val_loss: 19.0816 - val_accuracy: 0.5739\n",
      "Epoch 17/20\n",
      "348/348 [==============================] - 10s 29ms/step - loss: 9.2315 - accuracy: 0.8103 - val_loss: 19.9925 - val_accuracy: 0.6080\n",
      "Epoch 18/20\n",
      "348/348 [==============================] - 10s 28ms/step - loss: 5.6782 - accuracy: 0.8807 - val_loss: 16.9950 - val_accuracy: 0.6307\n",
      "Epoch 19/20\n",
      "348/348 [==============================] - 10s 28ms/step - loss: 5.5796 - accuracy: 0.8649 - val_loss: 18.5297 - val_accuracy: 0.6591\n",
      "Epoch 20/20\n",
      "348/348 [==============================] - 10s 28ms/step - loss: 5.2755 - accuracy: 0.8922 - val_loss: 18.6817 - val_accuracy: 0.6023\n"
     ]
    }
   ],
   "source": [
    "# Build the model.\n",
    "# Anyhow give parameters first\n",
    "mlp = Sequential([\n",
    "  Dense(64, activation='relu', input_shape=(747668,), kernel_initializer='uniform'),\n",
    "  Dropout(0.3, seed=42),\n",
    "  Dense(32, activation='relu'),\n",
    "  Dropout(0.3, seed=42),\n",
    "#   Dense(8, activation='relu'),\n",
    "#   Dropout(Dropout(0.50, seed=42)),\n",
    "  Dense(2, activation='sigmoid'),\n",
    "])\n",
    "\n",
    "# split a single job to multiple GPUs\n",
    "# mlp = multi_gpu_model(mlp, gpus=3)\n",
    "\n",
    "# Compile the model\n",
    "mlp.compile(\n",
    "  optimizer='Adam',\n",
    "  loss='binary_crossentropy',\n",
    "  metrics=['accuracy'],\n",
    ")\n",
    "\n",
    "# Train the data\n",
    "history = mlp.fit(\n",
    "    X_train_scaled, # training data\n",
    "    to_categorical(y_train), # training targets\n",
    "    epochs=20, #need to manually change\n",
    "    batch_size=10, #need to manually change\n",
    "    verbose=1,\n",
    "    validation_data=(X_test_scaled, to_categorical(y_test)))\n"
   ]
  },
  {
   "cell_type": "code",
   "execution_count": 12,
   "metadata": {},
   "outputs": [
    {
     "ename": "AttributeError",
     "evalue": "module 'tensorflow' has no attribute 'Session'",
     "output_type": "error",
     "traceback": [
      "\u001b[0;31m---------------------------------------------------------------------\u001b[0m",
      "\u001b[0;31mAttributeError\u001b[0m                      Traceback (most recent call last)",
      "\u001b[0;32m<ipython-input-12-0f0f12c24d95>\u001b[0m in \u001b[0;36m<module>\u001b[0;34m\u001b[0m\n\u001b[0;32m----> 1\u001b[0;31m \u001b[0msess\u001b[0m\u001b[0;34m=\u001b[0m\u001b[0mtf\u001b[0m\u001b[0;34m.\u001b[0m\u001b[0mSession\u001b[0m\u001b[0;34m(\u001b[0m\u001b[0;34m)\u001b[0m\u001b[0;34m\u001b[0m\u001b[0;34m\u001b[0m\u001b[0m\n\u001b[0m",
      "\u001b[0;31mAttributeError\u001b[0m: module 'tensorflow' has no attribute 'Session'"
     ]
    }
   ],
   "source": [
    "# sess=tf.Session()"
   ]
  },
  {
   "cell_type": "code",
   "execution_count": 8,
   "metadata": {},
   "outputs": [],
   "source": [
    "import matplotlib\n",
    "from matplotlib import pyplot as plt"
   ]
  },
  {
   "cell_type": "code",
   "execution_count": 9,
   "metadata": {},
   "outputs": [
    {
     "name": "stdout",
     "output_type": "stream",
     "text": [
      "dict_keys(['val_loss', 'val_accuracy', 'loss', 'accuracy'])\n"
     ]
    },
    {
     "data": {
      "image/png": "[encoded data removed]",
      "text/plain": [
       "<Figure size 432x288 with 1 Axes>"
      ]
     },
     "metadata": {
      "needs_background": "light"
     },
     "output_type": "display_data"
    },
    {
     "data": {
      "image/png": "[encoded data removed]",
      "text/plain": [
       "<Figure size 432x288 with 1 Axes>"
      ]
     },
     "metadata": {
      "needs_background": "light"
     },
     "output_type": "display_data"
    }
   ],
   "source": [
    "#Plot graph\n",
    "print(history.history.keys())\n",
    "# summarize history for accuracy\n",
    "plt.plot(history.history['accuracy'])\n",
    "plt.plot(history.history['val_accuracy'])\n",
    "plt.title('model accuracy')\n",
    "plt.ylabel('accuracy')\n",
    "plt.xlabel('epoch')\n",
    "plt.ylim(0.5,1)\n",
    "plt.xlim(0,20)\n",
    "plt.legend(['train', 'test'], loc='upper left')\n",
    "plt.show()\n",
    "# summarize history for loss\n",
    "plt.plot(history.history['loss'])\n",
    "plt.plot(history.history['val_loss'])\n",
    "plt.title('model loss')\n",
    "plt.ylabel('loss')\n",
    "plt.xlabel('epoch')\n",
    "plt.ylim(0.5,1)\n",
    "plt.xlim(0,20)\n",
    "plt.legend(['train', 'test'], loc='upper left')\n",
    "plt.show()"
   ]
  },
  {
   "cell_type": "code",
   "execution_count": null,
   "metadata": {},
   "outputs": [],
   "source": [
    "###With softmax\n",
    "# Build the model.\n",
    "# Anyhow give parameters first\n",
    "mlp = Sequential([\n",
    "  Dense(64, activation='relu', input_shape=(747668,), kernel_initializer='normal'),\n",
    "  Dropout(0.3, seed=42),\n",
    "  Dense(32, activation='elu'),\n",
    "  Dropout(0.3, seed=42),\n",
    "#   Dense(8, activation='relu'),\n",
    "#   Dropout(Dropout(0.50, seed=42)),\n",
    "  Dense(2, activation='softmax'),\n",
    "])\n",
    "\n",
    "# split a single job to multiple GPUs\n",
    "# mlp = multi_gpu_model(mlp, gpus=3)\n",
    "\n",
    "# Compile the model\n",
    "mlp.compile(\n",
    "  optimizer='Adam',\n",
    "  loss='binary_crossentropy',\n",
    "  metrics=['accuracy'],\n",
    ")\n",
    "\n",
    "# Train the data\n",
    "history = mlp.fit(\n",
    "    X_train_scaled, # training data\n",
    "    to_categorical(y_train), # training targets\n",
    "    epochs=20, #need to manually change\n",
    "    batch_size=10, #need to manually change\n",
    "    verbose=1,\n",
    "    validation_data=(X_test_scaled, to_categorical(y_test)))\n"
   ]
  },
  {
   "cell_type": "code",
   "execution_count": null,
   "metadata": {},
   "outputs": [],
   "source": []
  }
 ],
 "metadata": {
  "kernelspec": {
   "display_name": "Python 3",
   "language": "python",
   "name": "python3"
  },
  "language_info": {
   "codemirror_mode": {
    "name": "ipython",
    "version": 3
   },
   "file_extension": ".py",
   "mimetype": "text/x-python",
   "name": "python",
   "nbconvert_exporter": "python",
   "pygments_lexer": "ipython3",
   "version": "3.6.10"
  }
 },
 "nbformat": 4,
 "nbformat_minor": 2
}
